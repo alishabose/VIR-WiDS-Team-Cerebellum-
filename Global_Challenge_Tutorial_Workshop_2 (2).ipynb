{
 "cells": [
  {
   "cell_type": "code",
   "execution_count": null,
   "metadata": {
    "id": "-vMVo3TS2c3T"
   },
   "outputs": [],
   "source": [
    "import numpy as np\n",
    "import pandas as pd\n",
    "import seaborn as sns\n",
    "\n",
    "import os\n",
    "import matplotlib.pyplot as plt\n",
    "\n",
    "import sklearn\n",
    "from sklearn.svm import SVC\n",
    "from sklearn.metrics import balanced_accuracy_score, roc_auc_score, accuracy_score, confusion_matrix, roc_curve\n",
    "from scipy.stats import zscore, pearsonr, uniform\n",
    "from sklearn.linear_model import Ridge\n",
    "from sklearn.model_selection import KFold, StratifiedKFold, RandomizedSearchCV\n",
    "\n",
    "from scipy.io import loadmat\n",
    "\n",
    "from sklearn.model_selection import train_test_split\n",
    "from sklearn.preprocessing import StandardScaler\n",
    "from sklearn.metrics import roc_auc_score\n",
    "from sklearn.metrics import accuracy_score"
   ]
  },
  {
   "cell_type": "markdown",
   "metadata": {
    "id": "fjPj9W2f3ygn"
   },
   "source": [
    "## Load in dataframes"
   ]
  },
  {
   "cell_type": "code",
   "execution_count": null,
   "metadata": {
    "id": "ZL9Fy4Be2izZ",
    "outputId": "e23dbed0-db4c-4ca7-c20f-74ce89604cfe"
   },
   "outputs": [],
   "source": [
    "# categorical variable train dataframe\n",
    "\n",
    "file_path_trainC = \"/Users/emilysteinmetz/Downloads/widsdatathon2025/TRAIN/TRAIN_CATEGORICAL_METADATA.csv\"\n",
    "train_cat = pd.read_csv(file_path_trainC)\n",
    "train_cat.head()"
   ]
  },
  {
   "cell_type": "code",
   "execution_count": null,
   "metadata": {
    "id": "EsX0e0RU4jex",
    "outputId": "773ffe46-98f2-4180-fa89-f4133159cca4"
   },
   "outputs": [],
   "source": [
    "train_cat.columns"
   ]
  },
  {
   "cell_type": "code",
   "execution_count": null,
   "metadata": {
    "id": "s4NdiAR22oSv",
    "outputId": "2321716f-15e6-4730-d596-628716617dbc"
   },
   "outputs": [],
   "source": [
    "# Functional Connectome Matrices\n",
    "\n",
    "file_path_trainFCM = \"/Users/emilysteinmetz/Downloads/widsdatathon2025/TRAIN/TRAIN_FUNCTIONAL_CONNECTOME_MATRICES.csv\"\n",
    "train_FCM = pd.read_csv(file_path_trainFCM)\n",
    "train_FCM.head()"
   ]
  },
  {
   "cell_type": "code",
   "execution_count": null,
   "metadata": {
    "id": "i22tDJMV4nYe",
    "outputId": "5b70d537-06cd-47dc-aa13-07f426827bbe"
   },
   "outputs": [],
   "source": [
    "train_FCM.columns"
   ]
  },
  {
   "cell_type": "code",
   "execution_count": null,
   "metadata": {
    "id": "yrNo0SP-2pz2",
    "outputId": "c447c79d-f4ee-4222-b233-6aad0b4edbcf"
   },
   "outputs": [],
   "source": [
    "# Quantitative varaible train dataframe\n",
    "\n",
    "file_path_trainQ = \"/Users/emilysteinmetz/Downloads/widsdatathon2025/TRAIN/TRAIN_QUANTITATIVE_METADATA.CSV\"\n",
    "train_Quant = pd.read_csv(file_path_trainQ)\n",
    "train_Quant.head()"
   ]
  },
  {
   "cell_type": "code",
   "execution_count": null,
   "metadata": {
    "id": "YLHWTGKH4qBz",
    "outputId": "a60d19b6-ca1b-4acb-d82b-a43bd0fdc8ca"
   },
   "outputs": [],
   "source": [
    "train_Quant.columns"
   ]
  },
  {
   "cell_type": "code",
   "execution_count": null,
   "metadata": {
    "id": "mIXLPfwm6WGl",
    "outputId": "9eb39157-5bb4-42b3-c33c-33be91f86c98"
   },
   "outputs": [],
   "source": [
    "# ADHD and Sex solutions dataframe for model training\n",
    "\n",
    "file_path_trainS = \"/Users/emilysteinmetz/Downloads/widsdatathon2025/TRAIN/TRAINING_SOLUTIONS.csv\"\n",
    "train_Solutions = pd.read_csv(file_path_trainS)\n",
    "train_Solutions.head()"
   ]
  },
  {
   "cell_type": "code",
   "execution_count": null,
   "metadata": {
    "id": "fwTsWx1x4r-d",
    "outputId": "4874fbe0-4fa3-4195-bff6-9527b3f9535f"
   },
   "outputs": [],
   "source": [
    "train_Solutions.columns"
   ]
  },
  {
   "cell_type": "markdown",
   "metadata": {
    "id": "wZAznwsu2RSe"
   },
   "source": [
    "## Exploratory Data Analysis"
   ]
  },
  {
   "cell_type": "markdown",
   "metadata": {
    "id": "sjcRtC7Y6n2M"
   },
   "source": [
    "Exploratory Data Analysis (EDA) is a way to understand your dataset by looking at its patterns, trends, and relationships. It helps identify missing data, outliers, and how variables interact."
   ]
  },
  {
   "cell_type": "markdown",
   "metadata": {
    "id": "ehhDhkyc6xlG"
   },
   "source": [
    "Use `.info()` and `.describe()` to summarize each dataset."
   ]
  },
  {
   "cell_type": "code",
   "execution_count": null,
   "metadata": {
    "id": "zKW7OdUu2WwO",
    "outputId": "bdd3a580-461d-4f3d-ed93-44d2490e2160"
   },
   "outputs": [],
   "source": [
    "train_cat.info()"
   ]
  },
  {
   "cell_type": "markdown",
   "metadata": {
    "id": "fZ1Exwz44tpV"
   },
   "source": [
    "Understand the distribution of the categorical variables with `.value_counts()`."
   ]
  },
  {
   "cell_type": "code",
   "execution_count": null,
   "metadata": {
    "id": "T07otyOF6zq8",
    "outputId": "05b34b99-4249-4abe-fb04-9233b6c3a419"
   },
   "outputs": [],
   "source": [
    "#Barratt_Barratt_P2_Occ - Barratt Simplified Measure of Social Status - Parent 2 Occupation\n",
    "train_cat['Barratt_Barratt_P2_Occ'].value_counts()\n",
    "\n",
    "#Look back at the dictionary on Kaggle!\n",
    "# to see what category these integers [0, 45, 35...] represent."
   ]
  },
  {
   "cell_type": "markdown",
   "metadata": {
    "id": "ahQe57Ap63W5"
   },
   "source": [
    "Visualize distributions:"
   ]
  },
  {
   "cell_type": "code",
   "execution_count": null,
   "metadata": {
    "id": "cDf5hyWh61wx",
    "outputId": "a9703f61-5ce2-49ff-a313-8fbd1aad90f1"
   },
   "outputs": [],
   "source": [
    "sns.countplot(x='Barratt_Barratt_P2_Occ', data=train_cat[['Barratt_Barratt_P2_Occ']])\n",
    "plt.title(f\"Distribution of Barratt_Barratt_P2_Occ\")\n",
    "plt.xticks(rotation=45)\n",
    "plt.show()"
   ]
  },
  {
   "cell_type": "markdown",
   "metadata": {
    "id": "zC_weFT968wK"
   },
   "source": [
    "Understand the distribution of quantitative variables."
   ]
  },
  {
   "cell_type": "code",
   "execution_count": null,
   "metadata": {
    "id": "fzSV4urF66qV",
    "outputId": "7fb770e9-20ee-4a67-e7e1-04d1f056b040"
   },
   "outputs": [],
   "source": [
    "# Distribution of MRI_Track_Age_at_Scan\n",
    "train_Quant['MRI_Track_Age_at_Scan'].hist(figsize=(12, 10), bins=20)\n",
    "plt.suptitle(\"MRI_Track_Age_at_Scan Distributions\")\n",
    "plt.xlabel('MRI_Track_Age_at_Scan')\n",
    "plt.ylabel('Frequency Count')\n",
    "plt.show()\n"
   ]
  },
  {
   "cell_type": "markdown",
   "metadata": {
    "id": "_q6gH6hY7B2v"
   },
   "source": [
    "The train_Solutions dataset contains labels for `ADHD` and `gender`. Let's examine the class distribution."
   ]
  },
  {
   "cell_type": "code",
   "execution_count": null,
   "metadata": {
    "id": "9M0TurZv7Ch-",
    "outputId": "85ef1314-1687-4cc4-af84-d83b5b85c536"
   },
   "outputs": [],
   "source": [
    "# ADHD distribution\n",
    "train_Solutions['ADHD_Outcome'].value_counts()"
   ]
  },
  {
   "cell_type": "code",
   "execution_count": null,
   "metadata": {
    "id": "KZbnTsY_49sR",
    "outputId": "77e3ee01-3848-412f-94dc-b655c38246fd"
   },
   "outputs": [],
   "source": [
    "train_Solutions['ADHD_Outcome'].value_counts().plot(kind='bar', color='blue')\n",
    "plt.title('ADHD Outcome')\n",
    "plt.xlabel('Outcome (0 = No, 1 = Yes)')\n",
    "plt.ylabel('Count')\n",
    "plt.show()"
   ]
  },
  {
   "cell_type": "code",
   "execution_count": null,
   "metadata": {
    "id": "McPUzuLF7EAx",
    "outputId": "ebd787dc-a9db-4115-fb63-e370463a8b17"
   },
   "outputs": [],
   "source": [
    "# Gender distribution\n",
    "train_Solutions['Sex_F'].value_counts()"
   ]
  },
  {
   "cell_type": "markdown",
   "metadata": {
    "id": "2ruorDbo5Awi"
   },
   "source": [
    "**Key Insight**: Gender imbalance in the dataset may introduce bias in modeling. Address this during data preparation."
   ]
  },
  {
   "cell_type": "code",
   "execution_count": null,
   "metadata": {
    "id": "gyobHTO97IcG",
    "outputId": "38e851a6-15d8-4971-ef9a-21a5ee888d96"
   },
   "outputs": [],
   "source": [
    "train_Solutions['Sex_F'].value_counts().plot(kind='bar', color='blue')\n",
    "plt.title('Gender Distribution')\n",
    "plt.xlabel('Gender (0 = Male, 1 = Female)')\n",
    "plt.ylabel('Count')\n",
    "plt.show()"
   ]
  },
  {
   "cell_type": "markdown",
   "metadata": {
    "id": "nTMfBS6B5DzF"
   },
   "source": [
    "### How to Test Predictiveness:"
   ]
  },
  {
   "cell_type": "markdown",
   "metadata": {
    "id": "GTOobk3t5IKt"
   },
   "source": [
    "##### **Quantitative Data**: Use histograms or boxplots to visualize distributions of quantitative (e.g., Color vision test score)"
   ]
  },
  {
   "cell_type": "code",
   "execution_count": null,
   "metadata": {
    "id": "FwzIQbti5H5E",
    "outputId": "190b98b3-fa95-4e40-9112-5cd8932e892f"
   },
   "outputs": [],
   "source": [
    "train_Quant.columns"
   ]
  },
  {
   "cell_type": "markdown",
   "metadata": {
    "id": "2CUkIRDR5N6d"
   },
   "source": [
    "Let's look at the `SDQ_SDQ_Emotional_Problems`, which indicates Emotional Problems Scale."
   ]
  },
  {
   "cell_type": "code",
   "execution_count": null,
   "metadata": {
    "id": "eopKX0z-5GoR",
    "outputId": "15dcfd3f-5060-4771-eb02-7c60bb7cfe63"
   },
   "outputs": [],
   "source": [
    "# Plot the distribution of the SDQ_SDQ_Emotional_Problems variable\n",
    "plt.figure(figsize=(8, 6))\n",
    "sns.histplot(train_Quant['SDQ_SDQ_Emotional_Problems'], kde=True, color='skyblue')\n",
    "plt.title('Distribution of SDQ_SDQ_Emotional_Problems')\n",
    "plt.xlabel('SDQ_SDQ_Emotional_Problems')\n",
    "plt.ylabel('Frequency')\n",
    "plt.show()"
   ]
  },
  {
   "cell_type": "markdown",
   "metadata": {
    "id": "5D19iAhp5RsJ"
   },
   "source": [
    "This boxplot examines the relationship between `SDQ_SDQ_Emotional_Problems` and `ADHD_outcome` (as a target variable)."
   ]
  },
  {
   "cell_type": "code",
   "execution_count": null,
   "metadata": {
    "id": "ewAA9MDG5Zn6",
    "outputId": "5c994a8f-f5b9-49d1-ce95-144c7ebb7702"
   },
   "outputs": [],
   "source": [
    "# Check for correlation with ADHD outcome\n",
    "train_Quant_copy = train_Quant.copy()\n",
    "train_Quant_copy['ADHD_Outcome'] = train_Solutions['ADHD_Outcome']\n",
    "\n",
    "plt.figure(figsize=(8, 6))\n",
    "sns.boxplot(x='ADHD_Outcome', y='SDQ_SDQ_Emotional_Problems', data=train_Quant_copy)\n",
    "plt.title('SDQ_SDQ_Emotional_Problems vs ADHD Outcome')\n",
    "plt.xlabel('ADHD Outcome')\n",
    "plt.ylabel('SDQ_SDQ_Emotional_Problems')\n",
    "plt.show()\n"
   ]
  },
  {
   "cell_type": "markdown",
   "metadata": {
    "id": "dPt5cNhMVb5v"
   },
   "source": [
    "The boxplot reveals that individuals diagnosed with ADHD tend to have a higher median on the SDQ Emotional Problems scale compared to non-ADHD individuals. Additionally, the boxplot for the ADHD group displays greater variability, as evidenced by its extended range. This suggests that emotional problems are not only more pronounced but also more diverse within the ADHD group."
   ]
  },
  {
   "cell_type": "markdown",
   "metadata": {
    "id": "9pK55jJq5bD1"
   },
   "source": [
    "##### **Categorical Data**: Use bar plots to compare groups (e.g., ADHD rates by Parent 1 occupation).\n"
   ]
  },
  {
   "cell_type": "code",
   "execution_count": null,
   "metadata": {
    "id": "sPq83IBK5dHk",
    "outputId": "1fb5a747-616c-49f5-dd01-660ab1b16cf4"
   },
   "outputs": [],
   "source": [
    "train_cat.columns"
   ]
  },
  {
   "cell_type": "markdown",
   "metadata": {
    "id": "Nv-Yy3Ay5j7A"
   },
   "source": [
    "Let's look at `Barratt_Barratt_P1_Edu` which indicates the Parent 1 level of education\n",
    "\n",
    "- 3=Less than 7th grade\n",
    "- 6=Junior high/Middle school (9th grade)\n",
    "- 9=Partial high school (10th or 11th grade)\n",
    "- 12=High school graduate\n",
    "- 15=Partial college (at least one year)\n",
    "- 18=College education\n",
    "- 21=Graduate degree"
   ]
  },
  {
   "cell_type": "code",
   "execution_count": null,
   "metadata": {
    "id": "KxA38GXT5iJf",
    "outputId": "ffc56f63-0c29-4b3b-a793-93a77aa17582"
   },
   "outputs": [],
   "source": [
    "import seaborn as sns\n",
    "import matplotlib.pyplot as plt\n",
    "\n",
    "sns.countplot(data=train_cat, x='Barratt_Barratt_P1_Edu', hue=train_Solutions['ADHD_Outcome'])\n",
    "plt.title('ADHD Prevalence by Parent 1 Education')\n",
    "plt.show()"
   ]
  },
  {
   "cell_type": "code",
   "execution_count": null,
   "metadata": {
    "id": "Hk1eagtM5oLg",
    "outputId": "96ce30ec-6949-4906-fb00-d64078a36280"
   },
   "outputs": [],
   "source": [
    "train_cat['Barratt_Barratt_P1_Edu'].value_counts()"
   ]
  },
  {
   "cell_type": "markdown",
   "metadata": {
    "id": "gx4Ws4Xh5l-j"
   },
   "source": [
    "Most of the data points fall into a specific category (e.g., 21 has 470 entries out of a total 1213). This means that even if ADHD prevalence appears higher in this category, it might just reflect that there are more people in this group overall, rather than an actual trend."
   ]
  },
  {
   "cell_type": "markdown",
   "metadata": {
    "id": "Q8sQcOa85sdF"
   },
   "source": [
    "To adress this, normalize the data or compute percentages within each category to account for differences in group sizes. Let's compute ADHD percentage for each category."
   ]
  },
  {
   "cell_type": "code",
   "execution_count": null,
   "metadata": {
    "id": "ORDcWrBj5wMZ",
    "outputId": "46b5b0bb-6c7c-4fa9-a711-58d1ac912386"
   },
   "outputs": [],
   "source": [
    "# Add ADHD_Outcome directly to a copy of the train_cat dataset for grouping\n",
    "train_cat_copy = train_cat.copy()\n",
    "train_cat_copy['ADHD_Outcome'] = train_Solutions['ADHD_Outcome']\n",
    "\n",
    "adhd_percentages = train_cat_copy.groupby('Barratt_Barratt_P1_Edu')['ADHD_Outcome'].mean()\n",
    "print(adhd_percentages)"
   ]
  },
  {
   "cell_type": "markdown",
   "metadata": {
    "id": "l-ENdlzD5zWv"
   },
   "source": [
    "Categories like 3 - Less than 7th grade (80%) and 12 - High school graduate (72%) show some of the highest proportions of ADHD outcomes. Categories 21 - Graduate degree (67.2%) have relatively lower ADHD proportions compared to middle education levels."
   ]
  },
  {
   "cell_type": "code",
   "execution_count": null,
   "metadata": {
    "id": "oqA2mO12-my0",
    "outputId": "97e1882b-e6b0-486b-befd-6f4e5d1c339c"
   },
   "outputs": [],
   "source": [
    "train_cat['Barratt_Barratt_P1_Edu'].value_counts()"
   ]
  },
  {
   "cell_type": "markdown",
   "metadata": {
    "id": "mhAvHOIU-ipM"
   },
   "source": [
    "While these proportions might appear noteworthy, it is essential to consider the smaller sample size for lower education levels. **Smaller sample sizes can lead to greater variability** and make the proportions more susceptible to outliers. This means that a few individual cases can disproportionately affect the results, making them less reliable and less representative of the broader population. Therefore, it is crucial to examine sample sizes carefully before drawing any conclusions."
   ]
  },
  {
   "cell_type": "markdown",
   "metadata": {
    "id": "oRDNsCGc3uM8"
   },
   "source": [
    "## Pre-processed Categorical Columns"
   ]
  },
  {
   "cell_type": "markdown",
   "metadata": {
    "id": "msYji4jD2vYC"
   },
   "source": [
    "\n",
    "Our categorical columns include demographic data about the adolescent and parental information, such as occupation and education level.\n",
    "\n",
    "In the provided dataset, these categorical columns have been preprocessed by assigning numerical values to the categories within each variable. For instance, in the Parent 1 Occupation column, the number 35 might represent roles such as nurse, skilled technician, medical technician, or counselor. This grouping reduces the number of unique responses for each variable, simplifying the dataset.\n",
    "\n",
    "The integers currently representing categorical values can be cross-referenced in the provided data dictionary in [kaggle](https://www.kaggle.com/competitions/widsdatathon2025/data) to understand their corresponding categories.\n"
   ]
  },
  {
   "cell_type": "markdown",
   "metadata": {
    "id": "nKVPDyZMxPdk"
   },
   "source": [
    "## What does One - Hot Encoding do ?"
   ]
  },
  {
   "cell_type": "markdown",
   "metadata": {
    "id": "q_Lsp1cUxSL5"
   },
   "source": [
    "One hot encoding creates a new binary column for each unique category within a variable. For example, in the Parent 1 Occupation column with 10 possible categories (e.g., 0, 5, 10, 15, 20, etc.), one-hot encoding will generate 10 new columns: Parent_1_Occupation_0, Parent_1_Occupation_5, Parent_1_Occupation_10, and so on.\n",
    "\n",
    "Each of these new columns will contain boolean values (True or False). For instance, if a participant's parent 1 occupation falls into category 0, the Parent_1_Occupation_0 column will have a value of True, while the other columns for this variable will be False. The same logic applies to the other categories, ensuring each participant is appropriately represented in the dataset.\n"
   ]
  },
  {
   "cell_type": "markdown",
   "metadata": {
    "id": "ezgjKbLQMtOP"
   },
   "source": [
    "# Why use one hot encoding\n",
    "\n",
    "Avoid Implying Ordinal Relationships\n",
    "\n",
    "\n",
    "1.  If you encode categories using numbers directly (e.g., 0, 1, 2), the algorithm might interpret these numbers as having a meaningful order or scale, which could lead to incorrect assumptions.\n",
    "2.  One-hot encoding eliminates this problem by assigning each category its own binary column, ensuring no ordinal relationship is implied.\n",
    "\n",
    "\n",
    "Improve Algorithm Performance\n",
    "\n",
    "\n",
    "*  Algorithms like logistic regression, decision trees, and neural networks often perform better with one-hot encoded data because it provides clear distinctions between categories.\n",
    "*  Without one-hot encoding, algorithms might struggle to learn from categorical variables or produce biased results.\n",
    "\n",
    "\n",
    "\n"
   ]
  },
  {
   "cell_type": "markdown",
   "metadata": {
    "id": "3YdmMwGsX73R"
   },
   "source": [
    "One hot encoding is only possible on categorical variables so the first step is to switch our integer representations into category type variables."
   ]
  },
  {
   "cell_type": "code",
   "execution_count": null,
   "metadata": {
    "id": "kngRrr5l2shv"
   },
   "outputs": [],
   "source": [
    "for col in train_cat.select_dtypes(include='int').columns:\n",
    "    train_cat[col] = train_cat[col].astype('category')"
   ]
  },
  {
   "cell_type": "markdown",
   "metadata": {
    "id": "hLMi9-JR3BSF"
   },
   "source": [
    "Our first column of our dataset is our participant id. This is an indicator variable that identifies each patient. This column is very important as it will be the one used to merge all of our data frames together, but, we do not want to encode this column. So, we will create a list of all the columns except the first one and label those `columns_to_encode`."
   ]
  },
  {
   "cell_type": "code",
   "execution_count": null,
   "metadata": {
    "id": "fvnHYTAT2-sD",
    "outputId": "e78c0e4f-e4cd-4ea4-fb06-223c412c94e8"
   },
   "outputs": [],
   "source": [
    "# Creating a list of all of the columns except the first\n",
    "columns_to_encode = train_cat.columns[1:].tolist()\n",
    "\n",
    "# Print the columns to encode\n",
    "print(\"Columns to encode:\", columns_to_encode)"
   ]
  },
  {
   "cell_type": "markdown",
   "metadata": {
    "id": "VXiY7rIW3Nmg"
   },
   "source": [
    "`pd.get_dummies(train_cat[columns_to_enccode], drop_first=True)`:\n",
    "* Converts selected categorical columns in train_cat into one-hot encoded columns creating binary (0 or 1) columns for each category.\n",
    "* The `drop_first=True` parameter avoids the \"dummy variable trap\" by dropping the first category for each feature,reducing redundancy in the encoded data.\n",
    "\n",
    "`data_encoded.map(lambda x: 1 if x is True else (0 if x is False else x))`:\n",
    "\n",
    "*   Iterates over every element in the data_encoded DataFrame and:\n",
    "  - Converts `True` to 1 and `False` to 0.\n",
    "  - Leaves all other values unchanged."
   ]
  },
  {
   "cell_type": "code",
   "execution_count": null,
   "metadata": {
    "id": "VemT5N343MX6",
    "outputId": "3ca76f50-67c7-413a-e66b-319c2b6e3588"
   },
   "outputs": [],
   "source": [
    "# encoding categorical data\n",
    "train_encoded = pd.get_dummies(train_cat[columns_to_encode], drop_first=True)\n",
    "train_encoded = train_encoded.map(lambda x: 1 if x is True else (0 if x is False else x))"
   ]
  },
  {
   "cell_type": "markdown",
   "metadata": {
    "id": "DE0FGpIQ39qh"
   },
   "source": [
    "Reintroducing participant ID after encoding:"
   ]
  },
  {
   "cell_type": "markdown",
   "metadata": {
    "id": "4I6l3U-tRZwT"
   },
   "source": [
    "After encoding the categorical columns we will add back in the participant id column. The get dummies function will align the participants correctly with their respective feature variables because it respects the original index of the DataFrame, so row alignment is consistent. When concatenating `data_encoded` with the rest of the DataFrame `train_cat.drop(columns=columns_to_encode)`, the rows align because pandas automatically matches by index."
   ]
  },
  {
   "cell_type": "code",
   "execution_count": null,
   "metadata": {
    "id": "0VhPSB-H37Qu",
    "outputId": "d001219f-c732-499c-e33e-e11926f2b855"
   },
   "outputs": [],
   "source": [
    "# Combine encoded columns with the rest of the DataFrame\n",
    "cat_train_final = pd.concat([train_cat.drop(columns=columns_to_encode), train_encoded], axis=1)\n",
    "\n",
    "# ensure it looks correct\n",
    "cat_train_final.head()"
   ]
  },
  {
   "cell_type": "markdown",
   "metadata": {
    "id": "LSppCDmW-3Zh"
   },
   "source": [
    "### Train and Test Dataframes\n",
    "\n",
    "For any machine learning model you need training data and test data. On our Kaggle data page, you'll find both the training and testing dataframes. We have just encoded the categorical dataframe for our training data. Now, we need to apply the same encoding steps to the categorical dataframe in the testing data. It's essential to ensure that any preprocessing done on the training data is also applied to the test data to ensure accurate model predictions."
   ]
  },
  {
   "cell_type": "markdown",
   "metadata": {
    "id": "zjMEj1-pK-xJ"
   },
   "source": [
    "Our test categorical dataframe is preprocessed the same way as our training data so we will follow the same steps to encode the dataframe."
   ]
  },
  {
   "cell_type": "code",
   "execution_count": null,
   "metadata": {
    "id": "A8CrGqWwKUXC"
   },
   "outputs": [],
   "source": [
    "# load in test categorical dataframe\n",
    "\n",
    "file_path_testC = \"/Users/emilysteinmetz/Downloads/widsdatathon2025/TEST/TEST_CATEGORICAL.csv\"\n",
    "test_cat = pd.read_csv(file_path_testC)\n",
    "#(test_cat.head()"
   ]
  },
  {
   "cell_type": "markdown",
   "metadata": {
    "id": "tYAwYnc4f_tL"
   },
   "source": [
    "Let's encode the `test_cat` dataset first."
   ]
  },
  {
   "cell_type": "code",
   "execution_count": null,
   "metadata": {
    "id": "XlTawOGPKabu",
    "outputId": "03dbda17-aae5-4261-9c1c-0108ea372d30"
   },
   "outputs": [],
   "source": [
    "# convert our int variables to categories\n",
    "for col in test_cat.select_dtypes(include='int').columns:\n",
    "    test_cat[col] = test_cat[col].astype('category')\n",
    "\n",
    "# Encode categorical variables in test\n",
    "test_encoded = pd.get_dummies(test_cat[columns_to_encode], drop_first=True)\n",
    "test_encoded = test_encoded.map(lambda x: 1 if x is True else (0 if x is False else x))\n",
    "\n",
    "# Ensure test_encoded has the same columns as train_encoded\n",
    "missing_cols = set(train_encoded.columns) - set(test_encoded.columns)\n",
    "for col in missing_cols:\n",
    "    test_encoded[col] = 0  # Add missing columns with 0 values\n",
    "\n",
    "# Ensure test_encoded columns are in the same order as train_encoded\n",
    "test_encoded = test_encoded.reindex(columns=train_encoded.columns, fill_value=0)\n",
    "\n",
    "# Combine encoded columns with the rest of the DataFrame\n",
    "cat_test_final = pd.concat([test_cat.drop(columns=columns_to_encode), test_encoded], axis=1)\n",
    "\n",
    "cat_test_final.head()"
   ]
  },
  {
   "cell_type": "markdown",
   "metadata": {
    "id": "i-_B5B_c4COr"
   },
   "source": [
    "## Merging Data Frames\n",
    "\n",
    "Now we have categorical data frames for both our training and test datasets that are both ready to be merged with our remaining variables, the functional connectome matrices and quantitative data. The result of merging will be two final dataframes, train df and test df.\n",
    "\n",
    "All the dataframes include a participant_id variable, which serves as the unique identifier for each patient. This variable will be used to merge the dataframes, as it is the only common variable across the datasets.\n",
    "\n",
    "The pandas merge function can only merge two dataframes. So, I will first merge our encoded train categorical dataframe with our training functional connectome matrices. Then I will combine that merged data frame with our training quantitative dataframe. Again, this will all be executed using the pandas merge function on our participant id variable."
   ]
  },
  {
   "cell_type": "code",
   "execution_count": null,
   "metadata": {
    "id": "YmdQCbME4R2B"
   },
   "outputs": [],
   "source": [
    "train_cat_FCM = pd.merge(cat_train_final, train_FCM, on = 'participant_id')"
   ]
  },
  {
   "cell_type": "code",
   "execution_count": null,
   "metadata": {
    "id": "cCyUVJFm4Uk6",
    "outputId": "aa549402-1034-466f-dc5b-77d44952ba19"
   },
   "outputs": [],
   "source": [
    "train_df = pd.merge(train_cat_FCM, train_Quant, on = 'participant_id')\n",
    "\n",
    "# ensure it looks accurate\n",
    "train_df.head()"
   ]
  },
  {
   "cell_type": "markdown",
   "metadata": {
    "id": "LOAqavTWVWiu"
   },
   "source": [
    "\n",
    "This creates an almost complete train dataframe. You may have noticed that there is one dataframe left in our training data that we have not merged, the solutions. When training a machine learning model you have an `X_train ` dataframe containing the feature variables and a `Y_train` dataframe containing the target variables. We just created our `X_train` dataframe. In our third workshop we will cover how to use the `X_train` and `Y_train` dataframes to train the model.\n",
    "\n",
    "Our testing data does not contain solutions, since that is what you will produce when running your model. So we just need one feature variable dataframe.\n",
    "\n",
    "We will merge together the feature variables for our testing data, the same way we did for our training data. First, I will load in the quantative and functional connectome matrices.\n"
   ]
  },
  {
   "cell_type": "markdown",
   "metadata": {
    "id": "-2b3i7Nq8Uq7"
   },
   "source": [
    "## Merge test dataframes"
   ]
  },
  {
   "cell_type": "code",
   "execution_count": null,
   "metadata": {
    "id": "RWr878CTV0VS",
    "outputId": "44f8163d-2d43-4f64-e42b-7d2d5b94822d"
   },
   "outputs": [],
   "source": [
    "file_path_testFCM = \"/Users/emilysteinmetz/Downloads/widsdatathon2025/TEST/TEST_FUNCTIONAL_CONNECTOME_MATRICES.csv\"\n",
    "test_FCM = pd.read_csv(file_path_testFCM)\n",
    "#print(train_FCM.head())\n",
    "\n",
    "file_path_testQ = \"/Users/emilysteinmetz/Downloads/widsdatathon2025/TEST/TEST_QUANTITATIVE_METADATA.csv\"\n",
    "test_Quant = pd.read_csv(file_path_testQ)\n",
    "#print(train_Quant.head())\n",
    "\n",
    "test_cat_FCM = pd.merge(cat_test_final, test_FCM, on = 'participant_id')\n",
    "\n",
    "test_df = pd.merge(test_cat_FCM, test_Quant, on = 'participant_id')\n",
    "\n",
    "# ensure it looks accurate\n",
    "test_df.head()"
   ]
  },
  {
   "cell_type": "markdown",
   "metadata": {
    "id": "B9lYu5V09bSY"
   },
   "source": [
    "Now we have nearly complete train and test dataframes. There is one more step before we can perform machine learning, imputing NA values. Again, you will need to impute NA values the same way for both your training and test dataframes for accurate model performance."
   ]
  },
  {
   "cell_type": "markdown",
   "metadata": {
    "id": "FPh-Mow14yTg"
   },
   "source": [
    "## NA values\n",
    "\n",
    "Before performing machine learning we must adress missing values to ensure optimal model performance.\n",
    "\n",
    "We will demonstrate how to fill the missing (`NA`) values using the mean of each column as an example.\n",
    "\n",
    "Note: There are many approaches to handle missing values, and the best method often depends on your dataset and chosen machine learning model. You can explore how your model deals with missing data and try alternative techniques. For example, this [website](https://www.widsworldwide.org/get-inspired/blog/a-data-scientists-deep-dive-into-the-wids-datathon/) has various ways to handle missing data.\n",
    "\n",
    "Filling NA values is a key challenge in this datathon to get accurate model performance. Experiment with different methods and evaluate which approach gives the best results for your model!"
   ]
  },
  {
   "cell_type": "code",
   "execution_count": null,
   "metadata": {
    "id": "-pTwTsPx4uNk",
    "outputId": "a3310a4e-692f-4d12-b67e-71cc3dfe54e8"
   },
   "outputs": [],
   "source": [
    "# check how many NA values we have\n",
    "print(train_df.isna().sum())\n",
    "\n",
    "# 371 NANs values\n",
    "# 360 in MRI_Track_age_at_Scan\n",
    "# 11 in PreInt_Demos_Fam_Child_Ethnicity"
   ]
  },
  {
   "cell_type": "markdown",
   "metadata": {
    "id": "4dKu_e5w5lU4"
   },
   "source": [
    "We can fill the missing (`NA`) values in the columns `MRI_Track_Age_at_Scan` and `PreInt_Demos_Fam_Child_Ethnicity` individually by replacing them with the mean of their respective columns."
   ]
  },
  {
   "cell_type": "code",
   "execution_count": null,
   "metadata": {
    "id": "nF82Zdhs5uE3",
    "outputId": "9017f29f-dcfe-4a90-d81d-ffc9a23ab1f0"
   },
   "outputs": [],
   "source": [
    "train_df.fillna({'MRI_Track_Age_at_Scan':train_df['MRI_Track_Age_at_Scan'].mean()}, inplace = True)\n",
    "train_df.fillna({'PreInt_Demos_Fam_Child_Ethnicity':train_df['PreInt_Demos_Fam_Child_Ethnicity'].mean()}, inplace = True)\n",
    "\n",
    "print(train_df.isna().sum().sum()) # should now be zero"
   ]
  },
  {
   "cell_type": "markdown",
   "metadata": {
    "id": "kbF9iATIWnjH"
   },
   "source": [
    "We can also use backward and forward fills. This indicates using previous or the following data row in order to replace the missing values.\n"
   ]
  },
  {
   "cell_type": "code",
   "execution_count": null,
   "metadata": {
    "id": "SBTsNaK4WeiA",
    "outputId": "c999a644-eee2-49d7-e1e5-428f41457918"
   },
   "outputs": [],
   "source": [
    "train_df.ffill(inplace=True)\n",
    "print(train_df.isna().sum().sum())"
   ]
  },
  {
   "cell_type": "code",
   "execution_count": null,
   "metadata": {
    "id": "zBQEd-3c9M78"
   },
   "outputs": [],
   "source": [
    "# Fill NAs of test data\n",
    "\n",
    "for col in test_df.columns:\n",
    "    if test_df[col].isna().sum() > 0:  # Check if the column has NaN values\n",
    "        if test_df[col].dtype in ['float64', 'int64']:  # Ensure it's numeric\n",
    "            test_df[col] = test_df[col].fillna(test_df[col].mean())  # Avoid inplace\n",
    "        else:\n",
    "            print(f\"Skipping non-numeric column: {col}\")"
   ]
  },
  {
   "cell_type": "markdown",
   "metadata": {
    "id": "0keXkdRY50nB"
   },
   "source": [
    "Now that we have filled in our NA values our data frame is ready to be trained for machine learning. Tune into our next workshop to understand how to build your mulitoutcome machine learning model!"
   ]
  },
  {
   "cell_type": "markdown",
   "metadata": {
    "id": "Tm3tbWZ6iMFX"
   },
   "source": [
    "#Perform Machine Learning"
   ]
  },
  {
   "cell_type": "markdown",
   "metadata": {
    "id": "LmTNdoVekyBf"
   },
   "source": [
    "## Multi-Outcome Model\n",
    "\n",
    "A machine learning model is a mathematical model that, after being trained on a dataset, can make predictions or classifications on new data by identifying patterns within the information.\n",
    "\n",
    "Since this challenge is trying to answer the question:\n",
    "\n",
    "What brain activity patterns are associated with ADHD; are they different between males and females, and, if so, how?\n",
    "\n",
    "Our predictions or target variables in this model are gender (1 = female, 0 = male) and ADHD diagnosis (1 = has ADHD, 0 = does not). Both are classification problems, meaning the outputs are binary: each prediction will either be 0 or 1, representing a boolean result.\n",
    "\n",
    "To predict both target variables simultaneously, we will use a multi-outcome machine learning model. This type of model is designed to predict multiple dependent variables (or outcomes) at the same time, rather than one at a time. For this task, our Y_train dataset will include two target columns—gender and ADHD diagnosis. The predictions generated by your model, which you will submit to Kaggle, will also include these two variables. As a requirement for this challenge, you must use a multi-outcome model to produce predictions for both targets simultaneously.\n"
   ]
  },
  {
   "cell_type": "markdown",
   "metadata": {
    "id": "klmtVeGpk6P5"
   },
   "source": [
    "## Why use a Multi-Outcome model ?\n",
    "\n",
    "This approach is particularly relevant to our specific challenge of investigating ADHD diagnosis in women. Research suggests that women with ADHD are often underdiagnosed, and by modeling gender and ADHD diagnosis together, we can explore potential relationships between these variables. Using the same feature variables to predict both targets allows us to examine this connection in a systematic way. A multi-outcome model is ideal for this purpose because it efficiently handles the simultaneous prediction of both variables while leveraging any potential interdependencies between them.\n",
    "\n",
    "Additionally, using a multi-outcome model streamlines the workflow. We only need to preprocess the data once, and we can train a single model instead of separate models for each target. This not only saves time and computational resources but also simplifies the overall process, making it easier to maintain consistency across predictions for gender and ADHD diagnosis.\n"
   ]
  },
  {
   "cell_type": "markdown",
   "metadata": {
    "id": "5NGLHE1QlHz_"
   },
   "source": [
    "## X Train and Y Train\n",
    "\n",
    "For any machine learning model, you need an X_train dataset, which contains the feature variables used to make predictions about the target variables—in this case, ADHD diagnosis and gender. Our feature variables include categorical columns, quantitative variables, and functional connectome matrices. We have prepared our X_train dataframe by encoding categorical variables, merging dataframes, and handling missing values by filling in NAs.\n",
    "\n",
    "In addition to X_train, we also need Y_train, the dataset containing the target variables, to train the model. The target variables allow the model to learn the patterns in the feature variables that lead to specific outcomes for ADHD diagnosis and gender. This relationship is what enables the model to make accurate predictions when applied to new data.\n",
    "\n",
    "So the first step we will take in coding is loading in the training solutions dataframe this will be our Y_train.\n"
   ]
  },
  {
   "cell_type": "code",
   "execution_count": null,
   "metadata": {
    "id": "YJrHtK_olOLD"
   },
   "outputs": [],
   "source": [
    "file_path_trainS = \"/Users/emilysteinmetz/Downloads/widsdatathon2025/TRAIN/TRAINING_SOLUTIONS.xlsx\"\n",
    "train_Solutions = pd.read_excel(file_path_trainS)"
   ]
  },
  {
   "cell_type": "markdown",
   "metadata": {
    "id": "xdGtB1R4lOzq"
   },
   "source": [
    "Both our X_train and Y_train datasets include the participant_id column, which serves as an identifier for each patient. Since this column is of type category and machine learning models require numerical data (int or float), it cannot be used during training. Additionally, it is not relevant for model learning. Therefore, we will remove the participant_id column from both dataframes before training the machine learning model."
   ]
  },
  {
   "cell_type": "code",
   "execution_count": null,
   "metadata": {
    "id": "8Mx5W9snlRuM"
   },
   "outputs": [],
   "source": [
    "X_train = train_df.drop(columns = ['participant_id'])\n",
    "Y_train = train_Solutions.drop(columns = ['participant_id'])"
   ]
  },
  {
   "cell_type": "markdown",
   "metadata": {
    "id": "BY3fDLWZlXUL"
   },
   "source": [
    "### XGBoost\n",
    "\n",
    "XGBoost, short for eXtreme Gradient Boosting, is an optimized implementation of gradient boosting, a machine learning technique that builds an ensemble of decision trees to make predictions. It is widely used for structured (tabular) data and is especially popular in competitive data science (e.g., Kaggle competitions) due to its high performance, speed, and flexibility.\n",
    "\n",
    "XGBoost builds an ensemble of decision trees in a sequential manner, where each tree corrects the errors of the previous ones. The final prediction is the weighted sum of the predictions from all trees.\n",
    "\n",
    "Gradient Boosting:\n",
    "\n",
    "Each tree tries to minimize the error (residual) from the previous step by fitting to the gradient of the loss function.\n",
    "This iterative process improves the model's accuracy over time.\n",
    "\n",
    "Ensemble Learning:\n",
    "\n",
    "By combining multiple weak learners (shallow decision trees), XGBoost creates a strong predictive model."
   ]
  },
  {
   "cell_type": "markdown",
   "metadata": {
    "id": "Or5-NbUhla52"
   },
   "source": [
    "First we must create an instance of the XGBClassifier from the xgboost library.\n",
    "\n",
    "Key Parameters Explained:\n",
    "\n",
    "\n",
    "*   objective='binary:logistic': Specifies the task type as binary classification, with logistic regression as the objective function.\n",
    "*   n_estimators=100: Sets the number of boosting rounds (i.e., the number of trees to train in the ensemble).\n",
    "* learning_rate=0.1: Determines the step size shrinkage used to prevent overfitting. Lower values result in slower learning but can improve accuracy.\n",
    "* max_depth=5: Limits the depth of each decision tree to prevent overfitting while ensuring the model captures enough complexity."
   ]
  },
  {
   "cell_type": "code",
   "execution_count": null,
   "metadata": {
    "id": "IGFYIQSmlUMb"
   },
   "outputs": [],
   "source": [
    "from xgboost import XGBClassifier\n",
    "from sklearn.multioutput import MultiOutputClassifier\n",
    "\n",
    "# Initialize the base classifier\n",
    "xgb_classifier = XGBClassifier(objective='binary:logistic', n_estimators=100, learning_rate=0.1, max_depth=5)"
   ]
  },
  {
   "cell_type": "markdown",
   "metadata": {
    "id": "9o0a0vKWlfEA"
   },
   "source": [
    "Next, we will wrap the XGBClassifier with MultiOutputClassifier, a utility from sklearn that enables the model to handle multi-target classification.\n",
    "\n",
    "Why it's needed:\n",
    "XGBClassifier on its own can only handle single-target classification. MultiOutputClassifier manages the training process by creating a separate XGBClassifier for each target variable in y_train."
   ]
  },
  {
   "cell_type": "code",
   "execution_count": null,
   "metadata": {
    "id": "Odsh7nThlh1o"
   },
   "outputs": [],
   "source": [
    "# Wrap with MultiOutputClassifier for multi-target classification\n",
    "multioutput_classifier = MultiOutputClassifier(xgb_classifier)"
   ]
  },
  {
   "cell_type": "markdown",
   "metadata": {
    "id": "xjjw-1-bllZU"
   },
   "source": [
    "Next, we must train the multioutput_classifier on the feature matrix X_train and the multi-target labels y_train.\n",
    "\n",
    "How it works:\n",
    "\n",
    "MultiOutputClassifier internally splits y_train into individual target columns.\n",
    "For each target column, it trains a separate instance of the XGBClassifier using the features from X_train."
   ]
  },
  {
   "cell_type": "code",
   "execution_count": null,
   "metadata": {
    "id": "MZiJZynBloIz"
   },
   "outputs": [],
   "source": [
    "# Train the model\n",
    "multioutput_classifier.fit(X_train, Y_train)"
   ]
  },
  {
   "cell_type": "markdown",
   "metadata": {
    "id": "4NvVqJG4ltva"
   },
   "source": [
    "## Testing the Model\n",
    "\n",
    "Once we have a trained model we can start testing our model and making our predictions! We also preprocessed our testing data the same way we did our training data so we are all ready to use our test_df as our x_test dataframe in our trained model.\n",
    "\n",
    "Participant_id: we will remove this column because it is type category and not helpful in machine learning but we will store it in a variable to save it to concat back to our dataframe later before submitting your predicitions"
   ]
  },
  {
   "cell_type": "code",
   "execution_count": null,
   "metadata": {
    "id": "t7Xs4_4Tlu-k"
   },
   "outputs": [],
   "source": [
    "participant_id = test_df['participant_id']\n",
    "\n",
    "X_test = test_df.drop(columns = 'participant_id')\n",
    "\n",
    "y_pred = multioutput_classifier.predict(X_test)"
   ]
  },
  {
   "cell_type": "markdown",
   "metadata": {
    "id": "a-rqMdl7lxrr"
   },
   "source": [
    "Now we can create a dataframe of the participant ids that we stored and our predicted values"
   ]
  },
  {
   "cell_type": "code",
   "execution_count": null,
   "metadata": {
    "id": "zEUzR3o8l0ZL"
   },
   "outputs": [],
   "source": [
    "# Convert predictions to a DataFrame\n",
    "predictions_df = pd.DataFrame(\n",
    "    y_pred,\n",
    "    columns=['Predicted_Gender', 'Predicted_ADHD']\n",
    ")\n",
    "\n",
    "# Combine participant IDs with predictions\n",
    "result_df = pd.concat([participant_id.reset_index(drop=True), predictions_df], axis=1)\n",
    "\n",
    "# Print or save the DataFrame\n",
    "print(result_df)"
   ]
  },
  {
   "cell_type": "markdown",
   "metadata": {
    "id": "Wsf-0dB7l2tn"
   },
   "source": [
    "Example of an expected result that you will submit to kaggle:"
   ]
  },
  {
   "cell_type": "code",
   "execution_count": null,
   "metadata": {
    "id": "tuppT34Tl5Gw"
   },
   "outputs": [],
   "source": [
    "#participant_id  Predicted_Gender  Predicted_ADHD\n",
    "#0     Cfwaf5FX7jWK                 0               0\n",
    "#1     vhGrzmvA3Hjq                 1               0\n",
    "#2     ULliyEXjy4OV                 1               0\n",
    "#3     LZfeAb1xMtql                 0               0\n",
    "#4     EnFOUv0YK1RG                 1               0\n",
    "#..             ...               ...             ...\n",
    "#299   UadZfjdEg7eG                 0               0\n",
    "#300   IUEHiLmQAqCi                 1               1\n",
    "#301   cRySmCadYFRO                 0               0\n",
    "#302   E3MvDUtJadc5                 0               0\n",
    "#303   dQJXfyRazknD                 1               0"
   ]
  },
  {
   "cell_type": "markdown",
   "metadata": {
    "id": "FgOOXIGbjJXM"
   },
   "source": [
    "### Evaluating Machine Learning Model - Cross Validation Score\n",
    "\n",
    "The cross-validation score is a metric used to evaluate the performance of a machine learning model by testing it on multiple subsets of the data. It provides an estimate of how well the model is likely to generalize to unseen data.\n",
    "\n",
    "How Cross-Validation Works:\n",
    "\n",
    "\n",
    "*   The dataset is divided into 𝑘 equally-sized subsets or folds.\n",
    "*   The model is trained on k - 1 folds (the training set) and evaluated on the remaining fold (the validation set)\n",
    "* This process is repeated k times, with each fold being used once as the validation set\n",
    "* The evaluation metric, we will use accuracy is computed for each iteration\n",
    "\n",
    "Why are we using cross-validation score:\n",
    "\n",
    "\n",
    "*  Since we don’t have the true labels for the test data, we cannot calculate the actual accuracy score. Cross-validation provides a reliable way to evaluate our model's performance using the training data without needing the test set answers.\n",
    "*  Cross-validation ensures that a model is evaluated on multiple subsets of the data"
   ]
  },
  {
   "cell_type": "markdown",
   "metadata": {
    "id": "w3q2hSz_mIyz"
   },
   "source": [
    "Import the necessary libraries: We will be using the sklearn library in python to perform cross validation"
   ]
  },
  {
   "cell_type": "code",
   "execution_count": null,
   "metadata": {
    "id": "pIyfnFvjjSeV"
   },
   "outputs": [],
   "source": [
    "from sklearn.model_selection import cross_val_score\n",
    "from sklearn.metrics import make_scorer, accuracy_score"
   ]
  },
  {
   "cell_type": "markdown",
   "metadata": {
    "id": "BqUCPqLZmL7Y"
   },
   "source": [
    "Define a custom accuracy metric for multi-output classification, where each target variable (column) needs a separate accuracy calculation.\n",
    "\n",
    "This function will:\n",
    "\n",
    "\n",
    "*   Converts y_true and y_pred into NumPy arrays to enable indexing like `[:, i].`\n",
    "*   Iterates over each column (i.e., target variable) in y_true and y_pred.\n",
    "* Computes the accuracy score for each target variable using accuracy_score.\n",
    "* Returns the average accuracy across all target variables."
   ]
  },
  {
   "cell_type": "code",
   "execution_count": null,
   "metadata": {
    "id": "wkdJIWevmOdj"
   },
   "outputs": [],
   "source": [
    "def multi_output_accuracy(y_true, y_pred):\n",
    "    # Ensure y_true and y_pred are NumPy arrays\n",
    "    y_true = np.array(y_true)\n",
    "    y_pred = np.array(y_pred)\n",
    "    # Compute accuracy for each target variable and return the mean\n",
    "    return np.mean([accuracy_score(y_true[:, i], y_pred[:, i]) for i in range(y_true.shape[1])])"
   ]
  },
  {
   "cell_type": "markdown",
   "metadata": {
    "id": "BdopgbCymQ3l"
   },
   "source": [
    "Then we will wrap the multi_output_accuracy function into a scorer object that can be used with scikit-learn's evaluation tools (e.g., cross_val_score). This will automatically create the `y_true` and `y_pred` being used in our function above."
   ]
  },
  {
   "cell_type": "code",
   "execution_count": null,
   "metadata": {
    "id": "3RS-h740mTUg"
   },
   "outputs": [],
   "source": [
    "# Create a scorer using scikit-learn's make_scorer\n",
    "multi_output_scorer = make_scorer(multi_output_accuracy)"
   ]
  },
  {
   "cell_type": "markdown",
   "metadata": {
    "id": "5rKGRETymViR"
   },
   "source": [
    "Now we will actually perform cross validation with our multi-outcome machine learning model while using our X_train and Y_train dataframes.\n",
    "\n",
    "*   `cv=5`: Specifies 5-fold cross-validation so it will split X_train and Y_train into 5 subsets. Train the model on 4 folds and evaluates it on the remaining fold. Then, repeat this process 5 times, with each fold being used as the validation set once.\n",
    "*   `scoring = multi_output_scorer`: Uses the custom scoring function for evaluation."
   ]
  },
  {
   "cell_type": "code",
   "execution_count": null,
   "metadata": {
    "id": "-EMhR1GDmX-R"
   },
   "outputs": [],
   "source": [
    "# Perform cross-validation on the training data\n",
    "#CHANGED TO CV=3\n",
    "cv_scores = cross_val_score(multioutput_classifier, X_train, Y_train, cv=5, scoring=multi_output_scorer)\n",
    "\n",
    "# Output the cross-validation results\n",
    "print(\"Cross-validation scores for each fold:\", cv_scores)\n",
    "print(\"Mean CV score:\", np.mean(cv_scores))\n",
    "\n",
    "# Cross-validation scores for each fold: [0.82304527 0.78600823 0.69341564 0.64669421 0.33471074]\n",
    "# Mean CV score: 0.6567748188960311"
   ]
  },
  {
   "cell_type": "markdown",
   "metadata": {
    "id": "e2Of5KSemcYL"
   },
   "source": [
    "Notably, this CV score is not optimal, our model is not going to be extremely accurate without feature selection and engineering."
   ]
  },
  {
   "cell_type": "markdown",
   "metadata": {
    "id": "EJFJxUdejIQ8"
   },
   "source": [
    "## Logistic Regression for Feature Selection"
   ]
  },
  {
   "cell_type": "markdown",
   "metadata": {
    "id": "p2r_u3DOsLM5"
   },
   "source": [
    "**Recursive Feature Elimination (RFE)** is a feature selection technique that involves training a model on a subset of the features, and then iteratively removing the least important features one by one until we are left with the desired number of features."
   ]
  },
  {
   "cell_type": "markdown",
   "metadata": {
    "id": "tu2xof1-sQIO"
   },
   "source": [
    "To implement RFE in Python, we can use the RFE class from the `sklearn.feature_selection` module."
   ]
  },
  {
   "cell_type": "markdown",
   "metadata": {
    "id": "UgZWUjxNjWan"
   },
   "source": [
    "**Using coefficients:**\n",
    "- Fit a logistic regression model: Train a logistic regression model on your dataset.\n",
    "- **Extract coefficients:** Get the coefficients of the model. The absolute values of the coefficients indicate the importance of the corresponding features.\n",
    "- **Select top features:** Choose the features with the highest absolute coefficient values."
   ]
  },
  {
   "cell_type": "code",
   "execution_count": null,
   "metadata": {
    "id": "JBXOJLgAjH-Z"
   },
   "outputs": [],
   "source": [
    "from sklearn.linear_model import LogisticRegression"
   ]
  },
  {
   "cell_type": "markdown",
   "metadata": {
    "id": "lO8yFEnJqhNw"
   },
   "source": [
    "**We will first look at Feature Selection with Sex as the target**"
   ]
  },
  {
   "cell_type": "code",
   "execution_count": null,
   "metadata": {
    "id": "D0Ji8-ItiLjN"
   },
   "outputs": [],
   "source": [
    "model = LogisticRegression(max_iter=1000)\n",
    "model.fit(train_df.drop(columns='participant_id'), train_Solutions['Sex_F'])"
   ]
  },
  {
   "cell_type": "code",
   "execution_count": null,
   "metadata": {
    "id": "3Rgs2CEaqkxm"
   },
   "outputs": [],
   "source": [
    "# Get coefficients for Sex prediction\n",
    "coefficients = pd.Series(model.coef_[0], index=train_df.drop(columns='participant_id').columns)"
   ]
  },
  {
   "cell_type": "code",
   "execution_count": null,
   "metadata": {
    "id": "EcF0akPqqmGw"
   },
   "outputs": [],
   "source": [
    "# Select top features for Sex prediction\n",
    "top_features = coefficients.abs().nlargest(10)\n",
    "print(top_features)"
   ]
  },
  {
   "cell_type": "code",
   "execution_count": null,
   "metadata": {
    "id": "3-ash-bGQS9X"
   },
   "outputs": [],
   "source": [
    "#Plotting the top 10 coefficents for Sex Outcome\n",
    "plt.figure(figsize=(10,6))\n",
    "top_features.sort_values().plot(kind='barh', color='skyblue')\n",
    "plt.title('Top 10 Features for Sex Outcome')\n",
    "plt.ylabel('Features')\n",
    "plt.xlabel('Absolute Coefficient Value')\n",
    "plt.xticks(rotation=45, ha='right')\n",
    "plt.show()"
   ]
  },
  {
   "cell_type": "markdown",
   "metadata": {
    "id": "Og897fPlqozJ"
   },
   "source": [
    "**Now, we will look at Feature Selection with ADHD_Outcome as the target**"
   ]
  },
  {
   "cell_type": "code",
   "execution_count": null,
   "metadata": {
    "id": "nSZF3LiFqpN9"
   },
   "outputs": [],
   "source": [
    "model = LogisticRegression(max_iter=1000)\n",
    "model.fit(train_df.drop(columns='participant_id'), train_Solutions['ADHD_Outcome'])"
   ]
  },
  {
   "cell_type": "code",
   "execution_count": null,
   "metadata": {
    "id": "lc_x4aikqqWV"
   },
   "outputs": [],
   "source": [
    "# Get coefficients for ADHD_Outcome prediction\n",
    "coefficients = pd.Series(model.coef_[0], index=train_df.drop(columns='participant_id').columns)"
   ]
  },
  {
   "cell_type": "code",
   "execution_count": null,
   "metadata": {
    "id": "ELDgkPC7qrYO",
    "scrolled": true
   },
   "outputs": [],
   "source": [
    "# Select top features for ADHD_Outcome prediction\n",
    "top_features = coefficients.abs().nlargest(10)\n",
    "print(top_features)"
   ]
  },
  {
   "cell_type": "code",
   "execution_count": null,
   "metadata": {
    "id": "t2SY2XZkQRJg"
   },
   "outputs": [],
   "source": [
    "#Plotting the top 10 coefficents\n",
    "plt.figure(figsize=(10,6))\n",
    "top_features.sort_values().plot(kind='barh', color='skyblue')\n",
    "plt.title('Top 10 Features for ADHD Outcome')\n",
    "plt.ylabel('Features')\n",
    "plt.xlabel('Absolute Coefficient Value')\n",
    "plt.xticks(rotation=45, ha='right')\n",
    "plt.show()"
   ]
  },
  {
   "cell_type": "markdown",
   "metadata": {
    "id": "ULBOlcy0qtdz"
   },
   "source": [
    "**Using L1 regularization:**\n",
    "- **Use L1 penalty**: Train a logistic regression model with L1 regularization. L1 regularization tends to shrink the coefficients of less important features to zero.\n",
    "- **Select non-zero features:** Choose the features with non-zero coefficients."
   ]
  },
  {
   "cell_type": "markdown",
   "metadata": {
    "id": "Bh1zed8xqv60"
   },
   "source": [
    "**We will first use L1 regualarization with Sex as the target.**"
   ]
  },
  {
   "cell_type": "code",
   "execution_count": null,
   "metadata": {
    "id": "j7P7IbLHquOx"
   },
   "outputs": [],
   "source": [
    "model = LogisticRegression(penalty='l1', solver='liblinear')\n",
    "model.fit(train_df.drop(columns='participant_id'), train_Solutions['Sex_F'])"
   ]
  },
  {
   "cell_type": "code",
   "execution_count": null,
   "metadata": {
    "id": "_XCIvVufqyhe"
   },
   "outputs": [],
   "source": [
    "selected_features = train_df.drop(columns='participant_id').columns[model.coef_[0] != 0]\n",
    "print(selected_features)"
   ]
  },
  {
   "cell_type": "markdown",
   "metadata": {
    "id": "kB6tCkgqq03_"
   },
   "source": [
    "**We will now use L1 regualarization with ADHD_Outcome as the target**"
   ]
  },
  {
   "cell_type": "code",
   "execution_count": null,
   "metadata": {
    "id": "OepmrmRqq1c_"
   },
   "outputs": [],
   "source": [
    "model = LogisticRegression(penalty='l1', solver='liblinear')\n",
    "model.fit(train_df.drop(columns='participant_id'), train_Solutions['ADHD_Outcome'])"
   ]
  },
  {
   "cell_type": "code",
   "execution_count": null,
   "metadata": {
    "id": "oZGDu47Sq2fZ"
   },
   "outputs": [],
   "source": [
    "selected_features = train_df.drop(columns='participant_id').columns[model.coef_[0] != 0]\n",
    "print(selected_features)"
   ]
  },
  {
   "cell_type": "markdown",
   "metadata": {
    "id": "dSzKzEMW_8X5"
   },
   "source": [
    "## Row Selection and Reduction to Improve the Model"
   ]
  },
  {
   "cell_type": "markdown",
   "metadata": {
    "id": "TUZeB_Z3gSKd"
   },
   "source": [
    "#### Define Train and Test"
   ]
  },
  {
   "cell_type": "code",
   "execution_count": null,
   "metadata": {},
   "outputs": [],
   "source": [
    "print(train_cat.columns)\n"
   ]
  },
  {
   "cell_type": "code",
   "execution_count": null,
   "metadata": {},
   "outputs": [],
   "source": [
    "# Define the feature lists first\n",
    "selected_features_ADHD = [\n",
    "    'Basic_Demos_Enroll_Year', \n",
    "    'Basic_Demos_Study_Site',\n",
    "    'Barratt_Barratt_P1_Edu',\n",
    "    'Barratt_Barratt_P1_Occ',\n",
    "    'Barratt_Barratt_P2_Edu',\n",
    "    'Barratt_Barratt_P2_Occ',\n",
    "    'MRI_Track_Scan_Location'\n",
    "]\n",
    "\n",
    "selected_features_Sex = [\n",
    "    'PreInt_Demos_Fam_Child_Ethnicity', \n",
    "    'PreInt_Demos_Fam_Child_Race', \n",
    "    'Barratt_Barratt_P1_Edu', \n",
    "    'Barratt_Barratt_P1_Occ',\n",
    "    'Barratt_Barratt_P2_Edu',\n",
    "    'Barratt_Barratt_P2_Occ'\n",
    "]\n",
    "\n",
    "\n",
    "print(train_cat[selected_features_ADHD].dtypes)\n",
    "print(train_cat[selected_features_Sex].dtypes)\n"
   ]
  },
  {
   "cell_type": "code",
   "execution_count": null,
   "metadata": {},
   "outputs": [],
   "source": [
    "print(train_cat[selected_features_Sex].isnull().sum())\n"
   ]
  },
  {
   "cell_type": "code",
   "execution_count": null,
   "metadata": {},
   "outputs": [],
   "source": [
    "#drop rows with missing values\n",
    "train_cat = train_cat.dropna(subset=selected_features_Sex)\n",
    "train_Solutions = train_Solutions.loc[train_cat.index]  # Ensure labels align\n"
   ]
  },
  {
   "cell_type": "code",
   "execution_count": null,
   "metadata": {},
   "outputs": [],
   "source": [
    "from sklearn.preprocessing import OneHotEncoder\n",
    "\n",
    "encoder = OneHotEncoder(handle_unknown=\"ignore\", sparse_output=False)\n",
    "train_encoded = encoder.fit_transform(train_cat[selected_features_Sex])\n"
   ]
  },
  {
   "cell_type": "code",
   "execution_count": null,
   "metadata": {},
   "outputs": [],
   "source": [
    "model = LogisticRegression(max_iter=1000)\n",
    "model.fit(train_cat[selected_features_Sex], train_Solutions['Sex_F'])\n",
    "\n",
    "print(pd.Series(model.coef_[0], index=selected_features_Sex).sort_values(ascending=False))\n"
   ]
  },
  {
   "cell_type": "code",
   "execution_count": null,
   "metadata": {
    "id": "UCv7_S4rjvBb"
   },
   "outputs": [],
   "source": [
    "# Step 1: Find common features between ADHD and Sex selected features\n",
    "common_features = list(set(selected_features_ADHD) & set(selected_features_Sex))\n"
   ]
  },
  {
   "cell_type": "code",
   "execution_count": null,
   "metadata": {},
   "outputs": [],
   "source": [
    "#TESTING\n",
    "print(\"Columns in X_train:\", X_train.columns)\n",
    "print(\"Common Features:\", common_features)\n"
   ]
  },
  {
   "cell_type": "code",
   "execution_count": null,
   "metadata": {},
   "outputs": [],
   "source": [
    "#Trying to fix error \n",
    "missing_features = [feature for feature in common_features if feature not in X_train.columns]\n",
    "print(\"Missing Features:\", missing_features)\n"
   ]
  },
  {
   "cell_type": "code",
   "execution_count": null,
   "metadata": {},
   "outputs": [],
   "source": [
    "for feature in common_features:\n",
    "    similar_cols = [col for col in X_train.columns if feature in col]\n",
    "    print(f\"Feature: {feature} - Similar Columns: {similar_cols}\")\n"
   ]
  },
  {
   "cell_type": "code",
   "execution_count": null,
   "metadata": {},
   "outputs": [],
   "source": [
    "valid_common_features = [feature for feature in common_features if feature in X_train.columns]\n",
    "X_train_2 = X_train[valid_common_features]\n",
    "X_test_2 = X_test[valid_common_features]\n"
   ]
  },
  {
   "cell_type": "code",
   "execution_count": null,
   "metadata": {},
   "outputs": [],
   "source": [
    "# Find all matching encoded columns\n",
    "expanded_common_features = []\n",
    "for feature in common_features:\n",
    "    matching_cols = [col for col in X_train.columns if col.startswith(feature)]\n",
    "    expanded_common_features.extend(matching_cols)\n",
    "\n",
    "# Use these columns instead\n",
    "X_train_2 = X_train[expanded_common_features]\n",
    "X_test_2 = X_test[expanded_common_features]\n",
    "\n",
    "print(\"Final Selected Features:\", expanded_common_features)\n"
   ]
  },
  {
   "cell_type": "code",
   "execution_count": null,
   "metadata": {},
   "outputs": [],
   "source": [
    "expanded_common_features = []\n",
    "for feature in common_features:\n",
    "    matching_cols = [col for col in X_train.columns if col.startswith(feature)]\n",
    "    expanded_common_features.extend(matching_cols)\n"
   ]
  },
  {
   "cell_type": "code",
   "execution_count": null,
   "metadata": {
    "id": "8O-Oqxj1gXIM"
   },
   "outputs": [],
   "source": [
    "#X_train_2 = X_train[common_features]\n",
    "#X_test_2 = X_test[common_features]\n",
    "\n",
    "X_train_2 = X_train[expanded_common_features]\n",
    "X_test_2 = X_test[expanded_common_features]\n"
   ]
  },
  {
   "cell_type": "markdown",
   "metadata": {
    "id": "FYCUr3O_gSqd"
   },
   "source": [
    "#### Fit and Test the Model"
   ]
  },
  {
   "cell_type": "code",
   "execution_count": null,
   "metadata": {
    "id": "E7bKC8XegaQK"
   },
   "outputs": [],
   "source": [
    "# Initialize the base classifier\n",
    "xgb_classifier = XGBClassifier(objective='binary:logistic', n_estimators=100, learning_rate=0.1, max_depth=5)"
   ]
  },
  {
   "cell_type": "code",
   "execution_count": null,
   "metadata": {
    "id": "LVwTT-X-gcq1"
   },
   "outputs": [],
   "source": [
    "# Wrap with MultiOutputClassifier for multi-target classification\n",
    "multioutput_classifier = MultiOutputClassifier(xgb_classifier)"
   ]
  },
  {
   "cell_type": "code",
   "execution_count": null,
   "metadata": {
    "id": "72_AW7bOgd3-"
   },
   "outputs": [],
   "source": [
    "# Train the model\n",
    "multioutput_classifier.fit(X_train_2, Y_train)"
   ]
  },
  {
   "cell_type": "code",
   "execution_count": null,
   "metadata": {
    "id": "9BFqedqdggSF"
   },
   "outputs": [],
   "source": [
    "y_pred_2 = multioutput_classifier.predict(X_test_2)"
   ]
  },
  {
   "cell_type": "code",
   "execution_count": null,
   "metadata": {
    "id": "0pkkO-VMghfd"
   },
   "outputs": [],
   "source": [
    "# Convert predictions to a DataFrame\n",
    "predictions_df_2 = pd.DataFrame(\n",
    "    y_pred_2,\n",
    "    columns=['Predicted_Gender', 'Predicted_ADHD']\n",
    ")\n",
    "\n",
    "# Combine participant IDs with predictions\n",
    "result_df_2 = pd.concat([participant_id.reset_index(drop=True), predictions_df_2], axis=1)\n",
    "\n",
    "result_df_2.head()"
   ]
  },
  {
   "cell_type": "markdown",
   "metadata": {
    "id": "nzB0zCO_gT9B"
   },
   "source": [
    "#### Evaluate the Model: Cross Validation"
   ]
  },
  {
   "cell_type": "code",
   "execution_count": null,
   "metadata": {
    "id": "JGxsTdTCgPI7"
   },
   "outputs": [],
   "source": [
    "from sklearn.model_selection import cross_val_score\n",
    "from sklearn.metrics import make_scorer, accuracy_score"
   ]
  },
  {
   "cell_type": "code",
   "execution_count": null,
   "metadata": {
    "id": "lJZ2_c87ABLI"
   },
   "outputs": [],
   "source": [
    "# Create a scorer using scikit-learn's make_scorer\n",
    "multi_output_scorer = make_scorer(multi_output_accuracy)"
   ]
  },
  {
   "cell_type": "code",
   "execution_count": null,
   "metadata": {
    "id": "54L8y5uqgmlu"
   },
   "outputs": [],
   "source": [
    "# Perform cross-validation on the training data\n",
    "cv_scores_2 = cross_val_score(multioutput_classifier, X_train_2, Y_train, cv=5, scoring=multi_output_scorer)\n",
    "\n",
    "# Output the cross-validation results\n",
    "print(\"Cross-validation scores for each fold:\", cv_scores_2)\n",
    "print(\"Mean CV score:\", np.mean(cv_scores_2))\n",
    "\n",
    "#Cross-validation scores for each fold: [0.79423868 0.79218107 0.71193416 0.69834711 0.39669421]\n",
    "#Mean CV score: 0.678679046355814"
   ]
  },
  {
   "cell_type": "code",
   "execution_count": null,
   "metadata": {},
   "outputs": [],
   "source": [
    "from sklearn.model_selection import GridSearchCV\n",
    "from sklearn.ensemble import RandomForestClassifier\n",
    "\n",
    "# Define the parameter grid\n",
    "param_grid = {\n",
    "    'n_estimators': [100, 200, 300],\n",
    "    'max_depth': [None, 10, 20, 30],\n",
    "    'min_samples_split': [2, 5, 10],\n",
    "    'min_samples_leaf': [1, 2, 4]\n",
    "}\n",
    "\n",
    "# Initialize the model\n",
    "model = RandomForestClassifier()\n",
    "\n",
    "# Initialize GridSearchCV\n",
    "grid_search = GridSearchCV(estimator=model, param_grid=param_grid, cv=5, scoring='accuracy', n_jobs=-1)\n",
    "\n",
    "# Fit the model\n",
    "grid_search.fit(X_train, Y_train)\n",
    "\n",
    "# Best parameters and best score\n",
    "print(\"Best parameters found: \", grid_search.best_params_)\n",
    "print(\"Best cross-validation score: \", grid_search.best_score_)"
   ]
  },
  {
   "cell_type": "code",
   "execution_count": null,
   "metadata": {},
   "outputs": [],
   "source": [
    "from sklearn.ensemble import RandomForestClassifier\n",
    "\n",
    "# Initialize the model\n",
    "model = RandomForestClassifier()\n",
    "\n",
    "# Fit the model\n",
    "model.fit(X_train, y_train)\n",
    "\n",
    "# Get feature importances\n",
    "importances = model.feature_importances_\n",
    "\n",
    "# Sort feature importances in descending order\n",
    "indices = np.argsort(importances)[::-1]\n",
    "\n",
    "# Print the feature ranking\n",
    "print(\"Feature ranking:\")\n",
    "for f in range(X_train.shape[1]):\n",
    "    print(f\"{f + 1}. feature {indices[f]} ({importances[indices[f]]})\")"
   ]
  },
  {
   "cell_type": "markdown",
   "metadata": {
    "id": "MycKcLVkiw0Z"
   },
   "source": [
    "The mean CV score increased from 0.657 to 0.668, which means our model is generalizing better and making more accurate predictions!\n",
    "\n"
   ]
  },
  {
   "cell_type": "code",
   "execution_count": null,
   "metadata": {},
   "outputs": [],
   "source": [
    "from sklearn.ensemble import VotingClassifier\n",
    "from sklearn.linear_model import LogisticRegression\n",
    "from sklearn.svm import SVC\n",
    "from sklearn.ensemble import RandomForestClassifier\n",
    "\n",
    "# Initialize individual models\n",
    "model1 = LogisticRegression()\n",
    "model2 = SVC(probability=True)\n",
    "model3 = RandomForestClassifier()\n",
    "\n",
    "# Create the ensemble model\n",
    "ensemble_model = VotingClassifier(estimators=[\n",
    "    ('lr', model1), ('svc', model2), ('rf', model3)], voting='soft')\n",
    "\n",
    "# Fit the ensemble model\n",
    "ensemble_model.fit(X_train, y_train)\n",
    "\n",
    "# Evaluate the ensemble model\n",
    "cv_score = cross_val_score(ensemble_model, X_train, y_train, cv=5, scoring='accuracy')\n",
    "print(\"Cross-validation score: \", cv_score.mean())"
   ]
  },
  {
   "cell_type": "code",
   "execution_count": null,
   "metadata": {},
   "outputs": [],
   "source": []
  },
  {
   "cell_type": "code",
   "execution_count": null,
   "metadata": {},
   "outputs": [],
   "source": []
  }
 ],
 "metadata": {
  "colab": {
   "collapsed_sections": [
    "fjPj9W2f3ygn",
    "wZAznwsu2RSe",
    "oRDNsCGc3uM8",
    "nKVPDyZMxPdk"
   ],
   "provenance": []
  },
  "kernelspec": {
   "display_name": "Python 3 (ipykernel)",
   "language": "python",
   "name": "python3"
  },
  "language_info": {
   "codemirror_mode": {
    "name": "ipython",
    "version": 3
   },
   "file_extension": ".py",
   "mimetype": "text/x-python",
   "name": "python",
   "nbconvert_exporter": "python",
   "pygments_lexer": "ipython3",
   "version": "3.12.2"
  }
 },
 "nbformat": 4,
 "nbformat_minor": 4
}
