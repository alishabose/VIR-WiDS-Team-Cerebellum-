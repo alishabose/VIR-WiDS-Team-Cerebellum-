{
 "cells": [
  {
   "cell_type": "code",
   "execution_count": 1,
   "id": "eb7e87da",
   "metadata": {
    "execution": {
     "iopub.execute_input": "2025-02-24T03:24:16.523303Z",
     "iopub.status.busy": "2025-02-24T03:24:16.522830Z",
     "iopub.status.idle": "2025-02-24T03:24:20.149490Z",
     "shell.execute_reply": "2025-02-24T03:24:20.148343Z"
    },
    "id": "-vMVo3TS2c3T",
    "papermill": {
     "duration": 3.655973,
     "end_time": "2025-02-24T03:24:20.151787",
     "exception": false,
     "start_time": "2025-02-24T03:24:16.495814",
     "status": "completed"
    },
    "tags": []
   },
   "outputs": [],
   "source": [
    "import numpy as np\n",
    "import pandas as pd\n",
    "import seaborn as sns\n",
    "\n",
    "import os\n",
    "import matplotlib.pyplot as plt\n",
    "\n",
    "import sklearn\n",
    "from sklearn.svm import SVC\n",
    "from sklearn.metrics import balanced_accuracy_score, roc_auc_score, accuracy_score, confusion_matrix, roc_curve\n",
    "from scipy.stats import zscore, pearsonr, uniform\n",
    "from sklearn.linear_model import Ridge\n",
    "from sklearn.model_selection import KFold, StratifiedKFold, RandomizedSearchCV\n",
    "\n",
    "from scipy.io import loadmat\n",
    "\n",
    "from sklearn.model_selection import train_test_split\n",
    "from sklearn.preprocessing import StandardScaler\n",
    "from sklearn.metrics import roc_auc_score\n",
    "from sklearn.metrics import accuracy_score"
   ]
  },
  {
   "cell_type": "markdown",
   "id": "ca20ed0b",
   "metadata": {
    "id": "fjPj9W2f3ygn",
    "papermill": {
     "duration": 0.024409,
     "end_time": "2025-02-24T03:24:20.201323",
     "exception": false,
     "start_time": "2025-02-24T03:24:20.176914",
     "status": "completed"
    },
    "tags": []
   },
   "source": [
    "## Load in dataframes"
   ]
  },
  {
   "cell_type": "code",
   "execution_count": 2,
   "id": "088b16c8",
   "metadata": {
    "execution": {
     "iopub.execute_input": "2025-02-24T03:24:20.254839Z",
     "iopub.status.busy": "2025-02-24T03:24:20.254020Z",
     "iopub.status.idle": "2025-02-24T03:24:21.277933Z",
     "shell.execute_reply": "2025-02-24T03:24:21.276384Z"
    },
    "id": "ZL9Fy4Be2izZ",
    "outputId": "e23dbed0-db4c-4ca7-c20f-74ce89604cfe",
    "papermill": {
     "duration": 1.052802,
     "end_time": "2025-02-24T03:24:21.280112",
     "exception": false,
     "start_time": "2025-02-24T03:24:20.227310",
     "status": "completed"
    },
    "tags": []
   },
   "outputs": [
    {
     "data": {
      "text/html": [
       "<div>\n",
       "<style scoped>\n",
       "    .dataframe tbody tr th:only-of-type {\n",
       "        vertical-align: middle;\n",
       "    }\n",
       "\n",
       "    .dataframe tbody tr th {\n",
       "        vertical-align: top;\n",
       "    }\n",
       "\n",
       "    .dataframe thead th {\n",
       "        text-align: right;\n",
       "    }\n",
       "</style>\n",
       "<table border=\"1\" class=\"dataframe\">\n",
       "  <thead>\n",
       "    <tr style=\"text-align: right;\">\n",
       "      <th></th>\n",
       "      <th>participant_id</th>\n",
       "      <th>Basic_Demos_Enroll_Year</th>\n",
       "      <th>Basic_Demos_Study_Site</th>\n",
       "      <th>PreInt_Demos_Fam_Child_Ethnicity</th>\n",
       "      <th>PreInt_Demos_Fam_Child_Race</th>\n",
       "      <th>MRI_Track_Scan_Location</th>\n",
       "      <th>Barratt_Barratt_P1_Edu</th>\n",
       "      <th>Barratt_Barratt_P1_Occ</th>\n",
       "      <th>Barratt_Barratt_P2_Edu</th>\n",
       "      <th>Barratt_Barratt_P2_Occ</th>\n",
       "    </tr>\n",
       "  </thead>\n",
       "  <tbody>\n",
       "    <tr>\n",
       "      <th>0</th>\n",
       "      <td>UmrK0vMLopoR</td>\n",
       "      <td>2016</td>\n",
       "      <td>1</td>\n",
       "      <td>0.0</td>\n",
       "      <td>0</td>\n",
       "      <td>1</td>\n",
       "      <td>21</td>\n",
       "      <td>45</td>\n",
       "      <td>21</td>\n",
       "      <td>45</td>\n",
       "    </tr>\n",
       "    <tr>\n",
       "      <th>1</th>\n",
       "      <td>CPaeQkhcjg7d</td>\n",
       "      <td>2019</td>\n",
       "      <td>3</td>\n",
       "      <td>1.0</td>\n",
       "      <td>2</td>\n",
       "      <td>3</td>\n",
       "      <td>15</td>\n",
       "      <td>15</td>\n",
       "      <td>0</td>\n",
       "      <td>0</td>\n",
       "    </tr>\n",
       "    <tr>\n",
       "      <th>2</th>\n",
       "      <td>Nb4EetVPm3gs</td>\n",
       "      <td>2016</td>\n",
       "      <td>1</td>\n",
       "      <td>1.0</td>\n",
       "      <td>8</td>\n",
       "      <td>1</td>\n",
       "      <td>18</td>\n",
       "      <td>40</td>\n",
       "      <td>0</td>\n",
       "      <td>0</td>\n",
       "    </tr>\n",
       "    <tr>\n",
       "      <th>3</th>\n",
       "      <td>p4vPhVu91o4b</td>\n",
       "      <td>2018</td>\n",
       "      <td>3</td>\n",
       "      <td>0.0</td>\n",
       "      <td>8</td>\n",
       "      <td>3</td>\n",
       "      <td>15</td>\n",
       "      <td>30</td>\n",
       "      <td>18</td>\n",
       "      <td>0</td>\n",
       "    </tr>\n",
       "    <tr>\n",
       "      <th>4</th>\n",
       "      <td>M09PXs7arQ5E</td>\n",
       "      <td>2019</td>\n",
       "      <td>3</td>\n",
       "      <td>0.0</td>\n",
       "      <td>1</td>\n",
       "      <td>3</td>\n",
       "      <td>15</td>\n",
       "      <td>20</td>\n",
       "      <td>0</td>\n",
       "      <td>0</td>\n",
       "    </tr>\n",
       "  </tbody>\n",
       "</table>\n",
       "</div>"
      ],
      "text/plain": [
       "  participant_id  Basic_Demos_Enroll_Year  Basic_Demos_Study_Site  \\\n",
       "0   UmrK0vMLopoR                     2016                       1   \n",
       "1   CPaeQkhcjg7d                     2019                       3   \n",
       "2   Nb4EetVPm3gs                     2016                       1   \n",
       "3   p4vPhVu91o4b                     2018                       3   \n",
       "4   M09PXs7arQ5E                     2019                       3   \n",
       "\n",
       "   PreInt_Demos_Fam_Child_Ethnicity  PreInt_Demos_Fam_Child_Race  \\\n",
       "0                               0.0                            0   \n",
       "1                               1.0                            2   \n",
       "2                               1.0                            8   \n",
       "3                               0.0                            8   \n",
       "4                               0.0                            1   \n",
       "\n",
       "   MRI_Track_Scan_Location  Barratt_Barratt_P1_Edu  Barratt_Barratt_P1_Occ  \\\n",
       "0                        1                      21                      45   \n",
       "1                        3                      15                      15   \n",
       "2                        1                      18                      40   \n",
       "3                        3                      15                      30   \n",
       "4                        3                      15                      20   \n",
       "\n",
       "   Barratt_Barratt_P2_Edu  Barratt_Barratt_P2_Occ  \n",
       "0                      21                      45  \n",
       "1                       0                       0  \n",
       "2                       0                       0  \n",
       "3                      18                       0  \n",
       "4                       0                       0  "
      ]
     },
     "execution_count": 2,
     "metadata": {},
     "output_type": "execute_result"
    }
   ],
   "source": [
    "# categorical variable train dataframe\n",
    "\n",
    "file_path_trainC = \"/kaggle/input/widsdatathon2025/TRAIN/TRAIN_CATEGORICAL_METADATA.xlsx\"\n",
    "\n",
    "train_cat = pd.read_excel(file_path_trainC)\n",
    "train_cat.head()"
   ]
  },
  {
   "cell_type": "code",
   "execution_count": 3,
   "id": "47d054d5",
   "metadata": {
    "execution": {
     "iopub.execute_input": "2025-02-24T03:24:21.333057Z",
     "iopub.status.busy": "2025-02-24T03:24:21.332540Z",
     "iopub.status.idle": "2025-02-24T03:24:21.339583Z",
     "shell.execute_reply": "2025-02-24T03:24:21.338384Z"
    },
    "id": "EsX0e0RU4jex",
    "outputId": "773ffe46-98f2-4180-fa89-f4133159cca4",
    "papermill": {
     "duration": 0.034753,
     "end_time": "2025-02-24T03:24:21.341523",
     "exception": false,
     "start_time": "2025-02-24T03:24:21.306770",
     "status": "completed"
    },
    "tags": []
   },
   "outputs": [
    {
     "data": {
      "text/plain": [
       "Index(['participant_id', 'Basic_Demos_Enroll_Year', 'Basic_Demos_Study_Site',\n",
       "       'PreInt_Demos_Fam_Child_Ethnicity', 'PreInt_Demos_Fam_Child_Race',\n",
       "       'MRI_Track_Scan_Location', 'Barratt_Barratt_P1_Edu',\n",
       "       'Barratt_Barratt_P1_Occ', 'Barratt_Barratt_P2_Edu',\n",
       "       'Barratt_Barratt_P2_Occ'],\n",
       "      dtype='object')"
      ]
     },
     "execution_count": 3,
     "metadata": {},
     "output_type": "execute_result"
    }
   ],
   "source": [
    "train_cat.columns"
   ]
  },
  {
   "cell_type": "code",
   "execution_count": 4,
   "id": "922834a0",
   "metadata": {
    "execution": {
     "iopub.execute_input": "2025-02-24T03:24:21.391919Z",
     "iopub.status.busy": "2025-02-24T03:24:21.391572Z",
     "iopub.status.idle": "2025-02-24T03:24:38.527940Z",
     "shell.execute_reply": "2025-02-24T03:24:38.526736Z"
    },
    "id": "s4NdiAR22oSv",
    "outputId": "2321716f-15e6-4730-d596-628716617dbc",
    "papermill": {
     "duration": 17.163765,
     "end_time": "2025-02-24T03:24:38.530136",
     "exception": false,
     "start_time": "2025-02-24T03:24:21.366371",
     "status": "completed"
    },
    "tags": []
   },
   "outputs": [
    {
     "data": {
      "text/html": [
       "<div>\n",
       "<style scoped>\n",
       "    .dataframe tbody tr th:only-of-type {\n",
       "        vertical-align: middle;\n",
       "    }\n",
       "\n",
       "    .dataframe tbody tr th {\n",
       "        vertical-align: top;\n",
       "    }\n",
       "\n",
       "    .dataframe thead th {\n",
       "        text-align: right;\n",
       "    }\n",
       "</style>\n",
       "<table border=\"1\" class=\"dataframe\">\n",
       "  <thead>\n",
       "    <tr style=\"text-align: right;\">\n",
       "      <th></th>\n",
       "      <th>participant_id</th>\n",
       "      <th>0throw_1thcolumn</th>\n",
       "      <th>0throw_2thcolumn</th>\n",
       "      <th>0throw_3thcolumn</th>\n",
       "      <th>0throw_4thcolumn</th>\n",
       "      <th>0throw_5thcolumn</th>\n",
       "      <th>0throw_6thcolumn</th>\n",
       "      <th>0throw_7thcolumn</th>\n",
       "      <th>0throw_8thcolumn</th>\n",
       "      <th>0throw_9thcolumn</th>\n",
       "      <th>...</th>\n",
       "      <th>195throw_196thcolumn</th>\n",
       "      <th>195throw_197thcolumn</th>\n",
       "      <th>195throw_198thcolumn</th>\n",
       "      <th>195throw_199thcolumn</th>\n",
       "      <th>196throw_197thcolumn</th>\n",
       "      <th>196throw_198thcolumn</th>\n",
       "      <th>196throw_199thcolumn</th>\n",
       "      <th>197throw_198thcolumn</th>\n",
       "      <th>197throw_199thcolumn</th>\n",
       "      <th>198throw_199thcolumn</th>\n",
       "    </tr>\n",
       "  </thead>\n",
       "  <tbody>\n",
       "    <tr>\n",
       "      <th>0</th>\n",
       "      <td>70z8Q2xdTXM3</td>\n",
       "      <td>0.093473</td>\n",
       "      <td>0.146902</td>\n",
       "      <td>0.067893</td>\n",
       "      <td>0.015141</td>\n",
       "      <td>0.070221</td>\n",
       "      <td>0.063997</td>\n",
       "      <td>0.055382</td>\n",
       "      <td>-0.035335</td>\n",
       "      <td>0.068583</td>\n",
       "      <td>...</td>\n",
       "      <td>0.003404</td>\n",
       "      <td>-0.010359</td>\n",
       "      <td>-0.050968</td>\n",
       "      <td>-0.014365</td>\n",
       "      <td>0.128066</td>\n",
       "      <td>0.112646</td>\n",
       "      <td>-0.058980</td>\n",
       "      <td>0.028228</td>\n",
       "      <td>0.133582</td>\n",
       "      <td>0.143372</td>\n",
       "    </tr>\n",
       "    <tr>\n",
       "      <th>1</th>\n",
       "      <td>WHWymJu6zNZi</td>\n",
       "      <td>0.029580</td>\n",
       "      <td>0.179323</td>\n",
       "      <td>0.112933</td>\n",
       "      <td>0.038291</td>\n",
       "      <td>0.104899</td>\n",
       "      <td>0.064250</td>\n",
       "      <td>0.008488</td>\n",
       "      <td>0.077505</td>\n",
       "      <td>-0.004750</td>\n",
       "      <td>...</td>\n",
       "      <td>-0.008409</td>\n",
       "      <td>-0.008479</td>\n",
       "      <td>0.020891</td>\n",
       "      <td>0.017754</td>\n",
       "      <td>0.094040</td>\n",
       "      <td>0.035141</td>\n",
       "      <td>0.032537</td>\n",
       "      <td>0.075007</td>\n",
       "      <td>0.115350</td>\n",
       "      <td>0.138200</td>\n",
       "    </tr>\n",
       "    <tr>\n",
       "      <th>2</th>\n",
       "      <td>4PAQp1M6EyAo</td>\n",
       "      <td>-0.051580</td>\n",
       "      <td>0.139734</td>\n",
       "      <td>0.068295</td>\n",
       "      <td>0.046991</td>\n",
       "      <td>0.111085</td>\n",
       "      <td>0.026978</td>\n",
       "      <td>0.151377</td>\n",
       "      <td>0.021198</td>\n",
       "      <td>0.083721</td>\n",
       "      <td>...</td>\n",
       "      <td>0.053245</td>\n",
       "      <td>-0.028003</td>\n",
       "      <td>0.028773</td>\n",
       "      <td>0.024556</td>\n",
       "      <td>0.166343</td>\n",
       "      <td>0.058925</td>\n",
       "      <td>0.035485</td>\n",
       "      <td>0.063661</td>\n",
       "      <td>0.042862</td>\n",
       "      <td>0.162162</td>\n",
       "    </tr>\n",
       "    <tr>\n",
       "      <th>3</th>\n",
       "      <td>obEacy4Of68I</td>\n",
       "      <td>0.016273</td>\n",
       "      <td>0.204702</td>\n",
       "      <td>0.115980</td>\n",
       "      <td>0.043103</td>\n",
       "      <td>0.056431</td>\n",
       "      <td>0.057615</td>\n",
       "      <td>0.055773</td>\n",
       "      <td>0.075030</td>\n",
       "      <td>0.001033</td>\n",
       "      <td>...</td>\n",
       "      <td>-0.023918</td>\n",
       "      <td>-0.005356</td>\n",
       "      <td>0.018607</td>\n",
       "      <td>0.016193</td>\n",
       "      <td>0.072955</td>\n",
       "      <td>0.130135</td>\n",
       "      <td>0.056120</td>\n",
       "      <td>0.084784</td>\n",
       "      <td>0.114148</td>\n",
       "      <td>0.190584</td>\n",
       "    </tr>\n",
       "    <tr>\n",
       "      <th>4</th>\n",
       "      <td>s7WzzDcmDOhF</td>\n",
       "      <td>0.065771</td>\n",
       "      <td>0.098714</td>\n",
       "      <td>0.097604</td>\n",
       "      <td>0.112988</td>\n",
       "      <td>0.071139</td>\n",
       "      <td>0.085607</td>\n",
       "      <td>0.019392</td>\n",
       "      <td>-0.036403</td>\n",
       "      <td>-0.020375</td>\n",
       "      <td>...</td>\n",
       "      <td>0.066439</td>\n",
       "      <td>-0.076680</td>\n",
       "      <td>-0.047530</td>\n",
       "      <td>-0.031443</td>\n",
       "      <td>0.221213</td>\n",
       "      <td>0.007343</td>\n",
       "      <td>0.005763</td>\n",
       "      <td>0.083820</td>\n",
       "      <td>0.079582</td>\n",
       "      <td>0.067269</td>\n",
       "    </tr>\n",
       "  </tbody>\n",
       "</table>\n",
       "<p>5 rows × 19901 columns</p>\n",
       "</div>"
      ],
      "text/plain": [
       "  participant_id  0throw_1thcolumn  0throw_2thcolumn  0throw_3thcolumn  \\\n",
       "0   70z8Q2xdTXM3          0.093473          0.146902          0.067893   \n",
       "1   WHWymJu6zNZi          0.029580          0.179323          0.112933   \n",
       "2   4PAQp1M6EyAo         -0.051580          0.139734          0.068295   \n",
       "3   obEacy4Of68I          0.016273          0.204702          0.115980   \n",
       "4   s7WzzDcmDOhF          0.065771          0.098714          0.097604   \n",
       "\n",
       "   0throw_4thcolumn  0throw_5thcolumn  0throw_6thcolumn  0throw_7thcolumn  \\\n",
       "0          0.015141          0.070221          0.063997          0.055382   \n",
       "1          0.038291          0.104899          0.064250          0.008488   \n",
       "2          0.046991          0.111085          0.026978          0.151377   \n",
       "3          0.043103          0.056431          0.057615          0.055773   \n",
       "4          0.112988          0.071139          0.085607          0.019392   \n",
       "\n",
       "   0throw_8thcolumn  0throw_9thcolumn  ...  195throw_196thcolumn  \\\n",
       "0         -0.035335          0.068583  ...              0.003404   \n",
       "1          0.077505         -0.004750  ...             -0.008409   \n",
       "2          0.021198          0.083721  ...              0.053245   \n",
       "3          0.075030          0.001033  ...             -0.023918   \n",
       "4         -0.036403         -0.020375  ...              0.066439   \n",
       "\n",
       "   195throw_197thcolumn  195throw_198thcolumn  195throw_199thcolumn  \\\n",
       "0             -0.010359             -0.050968             -0.014365   \n",
       "1             -0.008479              0.020891              0.017754   \n",
       "2             -0.028003              0.028773              0.024556   \n",
       "3             -0.005356              0.018607              0.016193   \n",
       "4             -0.076680             -0.047530             -0.031443   \n",
       "\n",
       "   196throw_197thcolumn  196throw_198thcolumn  196throw_199thcolumn  \\\n",
       "0              0.128066              0.112646             -0.058980   \n",
       "1              0.094040              0.035141              0.032537   \n",
       "2              0.166343              0.058925              0.035485   \n",
       "3              0.072955              0.130135              0.056120   \n",
       "4              0.221213              0.007343              0.005763   \n",
       "\n",
       "   197throw_198thcolumn  197throw_199thcolumn  198throw_199thcolumn  \n",
       "0              0.028228              0.133582              0.143372  \n",
       "1              0.075007              0.115350              0.138200  \n",
       "2              0.063661              0.042862              0.162162  \n",
       "3              0.084784              0.114148              0.190584  \n",
       "4              0.083820              0.079582              0.067269  \n",
       "\n",
       "[5 rows x 19901 columns]"
      ]
     },
     "execution_count": 4,
     "metadata": {},
     "output_type": "execute_result"
    }
   ],
   "source": [
    "# Functional Connectome Matrices\n",
    "\n",
    "file_path_trainFCM = \"/kaggle/input/widsdatathon2025/TRAIN/TRAIN_FUNCTIONAL_CONNECTOME_MATRICES.csv\"\n",
    "train_FCM = pd.read_csv(file_path_trainFCM)\n",
    "train_FCM.head()"
   ]
  },
  {
   "cell_type": "code",
   "execution_count": 5,
   "id": "658c2dc9",
   "metadata": {
    "execution": {
     "iopub.execute_input": "2025-02-24T03:24:38.582752Z",
     "iopub.status.busy": "2025-02-24T03:24:38.582381Z",
     "iopub.status.idle": "2025-02-24T03:24:38.588920Z",
     "shell.execute_reply": "2025-02-24T03:24:38.587870Z"
    },
    "id": "i22tDJMV4nYe",
    "outputId": "5b70d537-06cd-47dc-aa13-07f426827bbe",
    "papermill": {
     "duration": 0.03422,
     "end_time": "2025-02-24T03:24:38.590704",
     "exception": false,
     "start_time": "2025-02-24T03:24:38.556484",
     "status": "completed"
    },
    "tags": []
   },
   "outputs": [
    {
     "data": {
      "text/plain": [
       "Index(['participant_id', '0throw_1thcolumn', '0throw_2thcolumn',\n",
       "       '0throw_3thcolumn', '0throw_4thcolumn', '0throw_5thcolumn',\n",
       "       '0throw_6thcolumn', '0throw_7thcolumn', '0throw_8thcolumn',\n",
       "       '0throw_9thcolumn',\n",
       "       ...\n",
       "       '195throw_196thcolumn', '195throw_197thcolumn', '195throw_198thcolumn',\n",
       "       '195throw_199thcolumn', '196throw_197thcolumn', '196throw_198thcolumn',\n",
       "       '196throw_199thcolumn', '197throw_198thcolumn', '197throw_199thcolumn',\n",
       "       '198throw_199thcolumn'],\n",
       "      dtype='object', length=19901)"
      ]
     },
     "execution_count": 5,
     "metadata": {},
     "output_type": "execute_result"
    }
   ],
   "source": [
    "train_FCM.columns"
   ]
  },
  {
   "cell_type": "code",
   "execution_count": 6,
   "id": "74af83bf",
   "metadata": {
    "execution": {
     "iopub.execute_input": "2025-02-24T03:24:38.641487Z",
     "iopub.status.busy": "2025-02-24T03:24:38.641061Z",
     "iopub.status.idle": "2025-02-24T03:24:38.959732Z",
     "shell.execute_reply": "2025-02-24T03:24:38.958252Z"
    },
    "id": "yrNo0SP-2pz2",
    "outputId": "c447c79d-f4ee-4222-b233-6aad0b4edbcf",
    "papermill": {
     "duration": 0.346527,
     "end_time": "2025-02-24T03:24:38.962101",
     "exception": false,
     "start_time": "2025-02-24T03:24:38.615574",
     "status": "completed"
    },
    "tags": []
   },
   "outputs": [
    {
     "name": "stderr",
     "output_type": "stream",
     "text": [
      "/usr/local/lib/python3.10/dist-packages/pandas/io/formats/format.py:1458: RuntimeWarning: invalid value encountered in greater\n",
      "  has_large_values = (abs_vals > 1e6).any()\n",
      "/usr/local/lib/python3.10/dist-packages/pandas/io/formats/format.py:1459: RuntimeWarning: invalid value encountered in less\n",
      "  has_small_values = ((abs_vals < 10 ** (-self.digits)) & (abs_vals > 0)).any()\n",
      "/usr/local/lib/python3.10/dist-packages/pandas/io/formats/format.py:1459: RuntimeWarning: invalid value encountered in greater\n",
      "  has_small_values = ((abs_vals < 10 ** (-self.digits)) & (abs_vals > 0)).any()\n"
     ]
    },
    {
     "data": {
      "text/html": [
       "<div>\n",
       "<style scoped>\n",
       "    .dataframe tbody tr th:only-of-type {\n",
       "        vertical-align: middle;\n",
       "    }\n",
       "\n",
       "    .dataframe tbody tr th {\n",
       "        vertical-align: top;\n",
       "    }\n",
       "\n",
       "    .dataframe thead th {\n",
       "        text-align: right;\n",
       "    }\n",
       "</style>\n",
       "<table border=\"1\" class=\"dataframe\">\n",
       "  <thead>\n",
       "    <tr style=\"text-align: right;\">\n",
       "      <th></th>\n",
       "      <th>participant_id</th>\n",
       "      <th>EHQ_EHQ_Total</th>\n",
       "      <th>ColorVision_CV_Score</th>\n",
       "      <th>APQ_P_APQ_P_CP</th>\n",
       "      <th>APQ_P_APQ_P_ID</th>\n",
       "      <th>APQ_P_APQ_P_INV</th>\n",
       "      <th>APQ_P_APQ_P_OPD</th>\n",
       "      <th>APQ_P_APQ_P_PM</th>\n",
       "      <th>APQ_P_APQ_P_PP</th>\n",
       "      <th>SDQ_SDQ_Conduct_Problems</th>\n",
       "      <th>SDQ_SDQ_Difficulties_Total</th>\n",
       "      <th>SDQ_SDQ_Emotional_Problems</th>\n",
       "      <th>SDQ_SDQ_Externalizing</th>\n",
       "      <th>SDQ_SDQ_Generating_Impact</th>\n",
       "      <th>SDQ_SDQ_Hyperactivity</th>\n",
       "      <th>SDQ_SDQ_Internalizing</th>\n",
       "      <th>SDQ_SDQ_Peer_Problems</th>\n",
       "      <th>SDQ_SDQ_Prosocial</th>\n",
       "      <th>MRI_Track_Age_at_Scan</th>\n",
       "    </tr>\n",
       "  </thead>\n",
       "  <tbody>\n",
       "    <tr>\n",
       "      <th>0</th>\n",
       "      <td>UmrK0vMLopoR</td>\n",
       "      <td>40.00</td>\n",
       "      <td>13</td>\n",
       "      <td>3</td>\n",
       "      <td>10</td>\n",
       "      <td>47</td>\n",
       "      <td>13</td>\n",
       "      <td>11</td>\n",
       "      <td>28</td>\n",
       "      <td>0</td>\n",
       "      <td>6</td>\n",
       "      <td>1</td>\n",
       "      <td>5</td>\n",
       "      <td>0</td>\n",
       "      <td>5</td>\n",
       "      <td>1</td>\n",
       "      <td>0</td>\n",
       "      <td>10</td>\n",
       "      <td>NaN</td>\n",
       "    </tr>\n",
       "    <tr>\n",
       "      <th>1</th>\n",
       "      <td>CPaeQkhcjg7d</td>\n",
       "      <td>-94.47</td>\n",
       "      <td>14</td>\n",
       "      <td>3</td>\n",
       "      <td>13</td>\n",
       "      <td>34</td>\n",
       "      <td>18</td>\n",
       "      <td>23</td>\n",
       "      <td>30</td>\n",
       "      <td>0</td>\n",
       "      <td>18</td>\n",
       "      <td>6</td>\n",
       "      <td>8</td>\n",
       "      <td>7</td>\n",
       "      <td>8</td>\n",
       "      <td>10</td>\n",
       "      <td>4</td>\n",
       "      <td>5</td>\n",
       "      <td>NaN</td>\n",
       "    </tr>\n",
       "    <tr>\n",
       "      <th>2</th>\n",
       "      <td>Nb4EetVPm3gs</td>\n",
       "      <td>-46.67</td>\n",
       "      <td>14</td>\n",
       "      <td>4</td>\n",
       "      <td>10</td>\n",
       "      <td>35</td>\n",
       "      <td>16</td>\n",
       "      <td>10</td>\n",
       "      <td>29</td>\n",
       "      <td>1</td>\n",
       "      <td>14</td>\n",
       "      <td>2</td>\n",
       "      <td>8</td>\n",
       "      <td>5</td>\n",
       "      <td>7</td>\n",
       "      <td>6</td>\n",
       "      <td>4</td>\n",
       "      <td>9</td>\n",
       "      <td>8.239904</td>\n",
       "    </tr>\n",
       "    <tr>\n",
       "      <th>3</th>\n",
       "      <td>p4vPhVu91o4b</td>\n",
       "      <td>-26.68</td>\n",
       "      <td>10</td>\n",
       "      <td>5</td>\n",
       "      <td>12</td>\n",
       "      <td>39</td>\n",
       "      <td>19</td>\n",
       "      <td>16</td>\n",
       "      <td>28</td>\n",
       "      <td>6</td>\n",
       "      <td>24</td>\n",
       "      <td>4</td>\n",
       "      <td>16</td>\n",
       "      <td>9</td>\n",
       "      <td>10</td>\n",
       "      <td>8</td>\n",
       "      <td>4</td>\n",
       "      <td>6</td>\n",
       "      <td>NaN</td>\n",
       "    </tr>\n",
       "    <tr>\n",
       "      <th>4</th>\n",
       "      <td>M09PXs7arQ5E</td>\n",
       "      <td>0.00</td>\n",
       "      <td>14</td>\n",
       "      <td>5</td>\n",
       "      <td>15</td>\n",
       "      <td>40</td>\n",
       "      <td>20</td>\n",
       "      <td>24</td>\n",
       "      <td>28</td>\n",
       "      <td>1</td>\n",
       "      <td>18</td>\n",
       "      <td>4</td>\n",
       "      <td>11</td>\n",
       "      <td>4</td>\n",
       "      <td>10</td>\n",
       "      <td>7</td>\n",
       "      <td>3</td>\n",
       "      <td>9</td>\n",
       "      <td>8.940679</td>\n",
       "    </tr>\n",
       "  </tbody>\n",
       "</table>\n",
       "</div>"
      ],
      "text/plain": [
       "  participant_id  EHQ_EHQ_Total  ColorVision_CV_Score  APQ_P_APQ_P_CP  \\\n",
       "0   UmrK0vMLopoR          40.00                    13               3   \n",
       "1   CPaeQkhcjg7d         -94.47                    14               3   \n",
       "2   Nb4EetVPm3gs         -46.67                    14               4   \n",
       "3   p4vPhVu91o4b         -26.68                    10               5   \n",
       "4   M09PXs7arQ5E           0.00                    14               5   \n",
       "\n",
       "   APQ_P_APQ_P_ID  APQ_P_APQ_P_INV  APQ_P_APQ_P_OPD  APQ_P_APQ_P_PM  \\\n",
       "0              10               47               13              11   \n",
       "1              13               34               18              23   \n",
       "2              10               35               16              10   \n",
       "3              12               39               19              16   \n",
       "4              15               40               20              24   \n",
       "\n",
       "   APQ_P_APQ_P_PP  SDQ_SDQ_Conduct_Problems  SDQ_SDQ_Difficulties_Total  \\\n",
       "0              28                         0                           6   \n",
       "1              30                         0                          18   \n",
       "2              29                         1                          14   \n",
       "3              28                         6                          24   \n",
       "4              28                         1                          18   \n",
       "\n",
       "   SDQ_SDQ_Emotional_Problems  SDQ_SDQ_Externalizing  \\\n",
       "0                           1                      5   \n",
       "1                           6                      8   \n",
       "2                           2                      8   \n",
       "3                           4                     16   \n",
       "4                           4                     11   \n",
       "\n",
       "   SDQ_SDQ_Generating_Impact  SDQ_SDQ_Hyperactivity  SDQ_SDQ_Internalizing  \\\n",
       "0                          0                      5                      1   \n",
       "1                          7                      8                     10   \n",
       "2                          5                      7                      6   \n",
       "3                          9                     10                      8   \n",
       "4                          4                     10                      7   \n",
       "\n",
       "   SDQ_SDQ_Peer_Problems  SDQ_SDQ_Prosocial  MRI_Track_Age_at_Scan  \n",
       "0                      0                 10                    NaN  \n",
       "1                      4                  5                    NaN  \n",
       "2                      4                  9               8.239904  \n",
       "3                      4                  6                    NaN  \n",
       "4                      3                  9               8.940679  "
      ]
     },
     "execution_count": 6,
     "metadata": {},
     "output_type": "execute_result"
    }
   ],
   "source": [
    "# Quantitative varaible train dataframe\n",
    "\n",
    "file_path_trainQ = \"/kaggle/input/widsdatathon2025/TRAIN/TRAIN_QUANTITATIVE_METADATA.xlsx\"\n",
    "train_Quant = pd.read_excel(file_path_trainQ)\n",
    "train_Quant.head()"
   ]
  },
  {
   "cell_type": "code",
   "execution_count": 7,
   "id": "614ac96d",
   "metadata": {
    "execution": {
     "iopub.execute_input": "2025-02-24T03:24:39.015203Z",
     "iopub.status.busy": "2025-02-24T03:24:39.014842Z",
     "iopub.status.idle": "2025-02-24T03:24:39.021622Z",
     "shell.execute_reply": "2025-02-24T03:24:39.020404Z"
    },
    "id": "YLHWTGKH4qBz",
    "outputId": "a60d19b6-ca1b-4acb-d82b-a43bd0fdc8ca",
    "papermill": {
     "duration": 0.036014,
     "end_time": "2025-02-24T03:24:39.023500",
     "exception": false,
     "start_time": "2025-02-24T03:24:38.987486",
     "status": "completed"
    },
    "tags": []
   },
   "outputs": [
    {
     "data": {
      "text/plain": [
       "Index(['participant_id', 'EHQ_EHQ_Total', 'ColorVision_CV_Score',\n",
       "       'APQ_P_APQ_P_CP', 'APQ_P_APQ_P_ID', 'APQ_P_APQ_P_INV',\n",
       "       'APQ_P_APQ_P_OPD', 'APQ_P_APQ_P_PM', 'APQ_P_APQ_P_PP',\n",
       "       'SDQ_SDQ_Conduct_Problems', 'SDQ_SDQ_Difficulties_Total',\n",
       "       'SDQ_SDQ_Emotional_Problems', 'SDQ_SDQ_Externalizing',\n",
       "       'SDQ_SDQ_Generating_Impact', 'SDQ_SDQ_Hyperactivity',\n",
       "       'SDQ_SDQ_Internalizing', 'SDQ_SDQ_Peer_Problems', 'SDQ_SDQ_Prosocial',\n",
       "       'MRI_Track_Age_at_Scan'],\n",
       "      dtype='object')"
      ]
     },
     "execution_count": 7,
     "metadata": {},
     "output_type": "execute_result"
    }
   ],
   "source": [
    "train_Quant.columns"
   ]
  },
  {
   "cell_type": "code",
   "execution_count": 8,
   "id": "ce58b62c",
   "metadata": {
    "execution": {
     "iopub.execute_input": "2025-02-24T03:24:39.076443Z",
     "iopub.status.busy": "2025-02-24T03:24:39.076051Z",
     "iopub.status.idle": "2025-02-24T03:24:39.170824Z",
     "shell.execute_reply": "2025-02-24T03:24:39.169414Z"
    },
    "id": "mIXLPfwm6WGl",
    "outputId": "9eb39157-5bb4-42b3-c33c-33be91f86c98",
    "papermill": {
     "duration": 0.124252,
     "end_time": "2025-02-24T03:24:39.172969",
     "exception": false,
     "start_time": "2025-02-24T03:24:39.048717",
     "status": "completed"
    },
    "tags": []
   },
   "outputs": [
    {
     "data": {
      "text/html": [
       "<div>\n",
       "<style scoped>\n",
       "    .dataframe tbody tr th:only-of-type {\n",
       "        vertical-align: middle;\n",
       "    }\n",
       "\n",
       "    .dataframe tbody tr th {\n",
       "        vertical-align: top;\n",
       "    }\n",
       "\n",
       "    .dataframe thead th {\n",
       "        text-align: right;\n",
       "    }\n",
       "</style>\n",
       "<table border=\"1\" class=\"dataframe\">\n",
       "  <thead>\n",
       "    <tr style=\"text-align: right;\">\n",
       "      <th></th>\n",
       "      <th>participant_id</th>\n",
       "      <th>ADHD_Outcome</th>\n",
       "      <th>Sex_F</th>\n",
       "    </tr>\n",
       "  </thead>\n",
       "  <tbody>\n",
       "    <tr>\n",
       "      <th>0</th>\n",
       "      <td>UmrK0vMLopoR</td>\n",
       "      <td>1</td>\n",
       "      <td>1</td>\n",
       "    </tr>\n",
       "    <tr>\n",
       "      <th>1</th>\n",
       "      <td>CPaeQkhcjg7d</td>\n",
       "      <td>1</td>\n",
       "      <td>0</td>\n",
       "    </tr>\n",
       "    <tr>\n",
       "      <th>2</th>\n",
       "      <td>Nb4EetVPm3gs</td>\n",
       "      <td>1</td>\n",
       "      <td>0</td>\n",
       "    </tr>\n",
       "    <tr>\n",
       "      <th>3</th>\n",
       "      <td>p4vPhVu91o4b</td>\n",
       "      <td>1</td>\n",
       "      <td>1</td>\n",
       "    </tr>\n",
       "    <tr>\n",
       "      <th>4</th>\n",
       "      <td>M09PXs7arQ5E</td>\n",
       "      <td>1</td>\n",
       "      <td>1</td>\n",
       "    </tr>\n",
       "  </tbody>\n",
       "</table>\n",
       "</div>"
      ],
      "text/plain": [
       "  participant_id  ADHD_Outcome  Sex_F\n",
       "0   UmrK0vMLopoR             1      1\n",
       "1   CPaeQkhcjg7d             1      0\n",
       "2   Nb4EetVPm3gs             1      0\n",
       "3   p4vPhVu91o4b             1      1\n",
       "4   M09PXs7arQ5E             1      1"
      ]
     },
     "execution_count": 8,
     "metadata": {},
     "output_type": "execute_result"
    }
   ],
   "source": [
    "# ADHD and Sex solutions dataframe for model training\n",
    "\n",
    "file_path_trainS = \"/kaggle/input/widsdatathon2025/TRAIN/TRAINING_SOLUTIONS.xlsx\"\n",
    "train_Solutions = pd.read_excel(file_path_trainS)\n",
    "train_Solutions.head()"
   ]
  },
  {
   "cell_type": "code",
   "execution_count": 9,
   "id": "ec180b05",
   "metadata": {
    "execution": {
     "iopub.execute_input": "2025-02-24T03:24:39.227662Z",
     "iopub.status.busy": "2025-02-24T03:24:39.227211Z",
     "iopub.status.idle": "2025-02-24T03:24:39.233955Z",
     "shell.execute_reply": "2025-02-24T03:24:39.232732Z"
    },
    "id": "fwTsWx1x4r-d",
    "outputId": "4874fbe0-4fa3-4195-bff6-9527b3f9535f",
    "papermill": {
     "duration": 0.037265,
     "end_time": "2025-02-24T03:24:39.236042",
     "exception": false,
     "start_time": "2025-02-24T03:24:39.198777",
     "status": "completed"
    },
    "tags": []
   },
   "outputs": [
    {
     "data": {
      "text/plain": [
       "Index(['participant_id', 'ADHD_Outcome', 'Sex_F'], dtype='object')"
      ]
     },
     "execution_count": 9,
     "metadata": {},
     "output_type": "execute_result"
    }
   ],
   "source": [
    "train_Solutions.columns"
   ]
  },
  {
   "cell_type": "markdown",
   "id": "4688bac4",
   "metadata": {
    "id": "wZAznwsu2RSe",
    "papermill": {
     "duration": 0.027045,
     "end_time": "2025-02-24T03:24:39.289150",
     "exception": false,
     "start_time": "2025-02-24T03:24:39.262105",
     "status": "completed"
    },
    "tags": []
   },
   "source": [
    "## Exploratory Data Analysis"
   ]
  },
  {
   "cell_type": "markdown",
   "id": "17e9bf9d",
   "metadata": {
    "id": "sjcRtC7Y6n2M",
    "papermill": {
     "duration": 0.083657,
     "end_time": "2025-02-24T03:24:39.398270",
     "exception": false,
     "start_time": "2025-02-24T03:24:39.314613",
     "status": "completed"
    },
    "tags": []
   },
   "source": [
    "Exploratory Data Analysis (EDA) is a way to understand your dataset by looking at its patterns, trends, and relationships. It helps identify missing data, outliers, and how variables interact."
   ]
  },
  {
   "cell_type": "markdown",
   "id": "7faf21cd",
   "metadata": {
    "id": "ehhDhkyc6xlG",
    "papermill": {
     "duration": 0.025553,
     "end_time": "2025-02-24T03:24:39.450179",
     "exception": false,
     "start_time": "2025-02-24T03:24:39.424626",
     "status": "completed"
    },
    "tags": []
   },
   "source": [
    "Use `.info()` and `.describe()` to summarize each dataset."
   ]
  },
  {
   "cell_type": "code",
   "execution_count": 10,
   "id": "be79a652",
   "metadata": {
    "execution": {
     "iopub.execute_input": "2025-02-24T03:24:39.503224Z",
     "iopub.status.busy": "2025-02-24T03:24:39.502857Z",
     "iopub.status.idle": "2025-02-24T03:24:39.528274Z",
     "shell.execute_reply": "2025-02-24T03:24:39.526675Z"
    },
    "id": "zKW7OdUu2WwO",
    "outputId": "bdd3a580-461d-4f3d-ed93-44d2490e2160",
    "papermill": {
     "duration": 0.053884,
     "end_time": "2025-02-24T03:24:39.530099",
     "exception": false,
     "start_time": "2025-02-24T03:24:39.476215",
     "status": "completed"
    },
    "tags": []
   },
   "outputs": [
    {
     "name": "stdout",
     "output_type": "stream",
     "text": [
      "<class 'pandas.core.frame.DataFrame'>\n",
      "RangeIndex: 1213 entries, 0 to 1212\n",
      "Data columns (total 10 columns):\n",
      " #   Column                            Non-Null Count  Dtype  \n",
      "---  ------                            --------------  -----  \n",
      " 0   participant_id                    1213 non-null   object \n",
      " 1   Basic_Demos_Enroll_Year           1213 non-null   int64  \n",
      " 2   Basic_Demos_Study_Site            1213 non-null   int64  \n",
      " 3   PreInt_Demos_Fam_Child_Ethnicity  1202 non-null   float64\n",
      " 4   PreInt_Demos_Fam_Child_Race       1213 non-null   int64  \n",
      " 5   MRI_Track_Scan_Location           1213 non-null   int64  \n",
      " 6   Barratt_Barratt_P1_Edu            1213 non-null   int64  \n",
      " 7   Barratt_Barratt_P1_Occ            1213 non-null   int64  \n",
      " 8   Barratt_Barratt_P2_Edu            1213 non-null   int64  \n",
      " 9   Barratt_Barratt_P2_Occ            1213 non-null   int64  \n",
      "dtypes: float64(1), int64(8), object(1)\n",
      "memory usage: 94.9+ KB\n"
     ]
    }
   ],
   "source": [
    "train_cat.info()"
   ]
  },
  {
   "cell_type": "markdown",
   "id": "738bc471",
   "metadata": {
    "id": "fZ1Exwz44tpV",
    "papermill": {
     "duration": 0.026664,
     "end_time": "2025-02-24T03:24:39.582565",
     "exception": false,
     "start_time": "2025-02-24T03:24:39.555901",
     "status": "completed"
    },
    "tags": []
   },
   "source": [
    "Understand the distribution of the categorical variables with `.value_counts()`."
   ]
  },
  {
   "cell_type": "code",
   "execution_count": 11,
   "id": "6e6d6c88",
   "metadata": {
    "execution": {
     "iopub.execute_input": "2025-02-24T03:24:39.635907Z",
     "iopub.status.busy": "2025-02-24T03:24:39.635534Z",
     "iopub.status.idle": "2025-02-24T03:24:39.645651Z",
     "shell.execute_reply": "2025-02-24T03:24:39.644164Z"
    },
    "id": "T07otyOF6zq8",
    "outputId": "05b34b99-4249-4abe-fb04-9233b6c3a419",
    "papermill": {
     "duration": 0.038098,
     "end_time": "2025-02-24T03:24:39.647209",
     "exception": false,
     "start_time": "2025-02-24T03:24:39.609111",
     "status": "completed"
    },
    "tags": []
   },
   "outputs": [
    {
     "data": {
      "text/plain": [
       "Barratt_Barratt_P2_Occ\n",
       "0     287\n",
       "45    239\n",
       "35    195\n",
       "30    149\n",
       "40    116\n",
       "15     86\n",
       "20     41\n",
       "5      38\n",
       "10     37\n",
       "25     25\n",
       "Name: count, dtype: int64"
      ]
     },
     "execution_count": 11,
     "metadata": {},
     "output_type": "execute_result"
    }
   ],
   "source": [
    "#Barratt_Barratt_P2_Occ - Barratt Simplified Measure of Social Status - Parent 2 Occupation\n",
    "train_cat['Barratt_Barratt_P2_Occ'].value_counts()\n",
    "\n",
    "#Look back at the dictionary on Kaggle!\n",
    "# to see what category these integers [0, 45, 35...] represent."
   ]
  },
  {
   "cell_type": "markdown",
   "id": "51632feb",
   "metadata": {
    "id": "ahQe57Ap63W5",
    "papermill": {
     "duration": 0.025845,
     "end_time": "2025-02-24T03:24:39.699098",
     "exception": false,
     "start_time": "2025-02-24T03:24:39.673253",
     "status": "completed"
    },
    "tags": []
   },
   "source": [
    "Visualize distributions:"
   ]
  },
  {
   "cell_type": "code",
   "execution_count": 12,
   "id": "dc6344cb",
   "metadata": {
    "execution": {
     "iopub.execute_input": "2025-02-24T03:24:39.752491Z",
     "iopub.status.busy": "2025-02-24T03:24:39.752086Z",
     "iopub.status.idle": "2025-02-24T03:24:40.064387Z",
     "shell.execute_reply": "2025-02-24T03:24:40.063140Z"
    },
    "id": "cDf5hyWh61wx",
    "outputId": "a9703f61-5ce2-49ff-a313-8fbd1aad90f1",
    "papermill": {
     "duration": 0.341414,
     "end_time": "2025-02-24T03:24:40.066471",
     "exception": false,
     "start_time": "2025-02-24T03:24:39.725057",
     "status": "completed"
    },
    "tags": []
   },
   "outputs": [
    {
     "data": {
      "image/png": "[encoded data removed]",
      "text/plain": [
       "<Figure size 640x480 with 1 Axes>"
      ]
     },
     "metadata": {},
     "output_type": "display_data"
    }
   ],
   "source": [
    "sns.countplot(x='Barratt_Barratt_P2_Occ', data=train_cat[['Barratt_Barratt_P2_Occ']])\n",
    "plt.title(f\"Distribution of Barratt_Barratt_P2_Occ\")\n",
    "plt.xticks(rotation=45)\n",
    "plt.show()"
   ]
  },
  {
   "cell_type": "markdown",
   "id": "6d0356d7",
   "metadata": {
    "id": "zC_weFT968wK",
    "papermill": {
     "duration": 0.026616,
     "end_time": "2025-02-24T03:24:40.122020",
     "exception": false,
     "start_time": "2025-02-24T03:24:40.095404",
     "status": "completed"
    },
    "tags": []
   },
   "source": [
    "Understand the distribution of quantitative variables."
   ]
  },
  {
   "cell_type": "code",
   "execution_count": 13,
   "id": "9fdfb3ef",
   "metadata": {
    "execution": {
     "iopub.execute_input": "2025-02-24T03:24:40.176237Z",
     "iopub.status.busy": "2025-02-24T03:24:40.175881Z",
     "iopub.status.idle": "2025-02-24T03:24:40.452297Z",
     "shell.execute_reply": "2025-02-24T03:24:40.451136Z"
    },
    "id": "fzSV4urF66qV",
    "outputId": "7fb770e9-20ee-4a67-e7e1-04d1f056b040",
    "papermill": {
     "duration": 0.305798,
     "end_time": "2025-02-24T03:24:40.454128",
     "exception": false,
     "start_time": "2025-02-24T03:24:40.148330",
     "status": "completed"
    },
    "tags": []
   },
   "outputs": [
    {
     "data": {
      "image/png": "[encoded data removed]",
      "text/plain": [
       "<Figure size 1200x1000 with 1 Axes>"
      ]
     },
     "metadata": {},
     "output_type": "display_data"
    }
   ],
   "source": [
    "# Distribution of MRI_Track_Age_at_Scan\n",
    "train_Quant['MRI_Track_Age_at_Scan'].hist(figsize=(12, 10), bins=20)\n",
    "plt.suptitle(\"MRI_Track_Age_at_Scan Distributions\")\n",
    "plt.xlabel('MRI_Track_Age_at_Scan')\n",
    "plt.ylabel('Frequency Count')\n",
    "plt.show()\n"
   ]
  },
  {
   "cell_type": "markdown",
   "id": "05c72e4b",
   "metadata": {
    "id": "_q6gH6hY7B2v",
    "papermill": {
     "duration": 0.026817,
     "end_time": "2025-02-24T03:24:40.508434",
     "exception": false,
     "start_time": "2025-02-24T03:24:40.481617",
     "status": "completed"
    },
    "tags": []
   },
   "source": [
    "The train_Solutions dataset contains labels for `ADHD` and `gender`. Let's examine the class distribution."
   ]
  },
  {
   "cell_type": "code",
   "execution_count": 14,
   "id": "f6e44365",
   "metadata": {
    "execution": {
     "iopub.execute_input": "2025-02-24T03:24:40.563853Z",
     "iopub.status.busy": "2025-02-24T03:24:40.563389Z",
     "iopub.status.idle": "2025-02-24T03:24:40.571272Z",
     "shell.execute_reply": "2025-02-24T03:24:40.569920Z"
    },
    "id": "9M0TurZv7Ch-",
    "outputId": "85ef1314-1687-4cc4-af84-d83b5b85c536",
    "papermill": {
     "duration": 0.037642,
     "end_time": "2025-02-24T03:24:40.573062",
     "exception": false,
     "start_time": "2025-02-24T03:24:40.535420",
     "status": "completed"
    },
    "tags": []
   },
   "outputs": [
    {
     "data": {
      "text/plain": [
       "ADHD_Outcome\n",
       "1    831\n",
       "0    382\n",
       "Name: count, dtype: int64"
      ]
     },
     "execution_count": 14,
     "metadata": {},
     "output_type": "execute_result"
    }
   ],
   "source": [
    "# ADHD distribution\n",
    "train_Solutions['ADHD_Outcome'].value_counts()"
   ]
  },
  {
   "cell_type": "code",
   "execution_count": 15,
   "id": "01417035",
   "metadata": {
    "execution": {
     "iopub.execute_input": "2025-02-24T03:24:40.630346Z",
     "iopub.status.busy": "2025-02-24T03:24:40.629940Z",
     "iopub.status.idle": "2025-02-24T03:24:40.815577Z",
     "shell.execute_reply": "2025-02-24T03:24:40.814430Z"
    },
    "id": "KZbnTsY_49sR",
    "outputId": "77e3ee01-3848-412f-94dc-b655c38246fd",
    "papermill": {
     "duration": 0.21657,
     "end_time": "2025-02-24T03:24:40.817600",
     "exception": false,
     "start_time": "2025-02-24T03:24:40.601030",
     "status": "completed"
    },
    "tags": []
   },
   "outputs": [
    {
     "data": {
      "image/png": "[encoded data removed]",
      "text/plain": [
       "<Figure size 640x480 with 1 Axes>"
      ]
     },
     "metadata": {},
     "output_type": "display_data"
    }
   ],
   "source": [
    "train_Solutions['ADHD_Outcome'].value_counts().plot(kind='bar', color='blue')\n",
    "plt.title('ADHD Outcome')\n",
    "plt.xlabel('Outcome (0 = No, 1 = Yes)')\n",
    "plt.ylabel('Count')\n",
    "plt.show()"
   ]
  },
  {
   "cell_type": "code",
   "execution_count": 16,
   "id": "c4e8ada8",
   "metadata": {
    "execution": {
     "iopub.execute_input": "2025-02-24T03:24:40.876037Z",
     "iopub.status.busy": "2025-02-24T03:24:40.875604Z",
     "iopub.status.idle": "2025-02-24T03:24:40.883429Z",
     "shell.execute_reply": "2025-02-24T03:24:40.882343Z"
    },
    "id": "McPUzuLF7EAx",
    "outputId": "ebd787dc-a9db-4115-fb63-e370463a8b17",
    "papermill": {
     "duration": 0.038139,
     "end_time": "2025-02-24T03:24:40.885153",
     "exception": false,
     "start_time": "2025-02-24T03:24:40.847014",
     "status": "completed"
    },
    "tags": []
   },
   "outputs": [
    {
     "data": {
      "text/plain": [
       "Sex_F\n",
       "0    797\n",
       "1    416\n",
       "Name: count, dtype: int64"
      ]
     },
     "execution_count": 16,
     "metadata": {},
     "output_type": "execute_result"
    }
   ],
   "source": [
    "# Gender distribution\n",
    "train_Solutions['Sex_F'].value_counts()"
   ]
  },
  {
   "cell_type": "markdown",
   "id": "e6f87845",
   "metadata": {
    "id": "2ruorDbo5Awi",
    "papermill": {
     "duration": 0.046242,
     "end_time": "2025-02-24T03:24:40.962751",
     "exception": false,
     "start_time": "2025-02-24T03:24:40.916509",
     "status": "completed"
    },
    "tags": []
   },
   "source": [
    "**Key Insight**: Gender imbalance in the dataset may introduce bias in modeling. Address this during data preparation."
   ]
  },
  {
   "cell_type": "code",
   "execution_count": 17,
   "id": "98e2ab7d",
   "metadata": {
    "execution": {
     "iopub.execute_input": "2025-02-24T03:24:41.031146Z",
     "iopub.status.busy": "2025-02-24T03:24:41.030796Z",
     "iopub.status.idle": "2025-02-24T03:24:41.312872Z",
     "shell.execute_reply": "2025-02-24T03:24:41.311685Z"
    },
    "id": "gyobHTO97IcG",
    "outputId": "38e851a6-15d8-4971-ef9a-21a5ee888d96",
    "papermill": {
     "duration": 0.314291,
     "end_time": "2025-02-24T03:24:41.314870",
     "exception": false,
     "start_time": "2025-02-24T03:24:41.000579",
     "status": "completed"
    },
    "tags": []
   },
   "outputs": [
    {
     "data": {
      "image/png": "[encoded data removed]",
      "text/plain": [
       "<Figure size 640x480 with 1 Axes>"
      ]
     },
     "metadata": {},
     "output_type": "display_data"
    }
   ],
   "source": [
    "train_Solutions['Sex_F'].value_counts().plot(kind='bar', color='blue')\n",
    "plt.title('Gender Distribution')\n",
    "plt.xlabel('Gender (0 = Male, 1 = Female)')\n",
    "plt.ylabel('Count')\n",
    "plt.show()"
   ]
  },
  {
   "cell_type": "markdown",
   "id": "f5d74b17",
   "metadata": {
    "id": "nTMfBS6B5DzF",
    "papermill": {
     "duration": 0.028304,
     "end_time": "2025-02-24T03:24:41.371906",
     "exception": false,
     "start_time": "2025-02-24T03:24:41.343602",
     "status": "completed"
    },
    "tags": []
   },
   "source": [
    "### How to Test Predictiveness:"
   ]
  },
  {
   "cell_type": "markdown",
   "id": "631cccdc",
   "metadata": {
    "id": "GTOobk3t5IKt",
    "papermill": {
     "duration": 0.028948,
     "end_time": "2025-02-24T03:24:41.430668",
     "exception": false,
     "start_time": "2025-02-24T03:24:41.401720",
     "status": "completed"
    },
    "tags": []
   },
   "source": [
    "##### **Quantitative Data**: Use histograms or boxplots to visualize distributions of quantitative (e.g., Color vision test score)"
   ]
  },
  {
   "cell_type": "code",
   "execution_count": 18,
   "id": "87ae3707",
   "metadata": {
    "execution": {
     "iopub.execute_input": "2025-02-24T03:24:41.489245Z",
     "iopub.status.busy": "2025-02-24T03:24:41.488850Z",
     "iopub.status.idle": "2025-02-24T03:24:41.495136Z",
     "shell.execute_reply": "2025-02-24T03:24:41.494016Z"
    },
    "id": "FwzIQbti5H5E",
    "outputId": "190b98b3-fa95-4e40-9112-5cd8932e892f",
    "papermill": {
     "duration": 0.037669,
     "end_time": "2025-02-24T03:24:41.496922",
     "exception": false,
     "start_time": "2025-02-24T03:24:41.459253",
     "status": "completed"
    },
    "tags": []
   },
   "outputs": [
    {
     "data": {
      "text/plain": [
       "Index(['participant_id', 'EHQ_EHQ_Total', 'ColorVision_CV_Score',\n",
       "       'APQ_P_APQ_P_CP', 'APQ_P_APQ_P_ID', 'APQ_P_APQ_P_INV',\n",
       "       'APQ_P_APQ_P_OPD', 'APQ_P_APQ_P_PM', 'APQ_P_APQ_P_PP',\n",
       "       'SDQ_SDQ_Conduct_Problems', 'SDQ_SDQ_Difficulties_Total',\n",
       "       'SDQ_SDQ_Emotional_Problems', 'SDQ_SDQ_Externalizing',\n",
       "       'SDQ_SDQ_Generating_Impact', 'SDQ_SDQ_Hyperactivity',\n",
       "       'SDQ_SDQ_Internalizing', 'SDQ_SDQ_Peer_Problems', 'SDQ_SDQ_Prosocial',\n",
       "       'MRI_Track_Age_at_Scan'],\n",
       "      dtype='object')"
      ]
     },
     "execution_count": 18,
     "metadata": {},
     "output_type": "execute_result"
    }
   ],
   "source": [
    "train_Quant.columns"
   ]
  },
  {
   "cell_type": "markdown",
   "id": "d6e83047",
   "metadata": {
    "id": "2CUkIRDR5N6d",
    "papermill": {
     "duration": 0.02888,
     "end_time": "2025-02-24T03:24:41.554964",
     "exception": false,
     "start_time": "2025-02-24T03:24:41.526084",
     "status": "completed"
    },
    "tags": []
   },
   "source": [
    "Let's look at the `SDQ_SDQ_Emotional_Problems`, which indicates Emotional Problems Scale."
   ]
  },
  {
   "cell_type": "code",
   "execution_count": 19,
   "id": "9b8b194a",
   "metadata": {
    "execution": {
     "iopub.execute_input": "2025-02-24T03:24:41.619411Z",
     "iopub.status.busy": "2025-02-24T03:24:41.617493Z",
     "iopub.status.idle": "2025-02-24T03:24:41.902753Z",
     "shell.execute_reply": "2025-02-24T03:24:41.901497Z"
    },
    "id": "eopKX0z-5GoR",
    "outputId": "15dcfd3f-5060-4771-eb02-7c60bb7cfe63",
    "papermill": {
     "duration": 0.320565,
     "end_time": "2025-02-24T03:24:41.904812",
     "exception": false,
     "start_time": "2025-02-24T03:24:41.584247",
     "status": "completed"
    },
    "tags": []
   },
   "outputs": [
    {
     "name": "stderr",
     "output_type": "stream",
     "text": [
      "/usr/local/lib/python3.10/dist-packages/seaborn/_oldcore.py:1119: FutureWarning: use_inf_as_na option is deprecated and will be removed in a future version. Convert inf values to NaN before operating instead.\n",
      "  with pd.option_context('mode.use_inf_as_na', True):\n"
     ]
    },
    {
     "data": {
      "image/png": "[encoded data removed]",
      "text/plain": [
       "<Figure size 800x600 with 1 Axes>"
      ]
     },
     "metadata": {},
     "output_type": "display_data"
    }
   ],
   "source": [
    "# Plot the distribution of the SDQ_SDQ_Emotional_Problems variable\n",
    "plt.figure(figsize=(8, 6))\n",
    "sns.histplot(train_Quant['SDQ_SDQ_Emotional_Problems'], kde=True, color='skyblue')\n",
    "plt.title('Distribution of SDQ_SDQ_Emotional_Problems')\n",
    "plt.xlabel('SDQ_SDQ_Emotional_Problems')\n",
    "plt.ylabel('Frequency')\n",
    "plt.show()"
   ]
  },
  {
   "cell_type": "markdown",
   "id": "abcf5b89",
   "metadata": {
    "id": "5D19iAhp5RsJ",
    "papermill": {
     "duration": 0.031958,
     "end_time": "2025-02-24T03:24:41.969585",
     "exception": false,
     "start_time": "2025-02-24T03:24:41.937627",
     "status": "completed"
    },
    "tags": []
   },
   "source": [
    "This boxplot examines the relationship between `SDQ_SDQ_Emotional_Problems` and `ADHD_outcome` (as a target variable)."
   ]
  },
  {
   "cell_type": "code",
   "execution_count": 20,
   "id": "92ffadf8",
   "metadata": {
    "execution": {
     "iopub.execute_input": "2025-02-24T03:24:42.035154Z",
     "iopub.status.busy": "2025-02-24T03:24:42.034734Z",
     "iopub.status.idle": "2025-02-24T03:24:42.244865Z",
     "shell.execute_reply": "2025-02-24T03:24:42.243349Z"
    },
    "id": "ewAA9MDG5Zn6",
    "outputId": "5c994a8f-f5b9-49d1-ce95-144c7ebb7702",
    "papermill": {
     "duration": 0.245029,
     "end_time": "2025-02-24T03:24:42.247041",
     "exception": false,
     "start_time": "2025-02-24T03:24:42.002012",
     "status": "completed"
    },
    "tags": []
   },
   "outputs": [
    {
     "data": {
      "image/png": "[encoded data removed]",
      "text/plain": [
       "<Figure size 800x600 with 1 Axes>"
      ]
     },
     "metadata": {},
     "output_type": "display_data"
    }
   ],
   "source": [
    "# Check for correlation with ADHD outcome\n",
    "train_Quant_copy = train_Quant.copy()\n",
    "train_Quant_copy['ADHD_Outcome'] = train_Solutions['ADHD_Outcome']\n",
    "\n",
    "plt.figure(figsize=(8, 6))\n",
    "sns.boxplot(x='ADHD_Outcome', y='SDQ_SDQ_Emotional_Problems', data=train_Quant_copy)\n",
    "plt.title('SDQ_SDQ_Emotional_Problems vs ADHD Outcome')\n",
    "plt.xlabel('ADHD Outcome')\n",
    "plt.ylabel('SDQ_SDQ_Emotional_Problems')\n",
    "plt.show()\n"
   ]
  },
  {
   "cell_type": "markdown",
   "id": "afbf6ae7",
   "metadata": {
    "id": "dPt5cNhMVb5v",
    "papermill": {
     "duration": 0.030851,
     "end_time": "2025-02-24T03:24:42.311839",
     "exception": false,
     "start_time": "2025-02-24T03:24:42.280988",
     "status": "completed"
    },
    "tags": []
   },
   "source": [
    "The boxplot reveals that individuals diagnosed with ADHD tend to have a higher median on the SDQ Emotional Problems scale compared to non-ADHD individuals. Additionally, the boxplot for the ADHD group displays greater variability, as evidenced by its extended range. This suggests that emotional problems are not only more pronounced but also more diverse within the ADHD group."
   ]
  },
  {
   "cell_type": "markdown",
   "id": "2035d46a",
   "metadata": {
    "id": "9pK55jJq5bD1",
    "papermill": {
     "duration": 0.031267,
     "end_time": "2025-02-24T03:24:42.373676",
     "exception": false,
     "start_time": "2025-02-24T03:24:42.342409",
     "status": "completed"
    },
    "tags": []
   },
   "source": [
    "##### **Categorical Data**: Use bar plots to compare groups (e.g., ADHD rates by Parent 1 occupation).\n"
   ]
  },
  {
   "cell_type": "code",
   "execution_count": 21,
   "id": "74b7c217",
   "metadata": {
    "execution": {
     "iopub.execute_input": "2025-02-24T03:24:42.441795Z",
     "iopub.status.busy": "2025-02-24T03:24:42.441383Z",
     "iopub.status.idle": "2025-02-24T03:24:42.447545Z",
     "shell.execute_reply": "2025-02-24T03:24:42.446410Z"
    },
    "id": "sPq83IBK5dHk",
    "outputId": "1fb5a747-616c-49f5-dd01-660ab1b16cf4",
    "papermill": {
     "duration": 0.042127,
     "end_time": "2025-02-24T03:24:42.449431",
     "exception": false,
     "start_time": "2025-02-24T03:24:42.407304",
     "status": "completed"
    },
    "tags": []
   },
   "outputs": [
    {
     "data": {
      "text/plain": [
       "Index(['participant_id', 'Basic_Demos_Enroll_Year', 'Basic_Demos_Study_Site',\n",
       "       'PreInt_Demos_Fam_Child_Ethnicity', 'PreInt_Demos_Fam_Child_Race',\n",
       "       'MRI_Track_Scan_Location', 'Barratt_Barratt_P1_Edu',\n",
       "       'Barratt_Barratt_P1_Occ', 'Barratt_Barratt_P2_Edu',\n",
       "       'Barratt_Barratt_P2_Occ'],\n",
       "      dtype='object')"
      ]
     },
     "execution_count": 21,
     "metadata": {},
     "output_type": "execute_result"
    }
   ],
   "source": [
    "train_cat.columns"
   ]
  },
  {
   "cell_type": "markdown",
   "id": "e309109b",
   "metadata": {
    "id": "Nv-Yy3Ay5j7A",
    "papermill": {
     "duration": 0.032995,
     "end_time": "2025-02-24T03:24:42.515341",
     "exception": false,
     "start_time": "2025-02-24T03:24:42.482346",
     "status": "completed"
    },
    "tags": []
   },
   "source": [
    "Let's look at `Barratt_Barratt_P1_Edu` which indicates the Parent 1 level of education\n",
    "\n",
    "- 3=Less than 7th grade\n",
    "- 6=Junior high/Middle school (9th grade)\n",
    "- 9=Partial high school (10th or 11th grade)\n",
    "- 12=High school graduate\n",
    "- 15=Partial college (at least one year)\n",
    "- 18=College education\n",
    "- 21=Graduate degree"
   ]
  },
  {
   "cell_type": "code",
   "execution_count": 22,
   "id": "ef4cb2a7",
   "metadata": {
    "execution": {
     "iopub.execute_input": "2025-02-24T03:24:42.582259Z",
     "iopub.status.busy": "2025-02-24T03:24:42.581854Z",
     "iopub.status.idle": "2025-02-24T03:24:42.842554Z",
     "shell.execute_reply": "2025-02-24T03:24:42.841364Z"
    },
    "id": "KxA38GXT5iJf",
    "outputId": "ffc56f63-0c29-4b3b-a793-93a77aa17582",
    "papermill": {
     "duration": 0.295833,
     "end_time": "2025-02-24T03:24:42.845243",
     "exception": false,
     "start_time": "2025-02-24T03:24:42.549410",
     "status": "completed"
    },
    "tags": []
   },
   "outputs": [
    {
     "data": {
      "image/png": "[encoded data removed]",
      "text/plain": [
       "<Figure size 640x480 with 1 Axes>"
      ]
     },
     "metadata": {},
     "output_type": "display_data"
    }
   ],
   "source": [
    "import seaborn as sns\n",
    "import matplotlib.pyplot as plt\n",
    "\n",
    "sns.countplot(data=train_cat, x='Barratt_Barratt_P1_Edu', hue=train_Solutions['ADHD_Outcome'])\n",
    "plt.title('ADHD Prevalence by Parent 1 Education')\n",
    "plt.show()"
   ]
  },
  {
   "cell_type": "code",
   "execution_count": 23,
   "id": "e36a805d",
   "metadata": {
    "execution": {
     "iopub.execute_input": "2025-02-24T03:24:42.910518Z",
     "iopub.status.busy": "2025-02-24T03:24:42.910126Z",
     "iopub.status.idle": "2025-02-24T03:24:42.918158Z",
     "shell.execute_reply": "2025-02-24T03:24:42.917022Z"
    },
    "id": "Hk1eagtM5oLg",
    "outputId": "96ce30ec-6949-4906-fb00-d64078a36280",
    "papermill": {
     "duration": 0.041892,
     "end_time": "2025-02-24T03:24:42.919926",
     "exception": false,
     "start_time": "2025-02-24T03:24:42.878034",
     "status": "completed"
    },
    "tags": []
   },
   "outputs": [
    {
     "data": {
      "text/plain": [
       "Barratt_Barratt_P1_Edu\n",
       "21    470\n",
       "18    421\n",
       "15    162\n",
       "12     97\n",
       "9      28\n",
       "0      15\n",
       "6      15\n",
       "3       5\n",
       "Name: count, dtype: int64"
      ]
     },
     "execution_count": 23,
     "metadata": {},
     "output_type": "execute_result"
    }
   ],
   "source": [
    "train_cat['Barratt_Barratt_P1_Edu'].value_counts()"
   ]
  },
  {
   "cell_type": "markdown",
   "id": "c62ce066",
   "metadata": {
    "id": "gx4Ws4Xh5l-j",
    "papermill": {
     "duration": 0.031967,
     "end_time": "2025-02-24T03:24:42.983242",
     "exception": false,
     "start_time": "2025-02-24T03:24:42.951275",
     "status": "completed"
    },
    "tags": []
   },
   "source": [
    "Most of the data points fall into a specific category (e.g., 21 has 470 entries out of a total 1213). This means that even if ADHD prevalence appears higher in this category, it might just reflect that there are more people in this group overall, rather than an actual trend."
   ]
  },
  {
   "cell_type": "markdown",
   "id": "4a0d8e89",
   "metadata": {
    "id": "Q8sQcOa85sdF",
    "papermill": {
     "duration": 0.030786,
     "end_time": "2025-02-24T03:24:43.046605",
     "exception": false,
     "start_time": "2025-02-24T03:24:43.015819",
     "status": "completed"
    },
    "tags": []
   },
   "source": [
    "To adress this, normalize the data or compute percentages within each category to account for differences in group sizes. Let's compute ADHD percentage for each category."
   ]
  },
  {
   "cell_type": "code",
   "execution_count": 24,
   "id": "7c633f17",
   "metadata": {
    "execution": {
     "iopub.execute_input": "2025-02-24T03:24:43.113097Z",
     "iopub.status.busy": "2025-02-24T03:24:43.112715Z",
     "iopub.status.idle": "2025-02-24T03:24:43.122846Z",
     "shell.execute_reply": "2025-02-24T03:24:43.121476Z"
    },
    "id": "ORDcWrBj5wMZ",
    "outputId": "46b5b0bb-6c7c-4fa9-a711-58d1ac912386",
    "papermill": {
     "duration": 0.047316,
     "end_time": "2025-02-24T03:24:43.124913",
     "exception": false,
     "start_time": "2025-02-24T03:24:43.077597",
     "status": "completed"
    },
    "tags": []
   },
   "outputs": [
    {
     "name": "stdout",
     "output_type": "stream",
     "text": [
      "Barratt_Barratt_P1_Edu\n",
      "0     0.600000\n",
      "3     0.800000\n",
      "6     0.600000\n",
      "9     0.678571\n",
      "12    0.721649\n",
      "15    0.672840\n",
      "18    0.700713\n",
      "21    0.672340\n",
      "Name: ADHD_Outcome, dtype: float64\n"
     ]
    }
   ],
   "source": [
    "# Add ADHD_Outcome directly to a copy of the train_cat dataset for grouping\n",
    "train_cat_copy = train_cat.copy()\n",
    "train_cat_copy['ADHD_Outcome'] = train_Solutions['ADHD_Outcome']\n",
    "\n",
    "adhd_percentages = train_cat_copy.groupby('Barratt_Barratt_P1_Edu')['ADHD_Outcome'].mean()\n",
    "print(adhd_percentages)"
   ]
  },
  {
   "cell_type": "markdown",
   "id": "f0929b57",
   "metadata": {
    "id": "l-ENdlzD5zWv",
    "papermill": {
     "duration": 0.030854,
     "end_time": "2025-02-24T03:24:43.187953",
     "exception": false,
     "start_time": "2025-02-24T03:24:43.157099",
     "status": "completed"
    },
    "tags": []
   },
   "source": [
    "Categories like 3 - Less than 7th grade (80%) and 12 - High school graduate (72%) show some of the highest proportions of ADHD outcomes. Categories 21 - Graduate degree (67.2%) have relatively lower ADHD proportions compared to middle education levels."
   ]
  },
  {
   "cell_type": "code",
   "execution_count": 25,
   "id": "758ac1ae",
   "metadata": {
    "execution": {
     "iopub.execute_input": "2025-02-24T03:24:43.252608Z",
     "iopub.status.busy": "2025-02-24T03:24:43.252182Z",
     "iopub.status.idle": "2025-02-24T03:24:43.260311Z",
     "shell.execute_reply": "2025-02-24T03:24:43.259175Z"
    },
    "id": "oqA2mO12-my0",
    "outputId": "97e1882b-e6b0-486b-befd-6f4e5d1c339c",
    "papermill": {
     "duration": 0.04223,
     "end_time": "2025-02-24T03:24:43.262308",
     "exception": false,
     "start_time": "2025-02-24T03:24:43.220078",
     "status": "completed"
    },
    "tags": []
   },
   "outputs": [
    {
     "data": {
      "text/plain": [
       "Barratt_Barratt_P1_Edu\n",
       "21    470\n",
       "18    421\n",
       "15    162\n",
       "12     97\n",
       "9      28\n",
       "0      15\n",
       "6      15\n",
       "3       5\n",
       "Name: count, dtype: int64"
      ]
     },
     "execution_count": 25,
     "metadata": {},
     "output_type": "execute_result"
    }
   ],
   "source": [
    "train_cat['Barratt_Barratt_P1_Edu'].value_counts()"
   ]
  },
  {
   "cell_type": "markdown",
   "id": "034bc918",
   "metadata": {
    "id": "mhAvHOIU-ipM",
    "papermill": {
     "duration": 0.031967,
     "end_time": "2025-02-24T03:24:43.325555",
     "exception": false,
     "start_time": "2025-02-24T03:24:43.293588",
     "status": "completed"
    },
    "tags": []
   },
   "source": [
    "While these proportions might appear noteworthy, it is essential to consider the smaller sample size for lower education levels. **Smaller sample sizes can lead to greater variability** and make the proportions more susceptible to outliers. This means that a few individual cases can disproportionately affect the results, making them less reliable and less representative of the broader population. Therefore, it is crucial to examine sample sizes carefully before drawing any conclusions."
   ]
  },
  {
   "cell_type": "markdown",
   "id": "89bbf37c",
   "metadata": {
    "id": "oRDNsCGc3uM8",
    "papermill": {
     "duration": 0.031915,
     "end_time": "2025-02-24T03:24:43.389030",
     "exception": false,
     "start_time": "2025-02-24T03:24:43.357115",
     "status": "completed"
    },
    "tags": []
   },
   "source": [
    "## Pre-processed Categorical Columns"
   ]
  },
  {
   "cell_type": "markdown",
   "id": "672f842e",
   "metadata": {
    "id": "msYji4jD2vYC",
    "papermill": {
     "duration": 0.031578,
     "end_time": "2025-02-24T03:24:43.452683",
     "exception": false,
     "start_time": "2025-02-24T03:24:43.421105",
     "status": "completed"
    },
    "tags": []
   },
   "source": [
    "\n",
    "Our categorical columns include demographic data about the adolescent and parental information, such as occupation and education level.\n",
    "\n",
    "In the provided dataset, these categorical columns have been preprocessed by assigning numerical values to the categories within each variable. For instance, in the Parent 1 Occupation column, the number 35 might represent roles such as nurse, skilled technician, medical technician, or counselor. This grouping reduces the number of unique responses for each variable, simplifying the dataset.\n",
    "\n",
    "The integers currently representing categorical values can be cross-referenced in the provided data dictionary in [kaggle](https://www.kaggle.com/competitions/widsdatathon2025/data) to understand their corresponding categories.\n"
   ]
  },
  {
   "cell_type": "markdown",
   "id": "bf41b54f",
   "metadata": {
    "id": "nKVPDyZMxPdk",
    "papermill": {
     "duration": 0.030502,
     "end_time": "2025-02-24T03:24:43.514167",
     "exception": false,
     "start_time": "2025-02-24T03:24:43.483665",
     "status": "completed"
    },
    "tags": []
   },
   "source": [
    "## What does One - Hot Encoding do ?"
   ]
  },
  {
   "cell_type": "markdown",
   "id": "930fd864",
   "metadata": {
    "id": "q_Lsp1cUxSL5",
    "papermill": {
     "duration": 0.032934,
     "end_time": "2025-02-24T03:24:43.578000",
     "exception": false,
     "start_time": "2025-02-24T03:24:43.545066",
     "status": "completed"
    },
    "tags": []
   },
   "source": [
    "One hot encoding creates a new binary column for each unique category within a variable. For example, in the Parent 1 Occupation column with 10 possible categories (e.g., 0, 5, 10, 15, 20, etc.), one-hot encoding will generate 10 new columns: Parent_1_Occupation_0, Parent_1_Occupation_5, Parent_1_Occupation_10, and so on.\n",
    "\n",
    "Each of these new columns will contain boolean values (True or False). For instance, if a participant's parent 1 occupation falls into category 0, the Parent_1_Occupation_0 column will have a value of True, while the other columns for this variable will be False. The same logic applies to the other categories, ensuring each participant is appropriately represented in the dataset.\n"
   ]
  },
  {
   "cell_type": "markdown",
   "id": "191f900d",
   "metadata": {
    "id": "ezgjKbLQMtOP",
    "papermill": {
     "duration": 0.031632,
     "end_time": "2025-02-24T03:24:43.648381",
     "exception": false,
     "start_time": "2025-02-24T03:24:43.616749",
     "status": "completed"
    },
    "tags": []
   },
   "source": [
    "# Why use one hot encoding\n",
    "\n",
    "Avoid Implying Ordinal Relationships\n",
    "\n",
    "\n",
    "1.  If you encode categories using numbers directly (e.g., 0, 1, 2), the algorithm might interpret these numbers as having a meaningful order or scale, which could lead to incorrect assumptions.\n",
    "2.  One-hot encoding eliminates this problem by assigning each category its own binary column, ensuring no ordinal relationship is implied.\n",
    "\n",
    "\n",
    "Improve Algorithm Performance\n",
    "\n",
    "\n",
    "*  Algorithms like logistic regression, decision trees, and neural networks often perform better with one-hot encoded data because it provides clear distinctions between categories.\n",
    "*  Without one-hot encoding, algorithms might struggle to learn from categorical variables or produce biased results.\n",
    "\n",
    "\n",
    "\n"
   ]
  },
  {
   "cell_type": "markdown",
   "id": "70bc45b1",
   "metadata": {
    "id": "3YdmMwGsX73R",
    "papermill": {
     "duration": 0.031508,
     "end_time": "2025-02-24T03:24:43.711175",
     "exception": false,
     "start_time": "2025-02-24T03:24:43.679667",
     "status": "completed"
    },
    "tags": []
   },
   "source": [
    "One hot encoding is only possible on categorical variables so the first step is to switch our integer representations into category type variables."
   ]
  },
  {
   "cell_type": "code",
   "execution_count": 26,
   "id": "2a08306b",
   "metadata": {
    "execution": {
     "iopub.execute_input": "2025-02-24T03:24:43.777793Z",
     "iopub.status.busy": "2025-02-24T03:24:43.777345Z",
     "iopub.status.idle": "2025-02-24T03:24:43.788048Z",
     "shell.execute_reply": "2025-02-24T03:24:43.786996Z"
    },
    "id": "kngRrr5l2shv",
    "papermill": {
     "duration": 0.045171,
     "end_time": "2025-02-24T03:24:43.789995",
     "exception": false,
     "start_time": "2025-02-24T03:24:43.744824",
     "status": "completed"
    },
    "tags": []
   },
   "outputs": [],
   "source": [
    "for col in train_cat.select_dtypes(include='int').columns:\n",
    "    train_cat[col] = train_cat[col].astype('category')"
   ]
  },
  {
   "cell_type": "markdown",
   "id": "b70a3d2c",
   "metadata": {
    "id": "hLMi9-JR3BSF",
    "papermill": {
     "duration": 0.032364,
     "end_time": "2025-02-24T03:24:43.854219",
     "exception": false,
     "start_time": "2025-02-24T03:24:43.821855",
     "status": "completed"
    },
    "tags": []
   },
   "source": [
    "Our first column of our dataset is our participant id. This is an indicator variable that identifies each patient. This column is very important as it will be the one used to merge all of our data frames together, but, we do not want to encode this column. So, we will create a list of all the columns except the first one and label those `columns_to_encode`."
   ]
  },
  {
   "cell_type": "code",
   "execution_count": 27,
   "id": "7a5a02dc",
   "metadata": {
    "execution": {
     "iopub.execute_input": "2025-02-24T03:24:43.917931Z",
     "iopub.status.busy": "2025-02-24T03:24:43.917554Z",
     "iopub.status.idle": "2025-02-24T03:24:43.923324Z",
     "shell.execute_reply": "2025-02-24T03:24:43.921839Z"
    },
    "id": "fvnHYTAT2-sD",
    "outputId": "e78c0e4f-e4cd-4ea4-fb06-223c412c94e8",
    "papermill": {
     "duration": 0.039709,
     "end_time": "2025-02-24T03:24:43.925112",
     "exception": false,
     "start_time": "2025-02-24T03:24:43.885403",
     "status": "completed"
    },
    "tags": []
   },
   "outputs": [
    {
     "name": "stdout",
     "output_type": "stream",
     "text": [
      "Columns to encode: ['Basic_Demos_Enroll_Year', 'Basic_Demos_Study_Site', 'PreInt_Demos_Fam_Child_Ethnicity', 'PreInt_Demos_Fam_Child_Race', 'MRI_Track_Scan_Location', 'Barratt_Barratt_P1_Edu', 'Barratt_Barratt_P1_Occ', 'Barratt_Barratt_P2_Edu', 'Barratt_Barratt_P2_Occ']\n"
     ]
    }
   ],
   "source": [
    "# Creating a list of all of the columns except the first\n",
    "columns_to_encode = train_cat.columns[1:].tolist()\n",
    "\n",
    "# Print the columns to encode\n",
    "print(\"Columns to encode:\", columns_to_encode)"
   ]
  },
  {
   "cell_type": "markdown",
   "id": "d6131f9a",
   "metadata": {
    "id": "VXiY7rIW3Nmg",
    "papermill": {
     "duration": 0.031072,
     "end_time": "2025-02-24T03:24:43.987768",
     "exception": false,
     "start_time": "2025-02-24T03:24:43.956696",
     "status": "completed"
    },
    "tags": []
   },
   "source": [
    "`pd.get_dummies(train_cat[columns_to_enccode], drop_first=True)`:\n",
    "* Converts selected categorical columns in train_cat into one-hot encoded columns creating binary (0 or 1) columns for each category.\n",
    "* The `drop_first=True` parameter avoids the \"dummy variable trap\" by dropping the first category for each feature,reducing redundancy in the encoded data.\n",
    "\n",
    "`data_encoded.map(lambda x: 1 if x is True else (0 if x is False else x))`:\n",
    "\n",
    "*   Iterates over every element in the data_encoded DataFrame and:\n",
    "  - Converts `True` to 1 and `False` to 0.\n",
    "  - Leaves all other values unchanged."
   ]
  },
  {
   "cell_type": "code",
   "execution_count": 28,
   "id": "de96573b",
   "metadata": {
    "execution": {
     "iopub.execute_input": "2025-02-24T03:24:44.055206Z",
     "iopub.status.busy": "2025-02-24T03:24:44.054717Z",
     "iopub.status.idle": "2025-02-24T03:24:44.099452Z",
     "shell.execute_reply": "2025-02-24T03:24:44.097798Z"
    },
    "id": "VemT5N343MX6",
    "papermill": {
     "duration": 0.079938,
     "end_time": "2025-02-24T03:24:44.101798",
     "exception": false,
     "start_time": "2025-02-24T03:24:44.021860",
     "status": "completed"
    },
    "tags": []
   },
   "outputs": [],
   "source": [
    "# encoding categorical data\n",
    "train_encoded = pd.get_dummies(train_cat[columns_to_encode], drop_first=True)\n",
    "train_encoded = train_encoded.map(lambda x: 1 if x is True else (0 if x is False else x))"
   ]
  },
  {
   "cell_type": "markdown",
   "id": "1184406e",
   "metadata": {
    "id": "DE0FGpIQ39qh",
    "papermill": {
     "duration": 0.031167,
     "end_time": "2025-02-24T03:24:44.167006",
     "exception": false,
     "start_time": "2025-02-24T03:24:44.135839",
     "status": "completed"
    },
    "tags": []
   },
   "source": [
    "Reintroducing participant ID after encoding:"
   ]
  },
  {
   "cell_type": "markdown",
   "id": "3a6957c2",
   "metadata": {
    "id": "4I6l3U-tRZwT",
    "papermill": {
     "duration": 0.030812,
     "end_time": "2025-02-24T03:24:44.229439",
     "exception": false,
     "start_time": "2025-02-24T03:24:44.198627",
     "status": "completed"
    },
    "tags": []
   },
   "source": [
    "After encoding the categorical columns we will add back in the participant id column. The get dummies function will align the participants correctly with their respective feature variables because it respects the original index of the DataFrame, so row alignment is consistent. When concatenating `data_encoded` with the rest of the DataFrame `train_cat.drop(columns=columns_to_encode)`, the rows align because pandas automatically matches by index."
   ]
  },
  {
   "cell_type": "code",
   "execution_count": 29,
   "id": "b15ecec8",
   "metadata": {
    "execution": {
     "iopub.execute_input": "2025-02-24T03:24:44.293762Z",
     "iopub.status.busy": "2025-02-24T03:24:44.293374Z",
     "iopub.status.idle": "2025-02-24T03:24:44.313332Z",
     "shell.execute_reply": "2025-02-24T03:24:44.312156Z"
    },
    "id": "0VhPSB-H37Qu",
    "outputId": "d001219f-c732-499c-e33e-e11926f2b855",
    "papermill": {
     "duration": 0.05438,
     "end_time": "2025-02-24T03:24:44.315108",
     "exception": false,
     "start_time": "2025-02-24T03:24:44.260728",
     "status": "completed"
    },
    "tags": []
   },
   "outputs": [
    {
     "data": {
      "text/html": [
       "<div>\n",
       "<style scoped>\n",
       "    .dataframe tbody tr th:only-of-type {\n",
       "        vertical-align: middle;\n",
       "    }\n",
       "\n",
       "    .dataframe tbody tr th {\n",
       "        vertical-align: top;\n",
       "    }\n",
       "\n",
       "    .dataframe thead th {\n",
       "        text-align: right;\n",
       "    }\n",
       "</style>\n",
       "<table border=\"1\" class=\"dataframe\">\n",
       "  <thead>\n",
       "    <tr style=\"text-align: right;\">\n",
       "      <th></th>\n",
       "      <th>participant_id</th>\n",
       "      <th>PreInt_Demos_Fam_Child_Ethnicity</th>\n",
       "      <th>Basic_Demos_Enroll_Year_2016</th>\n",
       "      <th>Basic_Demos_Enroll_Year_2017</th>\n",
       "      <th>Basic_Demos_Enroll_Year_2018</th>\n",
       "      <th>Basic_Demos_Enroll_Year_2019</th>\n",
       "      <th>Basic_Demos_Enroll_Year_2020</th>\n",
       "      <th>Basic_Demos_Study_Site_2</th>\n",
       "      <th>Basic_Demos_Study_Site_3</th>\n",
       "      <th>Basic_Demos_Study_Site_4</th>\n",
       "      <th>...</th>\n",
       "      <th>Barratt_Barratt_P2_Edu_21</th>\n",
       "      <th>Barratt_Barratt_P2_Occ_5</th>\n",
       "      <th>Barratt_Barratt_P2_Occ_10</th>\n",
       "      <th>Barratt_Barratt_P2_Occ_15</th>\n",
       "      <th>Barratt_Barratt_P2_Occ_20</th>\n",
       "      <th>Barratt_Barratt_P2_Occ_25</th>\n",
       "      <th>Barratt_Barratt_P2_Occ_30</th>\n",
       "      <th>Barratt_Barratt_P2_Occ_35</th>\n",
       "      <th>Barratt_Barratt_P2_Occ_40</th>\n",
       "      <th>Barratt_Barratt_P2_Occ_45</th>\n",
       "    </tr>\n",
       "  </thead>\n",
       "  <tbody>\n",
       "    <tr>\n",
       "      <th>0</th>\n",
       "      <td>UmrK0vMLopoR</td>\n",
       "      <td>0.0</td>\n",
       "      <td>1</td>\n",
       "      <td>0</td>\n",
       "      <td>0</td>\n",
       "      <td>0</td>\n",
       "      <td>0</td>\n",
       "      <td>0</td>\n",
       "      <td>0</td>\n",
       "      <td>0</td>\n",
       "      <td>...</td>\n",
       "      <td>1</td>\n",
       "      <td>0</td>\n",
       "      <td>0</td>\n",
       "      <td>0</td>\n",
       "      <td>0</td>\n",
       "      <td>0</td>\n",
       "      <td>0</td>\n",
       "      <td>0</td>\n",
       "      <td>0</td>\n",
       "      <td>1</td>\n",
       "    </tr>\n",
       "    <tr>\n",
       "      <th>1</th>\n",
       "      <td>CPaeQkhcjg7d</td>\n",
       "      <td>1.0</td>\n",
       "      <td>0</td>\n",
       "      <td>0</td>\n",
       "      <td>0</td>\n",
       "      <td>1</td>\n",
       "      <td>0</td>\n",
       "      <td>0</td>\n",
       "      <td>1</td>\n",
       "      <td>0</td>\n",
       "      <td>...</td>\n",
       "      <td>0</td>\n",
       "      <td>0</td>\n",
       "      <td>0</td>\n",
       "      <td>0</td>\n",
       "      <td>0</td>\n",
       "      <td>0</td>\n",
       "      <td>0</td>\n",
       "      <td>0</td>\n",
       "      <td>0</td>\n",
       "      <td>0</td>\n",
       "    </tr>\n",
       "    <tr>\n",
       "      <th>2</th>\n",
       "      <td>Nb4EetVPm3gs</td>\n",
       "      <td>1.0</td>\n",
       "      <td>1</td>\n",
       "      <td>0</td>\n",
       "      <td>0</td>\n",
       "      <td>0</td>\n",
       "      <td>0</td>\n",
       "      <td>0</td>\n",
       "      <td>0</td>\n",
       "      <td>0</td>\n",
       "      <td>...</td>\n",
       "      <td>0</td>\n",
       "      <td>0</td>\n",
       "      <td>0</td>\n",
       "      <td>0</td>\n",
       "      <td>0</td>\n",
       "      <td>0</td>\n",
       "      <td>0</td>\n",
       "      <td>0</td>\n",
       "      <td>0</td>\n",
       "      <td>0</td>\n",
       "    </tr>\n",
       "    <tr>\n",
       "      <th>3</th>\n",
       "      <td>p4vPhVu91o4b</td>\n",
       "      <td>0.0</td>\n",
       "      <td>0</td>\n",
       "      <td>0</td>\n",
       "      <td>1</td>\n",
       "      <td>0</td>\n",
       "      <td>0</td>\n",
       "      <td>0</td>\n",
       "      <td>1</td>\n",
       "      <td>0</td>\n",
       "      <td>...</td>\n",
       "      <td>0</td>\n",
       "      <td>0</td>\n",
       "      <td>0</td>\n",
       "      <td>0</td>\n",
       "      <td>0</td>\n",
       "      <td>0</td>\n",
       "      <td>0</td>\n",
       "      <td>0</td>\n",
       "      <td>0</td>\n",
       "      <td>0</td>\n",
       "    </tr>\n",
       "    <tr>\n",
       "      <th>4</th>\n",
       "      <td>M09PXs7arQ5E</td>\n",
       "      <td>0.0</td>\n",
       "      <td>0</td>\n",
       "      <td>0</td>\n",
       "      <td>0</td>\n",
       "      <td>1</td>\n",
       "      <td>0</td>\n",
       "      <td>0</td>\n",
       "      <td>1</td>\n",
       "      <td>0</td>\n",
       "      <td>...</td>\n",
       "      <td>0</td>\n",
       "      <td>0</td>\n",
       "      <td>0</td>\n",
       "      <td>0</td>\n",
       "      <td>0</td>\n",
       "      <td>0</td>\n",
       "      <td>0</td>\n",
       "      <td>0</td>\n",
       "      <td>0</td>\n",
       "      <td>0</td>\n",
       "    </tr>\n",
       "  </tbody>\n",
       "</table>\n",
       "<p>5 rows × 55 columns</p>\n",
       "</div>"
      ],
      "text/plain": [
       "  participant_id  PreInt_Demos_Fam_Child_Ethnicity  \\\n",
       "0   UmrK0vMLopoR                               0.0   \n",
       "1   CPaeQkhcjg7d                               1.0   \n",
       "2   Nb4EetVPm3gs                               1.0   \n",
       "3   p4vPhVu91o4b                               0.0   \n",
       "4   M09PXs7arQ5E                               0.0   \n",
       "\n",
       "   Basic_Demos_Enroll_Year_2016  Basic_Demos_Enroll_Year_2017  \\\n",
       "0                             1                             0   \n",
       "1                             0                             0   \n",
       "2                             1                             0   \n",
       "3                             0                             0   \n",
       "4                             0                             0   \n",
       "\n",
       "   Basic_Demos_Enroll_Year_2018  Basic_Demos_Enroll_Year_2019  \\\n",
       "0                             0                             0   \n",
       "1                             0                             1   \n",
       "2                             0                             0   \n",
       "3                             1                             0   \n",
       "4                             0                             1   \n",
       "\n",
       "   Basic_Demos_Enroll_Year_2020  Basic_Demos_Study_Site_2  \\\n",
       "0                             0                         0   \n",
       "1                             0                         0   \n",
       "2                             0                         0   \n",
       "3                             0                         0   \n",
       "4                             0                         0   \n",
       "\n",
       "   Basic_Demos_Study_Site_3  Basic_Demos_Study_Site_4  ...  \\\n",
       "0                         0                         0  ...   \n",
       "1                         1                         0  ...   \n",
       "2                         0                         0  ...   \n",
       "3                         1                         0  ...   \n",
       "4                         1                         0  ...   \n",
       "\n",
       "   Barratt_Barratt_P2_Edu_21  Barratt_Barratt_P2_Occ_5  \\\n",
       "0                          1                         0   \n",
       "1                          0                         0   \n",
       "2                          0                         0   \n",
       "3                          0                         0   \n",
       "4                          0                         0   \n",
       "\n",
       "   Barratt_Barratt_P2_Occ_10  Barratt_Barratt_P2_Occ_15  \\\n",
       "0                          0                          0   \n",
       "1                          0                          0   \n",
       "2                          0                          0   \n",
       "3                          0                          0   \n",
       "4                          0                          0   \n",
       "\n",
       "   Barratt_Barratt_P2_Occ_20  Barratt_Barratt_P2_Occ_25  \\\n",
       "0                          0                          0   \n",
       "1                          0                          0   \n",
       "2                          0                          0   \n",
       "3                          0                          0   \n",
       "4                          0                          0   \n",
       "\n",
       "   Barratt_Barratt_P2_Occ_30  Barratt_Barratt_P2_Occ_35  \\\n",
       "0                          0                          0   \n",
       "1                          0                          0   \n",
       "2                          0                          0   \n",
       "3                          0                          0   \n",
       "4                          0                          0   \n",
       "\n",
       "   Barratt_Barratt_P2_Occ_40  Barratt_Barratt_P2_Occ_45  \n",
       "0                          0                          1  \n",
       "1                          0                          0  \n",
       "2                          0                          0  \n",
       "3                          0                          0  \n",
       "4                          0                          0  \n",
       "\n",
       "[5 rows x 55 columns]"
      ]
     },
     "execution_count": 29,
     "metadata": {},
     "output_type": "execute_result"
    }
   ],
   "source": [
    "# Combine encoded columns with the rest of the DataFrame\n",
    "cat_train_final = pd.concat([train_cat.drop(columns=columns_to_encode), train_encoded], axis=1)\n",
    "\n",
    "# ensure it looks correct\n",
    "cat_train_final.head()"
   ]
  },
  {
   "cell_type": "markdown",
   "id": "7be3f5b2",
   "metadata": {
    "id": "LSppCDmW-3Zh",
    "papermill": {
     "duration": 0.032342,
     "end_time": "2025-02-24T03:24:44.380742",
     "exception": false,
     "start_time": "2025-02-24T03:24:44.348400",
     "status": "completed"
    },
    "tags": []
   },
   "source": [
    "### Train and Test Dataframes\n",
    "\n",
    "For any machine learning model you need training data and test data. On our Kaggle data page, you'll find both the training and testing dataframes. We have just encoded the categorical dataframe for our training data. Now, we need to apply the same encoding steps to the categorical dataframe in the testing data. It's essential to ensure that any preprocessing done on the training data is also applied to the test data to ensure accurate model predictions."
   ]
  },
  {
   "cell_type": "markdown",
   "id": "e2ed17a8",
   "metadata": {
    "id": "zjMEj1-pK-xJ",
    "papermill": {
     "duration": 0.031574,
     "end_time": "2025-02-24T03:24:44.444674",
     "exception": false,
     "start_time": "2025-02-24T03:24:44.413100",
     "status": "completed"
    },
    "tags": []
   },
   "source": [
    "Our test categorical dataframe is preprocessed the same way as our training data so we will follow the same steps to encode the dataframe."
   ]
  },
  {
   "cell_type": "code",
   "execution_count": 30,
   "id": "dba1c7fc",
   "metadata": {
    "execution": {
     "iopub.execute_input": "2025-02-24T03:24:44.510631Z",
     "iopub.status.busy": "2025-02-24T03:24:44.510183Z",
     "iopub.status.idle": "2025-02-24T03:24:44.579672Z",
     "shell.execute_reply": "2025-02-24T03:24:44.578378Z"
    },
    "id": "A8CrGqWwKUXC",
    "papermill": {
     "duration": 0.104715,
     "end_time": "2025-02-24T03:24:44.581750",
     "exception": false,
     "start_time": "2025-02-24T03:24:44.477035",
     "status": "completed"
    },
    "tags": []
   },
   "outputs": [],
   "source": [
    "# load in test categorical dataframe\n",
    "\n",
    "file_path_testC = \"/kaggle/input/widsdatathon2025/TEST/TEST_CATEGORICAL.xlsx\"\n",
    "test_cat = pd.read_excel(file_path_testC)\n",
    "#(test_cat.head()"
   ]
  },
  {
   "cell_type": "markdown",
   "id": "8effaa16",
   "metadata": {
    "id": "tYAwYnc4f_tL",
    "papermill": {
     "duration": 0.031982,
     "end_time": "2025-02-24T03:24:44.647055",
     "exception": false,
     "start_time": "2025-02-24T03:24:44.615073",
     "status": "completed"
    },
    "tags": []
   },
   "source": [
    "Let's encode the `test_cat` dataset first."
   ]
  },
  {
   "cell_type": "code",
   "execution_count": 31,
   "id": "1273aa59",
   "metadata": {
    "execution": {
     "iopub.execute_input": "2025-02-24T03:24:44.714470Z",
     "iopub.status.busy": "2025-02-24T03:24:44.714070Z",
     "iopub.status.idle": "2025-02-24T03:24:44.763594Z",
     "shell.execute_reply": "2025-02-24T03:24:44.762303Z"
    },
    "id": "XlTawOGPKabu",
    "outputId": "03dbda17-aae5-4261-9c1c-0108ea372d30",
    "papermill": {
     "duration": 0.084841,
     "end_time": "2025-02-24T03:24:44.765670",
     "exception": false,
     "start_time": "2025-02-24T03:24:44.680829",
     "status": "completed"
    },
    "tags": []
   },
   "outputs": [
    {
     "data": {
      "text/html": [
       "<div>\n",
       "<style scoped>\n",
       "    .dataframe tbody tr th:only-of-type {\n",
       "        vertical-align: middle;\n",
       "    }\n",
       "\n",
       "    .dataframe tbody tr th {\n",
       "        vertical-align: top;\n",
       "    }\n",
       "\n",
       "    .dataframe thead th {\n",
       "        text-align: right;\n",
       "    }\n",
       "</style>\n",
       "<table border=\"1\" class=\"dataframe\">\n",
       "  <thead>\n",
       "    <tr style=\"text-align: right;\">\n",
       "      <th></th>\n",
       "      <th>participant_id</th>\n",
       "      <th>PreInt_Demos_Fam_Child_Ethnicity</th>\n",
       "      <th>Basic_Demos_Enroll_Year_2016</th>\n",
       "      <th>Basic_Demos_Enroll_Year_2017</th>\n",
       "      <th>Basic_Demos_Enroll_Year_2018</th>\n",
       "      <th>Basic_Demos_Enroll_Year_2019</th>\n",
       "      <th>Basic_Demos_Enroll_Year_2020</th>\n",
       "      <th>Basic_Demos_Study_Site_2</th>\n",
       "      <th>Basic_Demos_Study_Site_3</th>\n",
       "      <th>Basic_Demos_Study_Site_4</th>\n",
       "      <th>...</th>\n",
       "      <th>Barratt_Barratt_P2_Edu_21</th>\n",
       "      <th>Barratt_Barratt_P2_Occ_5</th>\n",
       "      <th>Barratt_Barratt_P2_Occ_10</th>\n",
       "      <th>Barratt_Barratt_P2_Occ_15</th>\n",
       "      <th>Barratt_Barratt_P2_Occ_20</th>\n",
       "      <th>Barratt_Barratt_P2_Occ_25</th>\n",
       "      <th>Barratt_Barratt_P2_Occ_30</th>\n",
       "      <th>Barratt_Barratt_P2_Occ_35</th>\n",
       "      <th>Barratt_Barratt_P2_Occ_40</th>\n",
       "      <th>Barratt_Barratt_P2_Occ_45</th>\n",
       "    </tr>\n",
       "  </thead>\n",
       "  <tbody>\n",
       "    <tr>\n",
       "      <th>0</th>\n",
       "      <td>Cfwaf5FX7jWK</td>\n",
       "      <td>0.0</td>\n",
       "      <td>0</td>\n",
       "      <td>0</td>\n",
       "      <td>0</td>\n",
       "      <td>0</td>\n",
       "      <td>0</td>\n",
       "      <td>0</td>\n",
       "      <td>0</td>\n",
       "      <td>0</td>\n",
       "      <td>...</td>\n",
       "      <td>0</td>\n",
       "      <td>0</td>\n",
       "      <td>0</td>\n",
       "      <td>0</td>\n",
       "      <td>0</td>\n",
       "      <td>0</td>\n",
       "      <td>0</td>\n",
       "      <td>0</td>\n",
       "      <td>0</td>\n",
       "      <td>0</td>\n",
       "    </tr>\n",
       "    <tr>\n",
       "      <th>1</th>\n",
       "      <td>vhGrzmvA3Hjq</td>\n",
       "      <td>0.0</td>\n",
       "      <td>0</td>\n",
       "      <td>0</td>\n",
       "      <td>0</td>\n",
       "      <td>0</td>\n",
       "      <td>0</td>\n",
       "      <td>0</td>\n",
       "      <td>0</td>\n",
       "      <td>0</td>\n",
       "      <td>...</td>\n",
       "      <td>0</td>\n",
       "      <td>0</td>\n",
       "      <td>0</td>\n",
       "      <td>0</td>\n",
       "      <td>0</td>\n",
       "      <td>0</td>\n",
       "      <td>0</td>\n",
       "      <td>0</td>\n",
       "      <td>0</td>\n",
       "      <td>0</td>\n",
       "    </tr>\n",
       "    <tr>\n",
       "      <th>2</th>\n",
       "      <td>ULliyEXjy4OV</td>\n",
       "      <td>0.0</td>\n",
       "      <td>0</td>\n",
       "      <td>0</td>\n",
       "      <td>0</td>\n",
       "      <td>0</td>\n",
       "      <td>0</td>\n",
       "      <td>0</td>\n",
       "      <td>0</td>\n",
       "      <td>0</td>\n",
       "      <td>...</td>\n",
       "      <td>0</td>\n",
       "      <td>0</td>\n",
       "      <td>0</td>\n",
       "      <td>0</td>\n",
       "      <td>0</td>\n",
       "      <td>0</td>\n",
       "      <td>0</td>\n",
       "      <td>0</td>\n",
       "      <td>0</td>\n",
       "      <td>0</td>\n",
       "    </tr>\n",
       "    <tr>\n",
       "      <th>3</th>\n",
       "      <td>LZfeAb1xMtql</td>\n",
       "      <td>0.0</td>\n",
       "      <td>0</td>\n",
       "      <td>0</td>\n",
       "      <td>0</td>\n",
       "      <td>0</td>\n",
       "      <td>0</td>\n",
       "      <td>0</td>\n",
       "      <td>0</td>\n",
       "      <td>0</td>\n",
       "      <td>...</td>\n",
       "      <td>0</td>\n",
       "      <td>0</td>\n",
       "      <td>0</td>\n",
       "      <td>0</td>\n",
       "      <td>0</td>\n",
       "      <td>0</td>\n",
       "      <td>0</td>\n",
       "      <td>0</td>\n",
       "      <td>0</td>\n",
       "      <td>0</td>\n",
       "    </tr>\n",
       "    <tr>\n",
       "      <th>4</th>\n",
       "      <td>EnFOUv0YK1RG</td>\n",
       "      <td>2.0</td>\n",
       "      <td>0</td>\n",
       "      <td>0</td>\n",
       "      <td>0</td>\n",
       "      <td>0</td>\n",
       "      <td>0</td>\n",
       "      <td>0</td>\n",
       "      <td>0</td>\n",
       "      <td>0</td>\n",
       "      <td>...</td>\n",
       "      <td>0</td>\n",
       "      <td>0</td>\n",
       "      <td>0</td>\n",
       "      <td>0</td>\n",
       "      <td>0</td>\n",
       "      <td>0</td>\n",
       "      <td>0</td>\n",
       "      <td>0</td>\n",
       "      <td>0</td>\n",
       "      <td>0</td>\n",
       "    </tr>\n",
       "  </tbody>\n",
       "</table>\n",
       "<p>5 rows × 55 columns</p>\n",
       "</div>"
      ],
      "text/plain": [
       "  participant_id  PreInt_Demos_Fam_Child_Ethnicity  \\\n",
       "0   Cfwaf5FX7jWK                               0.0   \n",
       "1   vhGrzmvA3Hjq                               0.0   \n",
       "2   ULliyEXjy4OV                               0.0   \n",
       "3   LZfeAb1xMtql                               0.0   \n",
       "4   EnFOUv0YK1RG                               2.0   \n",
       "\n",
       "   Basic_Demos_Enroll_Year_2016  Basic_Demos_Enroll_Year_2017  \\\n",
       "0                             0                             0   \n",
       "1                             0                             0   \n",
       "2                             0                             0   \n",
       "3                             0                             0   \n",
       "4                             0                             0   \n",
       "\n",
       "   Basic_Demos_Enroll_Year_2018  Basic_Demos_Enroll_Year_2019  \\\n",
       "0                             0                             0   \n",
       "1                             0                             0   \n",
       "2                             0                             0   \n",
       "3                             0                             0   \n",
       "4                             0                             0   \n",
       "\n",
       "   Basic_Demos_Enroll_Year_2020  Basic_Demos_Study_Site_2  \\\n",
       "0                             0                         0   \n",
       "1                             0                         0   \n",
       "2                             0                         0   \n",
       "3                             0                         0   \n",
       "4                             0                         0   \n",
       "\n",
       "   Basic_Demos_Study_Site_3  Basic_Demos_Study_Site_4  ...  \\\n",
       "0                         0                         0  ...   \n",
       "1                         0                         0  ...   \n",
       "2                         0                         0  ...   \n",
       "3                         0                         0  ...   \n",
       "4                         0                         0  ...   \n",
       "\n",
       "   Barratt_Barratt_P2_Edu_21  Barratt_Barratt_P2_Occ_5  \\\n",
       "0                          0                         0   \n",
       "1                          0                         0   \n",
       "2                          0                         0   \n",
       "3                          0                         0   \n",
       "4                          0                         0   \n",
       "\n",
       "   Barratt_Barratt_P2_Occ_10  Barratt_Barratt_P2_Occ_15  \\\n",
       "0                          0                          0   \n",
       "1                          0                          0   \n",
       "2                          0                          0   \n",
       "3                          0                          0   \n",
       "4                          0                          0   \n",
       "\n",
       "   Barratt_Barratt_P2_Occ_20  Barratt_Barratt_P2_Occ_25  \\\n",
       "0                          0                          0   \n",
       "1                          0                          0   \n",
       "2                          0                          0   \n",
       "3                          0                          0   \n",
       "4                          0                          0   \n",
       "\n",
       "   Barratt_Barratt_P2_Occ_30  Barratt_Barratt_P2_Occ_35  \\\n",
       "0                          0                          0   \n",
       "1                          0                          0   \n",
       "2                          0                          0   \n",
       "3                          0                          0   \n",
       "4                          0                          0   \n",
       "\n",
       "   Barratt_Barratt_P2_Occ_40  Barratt_Barratt_P2_Occ_45  \n",
       "0                          0                          0  \n",
       "1                          0                          0  \n",
       "2                          0                          0  \n",
       "3                          0                          0  \n",
       "4                          0                          0  \n",
       "\n",
       "[5 rows x 55 columns]"
      ]
     },
     "execution_count": 31,
     "metadata": {},
     "output_type": "execute_result"
    }
   ],
   "source": [
    "# convert our int variables to categories\n",
    "for col in test_cat.select_dtypes(include='int').columns:\n",
    "    test_cat[col] = test_cat[col].astype('category')\n",
    "\n",
    "# Encode categorical variables in test\n",
    "test_encoded = pd.get_dummies(test_cat[columns_to_encode], drop_first=True)\n",
    "test_encoded = test_encoded.map(lambda x: 1 if x is True else (0 if x is False else x))\n",
    "\n",
    "# Ensure test_encoded has the same columns as train_encoded\n",
    "missing_cols = set(train_encoded.columns) - set(test_encoded.columns)\n",
    "for col in missing_cols:\n",
    "    test_encoded[col] = 0  # Add missing columns with 0 values\n",
    "\n",
    "# Ensure test_encoded columns are in the same order as train_encoded\n",
    "test_encoded = test_encoded.reindex(columns=train_encoded.columns, fill_value=0)\n",
    "\n",
    "# Combine encoded columns with the rest of the DataFrame\n",
    "cat_test_final = pd.concat([test_cat.drop(columns=columns_to_encode), test_encoded], axis=1)\n",
    "\n",
    "cat_test_final.head()"
   ]
  },
  {
   "cell_type": "markdown",
   "id": "cb57b4f8",
   "metadata": {
    "id": "i-_B5B_c4COr",
    "papermill": {
     "duration": 0.032567,
     "end_time": "2025-02-24T03:24:44.832067",
     "exception": false,
     "start_time": "2025-02-24T03:24:44.799500",
     "status": "completed"
    },
    "tags": []
   },
   "source": [
    "## Merging Data Frames\n",
    "\n",
    "Now we have categorical data frames for both our training and test datasets that are both ready to be merged with our remaining variables, the functional connectome matrices and quantitative data. The result of merging will be two final dataframes, train df and test df.\n",
    "\n",
    "All the dataframes include a participant_id variable, which serves as the unique identifier for each patient. This variable will be used to merge the dataframes, as it is the only common variable across the datasets.\n",
    "\n",
    "The pandas merge function can only merge two dataframes. So, I will first merge our encoded train categorical dataframe with our training functional connectome matrices. Then I will combine that merged data frame with our training quantitative dataframe. Again, this will all be executed using the pandas merge function on our participant id variable."
   ]
  },
  {
   "cell_type": "code",
   "execution_count": 32,
   "id": "3f827437",
   "metadata": {
    "execution": {
     "iopub.execute_input": "2025-02-24T03:24:44.906681Z",
     "iopub.status.busy": "2025-02-24T03:24:44.906243Z",
     "iopub.status.idle": "2025-02-24T03:24:45.219836Z",
     "shell.execute_reply": "2025-02-24T03:24:45.218411Z"
    },
    "id": "YmdQCbME4R2B",
    "papermill": {
     "duration": 0.353978,
     "end_time": "2025-02-24T03:24:45.222039",
     "exception": false,
     "start_time": "2025-02-24T03:24:44.868061",
     "status": "completed"
    },
    "tags": []
   },
   "outputs": [],
   "source": [
    "train_cat_FCM = pd.merge(cat_train_final, train_FCM, on = 'participant_id')"
   ]
  },
  {
   "cell_type": "code",
   "execution_count": 33,
   "id": "b1e0fb07",
   "metadata": {
    "execution": {
     "iopub.execute_input": "2025-02-24T03:24:45.289473Z",
     "iopub.status.busy": "2025-02-24T03:24:45.289081Z",
     "iopub.status.idle": "2025-02-24T03:24:45.540755Z",
     "shell.execute_reply": "2025-02-24T03:24:45.539315Z"
    },
    "id": "cCyUVJFm4Uk6",
    "outputId": "aa549402-1034-466f-dc5b-77d44952ba19",
    "papermill": {
     "duration": 0.287804,
     "end_time": "2025-02-24T03:24:45.543067",
     "exception": false,
     "start_time": "2025-02-24T03:24:45.255263",
     "status": "completed"
    },
    "tags": []
   },
   "outputs": [
    {
     "name": "stderr",
     "output_type": "stream",
     "text": [
      "/usr/local/lib/python3.10/dist-packages/pandas/io/formats/format.py:1458: RuntimeWarning: invalid value encountered in greater\n",
      "  has_large_values = (abs_vals > 1e6).any()\n",
      "/usr/local/lib/python3.10/dist-packages/pandas/io/formats/format.py:1459: RuntimeWarning: invalid value encountered in less\n",
      "  has_small_values = ((abs_vals < 10 ** (-self.digits)) & (abs_vals > 0)).any()\n",
      "/usr/local/lib/python3.10/dist-packages/pandas/io/formats/format.py:1459: RuntimeWarning: invalid value encountered in greater\n",
      "  has_small_values = ((abs_vals < 10 ** (-self.digits)) & (abs_vals > 0)).any()\n",
      "/usr/local/lib/python3.10/dist-packages/pandas/io/formats/format.py:1458: RuntimeWarning: invalid value encountered in greater\n",
      "  has_large_values = (abs_vals > 1e6).any()\n",
      "/usr/local/lib/python3.10/dist-packages/pandas/io/formats/format.py:1459: RuntimeWarning: invalid value encountered in less\n",
      "  has_small_values = ((abs_vals < 10 ** (-self.digits)) & (abs_vals > 0)).any()\n",
      "/usr/local/lib/python3.10/dist-packages/pandas/io/formats/format.py:1459: RuntimeWarning: invalid value encountered in greater\n",
      "  has_small_values = ((abs_vals < 10 ** (-self.digits)) & (abs_vals > 0)).any()\n"
     ]
    },
    {
     "data": {
      "text/html": [
       "<div>\n",
       "<style scoped>\n",
       "    .dataframe tbody tr th:only-of-type {\n",
       "        vertical-align: middle;\n",
       "    }\n",
       "\n",
       "    .dataframe tbody tr th {\n",
       "        vertical-align: top;\n",
       "    }\n",
       "\n",
       "    .dataframe thead th {\n",
       "        text-align: right;\n",
       "    }\n",
       "</style>\n",
       "<table border=\"1\" class=\"dataframe\">\n",
       "  <thead>\n",
       "    <tr style=\"text-align: right;\">\n",
       "      <th></th>\n",
       "      <th>participant_id</th>\n",
       "      <th>PreInt_Demos_Fam_Child_Ethnicity</th>\n",
       "      <th>Basic_Demos_Enroll_Year_2016</th>\n",
       "      <th>Basic_Demos_Enroll_Year_2017</th>\n",
       "      <th>Basic_Demos_Enroll_Year_2018</th>\n",
       "      <th>Basic_Demos_Enroll_Year_2019</th>\n",
       "      <th>Basic_Demos_Enroll_Year_2020</th>\n",
       "      <th>Basic_Demos_Study_Site_2</th>\n",
       "      <th>Basic_Demos_Study_Site_3</th>\n",
       "      <th>Basic_Demos_Study_Site_4</th>\n",
       "      <th>...</th>\n",
       "      <th>SDQ_SDQ_Conduct_Problems</th>\n",
       "      <th>SDQ_SDQ_Difficulties_Total</th>\n",
       "      <th>SDQ_SDQ_Emotional_Problems</th>\n",
       "      <th>SDQ_SDQ_Externalizing</th>\n",
       "      <th>SDQ_SDQ_Generating_Impact</th>\n",
       "      <th>SDQ_SDQ_Hyperactivity</th>\n",
       "      <th>SDQ_SDQ_Internalizing</th>\n",
       "      <th>SDQ_SDQ_Peer_Problems</th>\n",
       "      <th>SDQ_SDQ_Prosocial</th>\n",
       "      <th>MRI_Track_Age_at_Scan</th>\n",
       "    </tr>\n",
       "  </thead>\n",
       "  <tbody>\n",
       "    <tr>\n",
       "      <th>0</th>\n",
       "      <td>UmrK0vMLopoR</td>\n",
       "      <td>0.0</td>\n",
       "      <td>1</td>\n",
       "      <td>0</td>\n",
       "      <td>0</td>\n",
       "      <td>0</td>\n",
       "      <td>0</td>\n",
       "      <td>0</td>\n",
       "      <td>0</td>\n",
       "      <td>0</td>\n",
       "      <td>...</td>\n",
       "      <td>0</td>\n",
       "      <td>6</td>\n",
       "      <td>1</td>\n",
       "      <td>5</td>\n",
       "      <td>0</td>\n",
       "      <td>5</td>\n",
       "      <td>1</td>\n",
       "      <td>0</td>\n",
       "      <td>10</td>\n",
       "      <td>NaN</td>\n",
       "    </tr>\n",
       "    <tr>\n",
       "      <th>1</th>\n",
       "      <td>CPaeQkhcjg7d</td>\n",
       "      <td>1.0</td>\n",
       "      <td>0</td>\n",
       "      <td>0</td>\n",
       "      <td>0</td>\n",
       "      <td>1</td>\n",
       "      <td>0</td>\n",
       "      <td>0</td>\n",
       "      <td>1</td>\n",
       "      <td>0</td>\n",
       "      <td>...</td>\n",
       "      <td>0</td>\n",
       "      <td>18</td>\n",
       "      <td>6</td>\n",
       "      <td>8</td>\n",
       "      <td>7</td>\n",
       "      <td>8</td>\n",
       "      <td>10</td>\n",
       "      <td>4</td>\n",
       "      <td>5</td>\n",
       "      <td>NaN</td>\n",
       "    </tr>\n",
       "    <tr>\n",
       "      <th>2</th>\n",
       "      <td>Nb4EetVPm3gs</td>\n",
       "      <td>1.0</td>\n",
       "      <td>1</td>\n",
       "      <td>0</td>\n",
       "      <td>0</td>\n",
       "      <td>0</td>\n",
       "      <td>0</td>\n",
       "      <td>0</td>\n",
       "      <td>0</td>\n",
       "      <td>0</td>\n",
       "      <td>...</td>\n",
       "      <td>1</td>\n",
       "      <td>14</td>\n",
       "      <td>2</td>\n",
       "      <td>8</td>\n",
       "      <td>5</td>\n",
       "      <td>7</td>\n",
       "      <td>6</td>\n",
       "      <td>4</td>\n",
       "      <td>9</td>\n",
       "      <td>8.239904</td>\n",
       "    </tr>\n",
       "    <tr>\n",
       "      <th>3</th>\n",
       "      <td>p4vPhVu91o4b</td>\n",
       "      <td>0.0</td>\n",
       "      <td>0</td>\n",
       "      <td>0</td>\n",
       "      <td>1</td>\n",
       "      <td>0</td>\n",
       "      <td>0</td>\n",
       "      <td>0</td>\n",
       "      <td>1</td>\n",
       "      <td>0</td>\n",
       "      <td>...</td>\n",
       "      <td>6</td>\n",
       "      <td>24</td>\n",
       "      <td>4</td>\n",
       "      <td>16</td>\n",
       "      <td>9</td>\n",
       "      <td>10</td>\n",
       "      <td>8</td>\n",
       "      <td>4</td>\n",
       "      <td>6</td>\n",
       "      <td>NaN</td>\n",
       "    </tr>\n",
       "    <tr>\n",
       "      <th>4</th>\n",
       "      <td>M09PXs7arQ5E</td>\n",
       "      <td>0.0</td>\n",
       "      <td>0</td>\n",
       "      <td>0</td>\n",
       "      <td>0</td>\n",
       "      <td>1</td>\n",
       "      <td>0</td>\n",
       "      <td>0</td>\n",
       "      <td>1</td>\n",
       "      <td>0</td>\n",
       "      <td>...</td>\n",
       "      <td>1</td>\n",
       "      <td>18</td>\n",
       "      <td>4</td>\n",
       "      <td>11</td>\n",
       "      <td>4</td>\n",
       "      <td>10</td>\n",
       "      <td>7</td>\n",
       "      <td>3</td>\n",
       "      <td>9</td>\n",
       "      <td>8.940679</td>\n",
       "    </tr>\n",
       "  </tbody>\n",
       "</table>\n",
       "<p>5 rows × 19973 columns</p>\n",
       "</div>"
      ],
      "text/plain": [
       "  participant_id  PreInt_Demos_Fam_Child_Ethnicity  \\\n",
       "0   UmrK0vMLopoR                               0.0   \n",
       "1   CPaeQkhcjg7d                               1.0   \n",
       "2   Nb4EetVPm3gs                               1.0   \n",
       "3   p4vPhVu91o4b                               0.0   \n",
       "4   M09PXs7arQ5E                               0.0   \n",
       "\n",
       "   Basic_Demos_Enroll_Year_2016  Basic_Demos_Enroll_Year_2017  \\\n",
       "0                             1                             0   \n",
       "1                             0                             0   \n",
       "2                             1                             0   \n",
       "3                             0                             0   \n",
       "4                             0                             0   \n",
       "\n",
       "   Basic_Demos_Enroll_Year_2018  Basic_Demos_Enroll_Year_2019  \\\n",
       "0                             0                             0   \n",
       "1                             0                             1   \n",
       "2                             0                             0   \n",
       "3                             1                             0   \n",
       "4                             0                             1   \n",
       "\n",
       "   Basic_Demos_Enroll_Year_2020  Basic_Demos_Study_Site_2  \\\n",
       "0                             0                         0   \n",
       "1                             0                         0   \n",
       "2                             0                         0   \n",
       "3                             0                         0   \n",
       "4                             0                         0   \n",
       "\n",
       "   Basic_Demos_Study_Site_3  Basic_Demos_Study_Site_4  ...  \\\n",
       "0                         0                         0  ...   \n",
       "1                         1                         0  ...   \n",
       "2                         0                         0  ...   \n",
       "3                         1                         0  ...   \n",
       "4                         1                         0  ...   \n",
       "\n",
       "   SDQ_SDQ_Conduct_Problems  SDQ_SDQ_Difficulties_Total  \\\n",
       "0                         0                           6   \n",
       "1                         0                          18   \n",
       "2                         1                          14   \n",
       "3                         6                          24   \n",
       "4                         1                          18   \n",
       "\n",
       "   SDQ_SDQ_Emotional_Problems  SDQ_SDQ_Externalizing  \\\n",
       "0                           1                      5   \n",
       "1                           6                      8   \n",
       "2                           2                      8   \n",
       "3                           4                     16   \n",
       "4                           4                     11   \n",
       "\n",
       "   SDQ_SDQ_Generating_Impact  SDQ_SDQ_Hyperactivity  SDQ_SDQ_Internalizing  \\\n",
       "0                          0                      5                      1   \n",
       "1                          7                      8                     10   \n",
       "2                          5                      7                      6   \n",
       "3                          9                     10                      8   \n",
       "4                          4                     10                      7   \n",
       "\n",
       "   SDQ_SDQ_Peer_Problems  SDQ_SDQ_Prosocial  MRI_Track_Age_at_Scan  \n",
       "0                      0                 10                    NaN  \n",
       "1                      4                  5                    NaN  \n",
       "2                      4                  9               8.239904  \n",
       "3                      4                  6                    NaN  \n",
       "4                      3                  9               8.940679  \n",
       "\n",
       "[5 rows x 19973 columns]"
      ]
     },
     "execution_count": 33,
     "metadata": {},
     "output_type": "execute_result"
    }
   ],
   "source": [
    "train_df = pd.merge(train_cat_FCM, train_Quant, on = 'participant_id')\n",
    "\n",
    "# ensure it looks accurate\n",
    "train_df.head()"
   ]
  },
  {
   "cell_type": "markdown",
   "id": "db0c3941",
   "metadata": {
    "id": "LOAqavTWVWiu",
    "papermill": {
     "duration": 0.032633,
     "end_time": "2025-02-24T03:24:45.608603",
     "exception": false,
     "start_time": "2025-02-24T03:24:45.575970",
     "status": "completed"
    },
    "tags": []
   },
   "source": [
    "\n",
    "This creates an almost complete train dataframe. You may have noticed that there is one dataframe left in our training data that we have not merged, the solutions. When training a machine learning model you have an `X_train ` dataframe containing the feature variables and a `Y_train` dataframe containing the target variables. We just created our `X_train` dataframe. In our third workshop we will cover how to use the `X_train` and `Y_train` dataframes to train the model.\n",
    "\n",
    "Our testing data does not contain solutions, since that is what you will produce when running your model. So we just need one feature variable dataframe.\n",
    "\n",
    "We will merge together the feature variables for our testing data, the same way we did for our training data. First, I will load in the quantative and functional connectome matrices.\n"
   ]
  },
  {
   "cell_type": "markdown",
   "id": "87e9881c",
   "metadata": {
    "id": "-2b3i7Nq8Uq7",
    "papermill": {
     "duration": 0.032833,
     "end_time": "2025-02-24T03:24:45.673963",
     "exception": false,
     "start_time": "2025-02-24T03:24:45.641130",
     "status": "completed"
    },
    "tags": []
   },
   "source": [
    "## Merge test dataframes"
   ]
  },
  {
   "cell_type": "code",
   "execution_count": 34,
   "id": "5ddbbeb7",
   "metadata": {
    "execution": {
     "iopub.execute_input": "2025-02-24T03:24:45.739944Z",
     "iopub.status.busy": "2025-02-24T03:24:45.739585Z",
     "iopub.status.idle": "2025-02-24T03:24:50.414446Z",
     "shell.execute_reply": "2025-02-24T03:24:50.413205Z"
    },
    "id": "RWr878CTV0VS",
    "outputId": "44f8163d-2d43-4f64-e42b-7d2d5b94822d",
    "papermill": {
     "duration": 4.709996,
     "end_time": "2025-02-24T03:24:50.416315",
     "exception": false,
     "start_time": "2025-02-24T03:24:45.706319",
     "status": "completed"
    },
    "tags": []
   },
   "outputs": [
    {
     "data": {
      "text/html": [
       "<div>\n",
       "<style scoped>\n",
       "    .dataframe tbody tr th:only-of-type {\n",
       "        vertical-align: middle;\n",
       "    }\n",
       "\n",
       "    .dataframe tbody tr th {\n",
       "        vertical-align: top;\n",
       "    }\n",
       "\n",
       "    .dataframe thead th {\n",
       "        text-align: right;\n",
       "    }\n",
       "</style>\n",
       "<table border=\"1\" class=\"dataframe\">\n",
       "  <thead>\n",
       "    <tr style=\"text-align: right;\">\n",
       "      <th></th>\n",
       "      <th>participant_id</th>\n",
       "      <th>PreInt_Demos_Fam_Child_Ethnicity</th>\n",
       "      <th>Basic_Demos_Enroll_Year_2016</th>\n",
       "      <th>Basic_Demos_Enroll_Year_2017</th>\n",
       "      <th>Basic_Demos_Enroll_Year_2018</th>\n",
       "      <th>Basic_Demos_Enroll_Year_2019</th>\n",
       "      <th>Basic_Demos_Enroll_Year_2020</th>\n",
       "      <th>Basic_Demos_Study_Site_2</th>\n",
       "      <th>Basic_Demos_Study_Site_3</th>\n",
       "      <th>Basic_Demos_Study_Site_4</th>\n",
       "      <th>...</th>\n",
       "      <th>SDQ_SDQ_Conduct_Problems</th>\n",
       "      <th>SDQ_SDQ_Difficulties_Total</th>\n",
       "      <th>SDQ_SDQ_Emotional_Problems</th>\n",
       "      <th>SDQ_SDQ_Externalizing</th>\n",
       "      <th>SDQ_SDQ_Generating_Impact</th>\n",
       "      <th>SDQ_SDQ_Hyperactivity</th>\n",
       "      <th>SDQ_SDQ_Internalizing</th>\n",
       "      <th>SDQ_SDQ_Peer_Problems</th>\n",
       "      <th>SDQ_SDQ_Prosocial</th>\n",
       "      <th>MRI_Track_Age_at_Scan</th>\n",
       "    </tr>\n",
       "  </thead>\n",
       "  <tbody>\n",
       "    <tr>\n",
       "      <th>0</th>\n",
       "      <td>Cfwaf5FX7jWK</td>\n",
       "      <td>0.0</td>\n",
       "      <td>0</td>\n",
       "      <td>0</td>\n",
       "      <td>0</td>\n",
       "      <td>0</td>\n",
       "      <td>0</td>\n",
       "      <td>0</td>\n",
       "      <td>0</td>\n",
       "      <td>0</td>\n",
       "      <td>...</td>\n",
       "      <td>2.0</td>\n",
       "      <td>12.0</td>\n",
       "      <td>3.0</td>\n",
       "      <td>9.0</td>\n",
       "      <td>2.0</td>\n",
       "      <td>7.0</td>\n",
       "      <td>3.0</td>\n",
       "      <td>0.0</td>\n",
       "      <td>8.0</td>\n",
       "      <td>8.992813</td>\n",
       "    </tr>\n",
       "    <tr>\n",
       "      <th>1</th>\n",
       "      <td>vhGrzmvA3Hjq</td>\n",
       "      <td>0.0</td>\n",
       "      <td>0</td>\n",
       "      <td>0</td>\n",
       "      <td>0</td>\n",
       "      <td>0</td>\n",
       "      <td>0</td>\n",
       "      <td>0</td>\n",
       "      <td>0</td>\n",
       "      <td>0</td>\n",
       "      <td>...</td>\n",
       "      <td>2.0</td>\n",
       "      <td>16.0</td>\n",
       "      <td>8.0</td>\n",
       "      <td>5.0</td>\n",
       "      <td>7.0</td>\n",
       "      <td>3.0</td>\n",
       "      <td>11.0</td>\n",
       "      <td>3.0</td>\n",
       "      <td>9.0</td>\n",
       "      <td>12.324093</td>\n",
       "    </tr>\n",
       "    <tr>\n",
       "      <th>2</th>\n",
       "      <td>ULliyEXjy4OV</td>\n",
       "      <td>0.0</td>\n",
       "      <td>0</td>\n",
       "      <td>0</td>\n",
       "      <td>0</td>\n",
       "      <td>0</td>\n",
       "      <td>0</td>\n",
       "      <td>0</td>\n",
       "      <td>0</td>\n",
       "      <td>0</td>\n",
       "      <td>...</td>\n",
       "      <td>1.0</td>\n",
       "      <td>7.0</td>\n",
       "      <td>1.0</td>\n",
       "      <td>6.0</td>\n",
       "      <td>1.0</td>\n",
       "      <td>5.0</td>\n",
       "      <td>1.0</td>\n",
       "      <td>0.0</td>\n",
       "      <td>9.0</td>\n",
       "      <td>7.770933</td>\n",
       "    </tr>\n",
       "    <tr>\n",
       "      <th>3</th>\n",
       "      <td>LZfeAb1xMtql</td>\n",
       "      <td>0.0</td>\n",
       "      <td>0</td>\n",
       "      <td>0</td>\n",
       "      <td>0</td>\n",
       "      <td>0</td>\n",
       "      <td>0</td>\n",
       "      <td>0</td>\n",
       "      <td>0</td>\n",
       "      <td>0</td>\n",
       "      <td>...</td>\n",
       "      <td>4.0</td>\n",
       "      <td>15.0</td>\n",
       "      <td>4.0</td>\n",
       "      <td>10.0</td>\n",
       "      <td>8.0</td>\n",
       "      <td>6.0</td>\n",
       "      <td>5.0</td>\n",
       "      <td>1.0</td>\n",
       "      <td>6.0</td>\n",
       "      <td>9.304814</td>\n",
       "    </tr>\n",
       "    <tr>\n",
       "      <th>4</th>\n",
       "      <td>EnFOUv0YK1RG</td>\n",
       "      <td>2.0</td>\n",
       "      <td>0</td>\n",
       "      <td>0</td>\n",
       "      <td>0</td>\n",
       "      <td>0</td>\n",
       "      <td>0</td>\n",
       "      <td>0</td>\n",
       "      <td>0</td>\n",
       "      <td>0</td>\n",
       "      <td>...</td>\n",
       "      <td>2.0</td>\n",
       "      <td>18.0</td>\n",
       "      <td>6.0</td>\n",
       "      <td>12.0</td>\n",
       "      <td>5.0</td>\n",
       "      <td>10.0</td>\n",
       "      <td>6.0</td>\n",
       "      <td>0.0</td>\n",
       "      <td>10.0</td>\n",
       "      <td>8.261350</td>\n",
       "    </tr>\n",
       "  </tbody>\n",
       "</table>\n",
       "<p>5 rows × 19973 columns</p>\n",
       "</div>"
      ],
      "text/plain": [
       "  participant_id  PreInt_Demos_Fam_Child_Ethnicity  \\\n",
       "0   Cfwaf5FX7jWK                               0.0   \n",
       "1   vhGrzmvA3Hjq                               0.0   \n",
       "2   ULliyEXjy4OV                               0.0   \n",
       "3   LZfeAb1xMtql                               0.0   \n",
       "4   EnFOUv0YK1RG                               2.0   \n",
       "\n",
       "   Basic_Demos_Enroll_Year_2016  Basic_Demos_Enroll_Year_2017  \\\n",
       "0                             0                             0   \n",
       "1                             0                             0   \n",
       "2                             0                             0   \n",
       "3                             0                             0   \n",
       "4                             0                             0   \n",
       "\n",
       "   Basic_Demos_Enroll_Year_2018  Basic_Demos_Enroll_Year_2019  \\\n",
       "0                             0                             0   \n",
       "1                             0                             0   \n",
       "2                             0                             0   \n",
       "3                             0                             0   \n",
       "4                             0                             0   \n",
       "\n",
       "   Basic_Demos_Enroll_Year_2020  Basic_Demos_Study_Site_2  \\\n",
       "0                             0                         0   \n",
       "1                             0                         0   \n",
       "2                             0                         0   \n",
       "3                             0                         0   \n",
       "4                             0                         0   \n",
       "\n",
       "   Basic_Demos_Study_Site_3  Basic_Demos_Study_Site_4  ...  \\\n",
       "0                         0                         0  ...   \n",
       "1                         0                         0  ...   \n",
       "2                         0                         0  ...   \n",
       "3                         0                         0  ...   \n",
       "4                         0                         0  ...   \n",
       "\n",
       "   SDQ_SDQ_Conduct_Problems  SDQ_SDQ_Difficulties_Total  \\\n",
       "0                       2.0                        12.0   \n",
       "1                       2.0                        16.0   \n",
       "2                       1.0                         7.0   \n",
       "3                       4.0                        15.0   \n",
       "4                       2.0                        18.0   \n",
       "\n",
       "   SDQ_SDQ_Emotional_Problems  SDQ_SDQ_Externalizing  \\\n",
       "0                         3.0                    9.0   \n",
       "1                         8.0                    5.0   \n",
       "2                         1.0                    6.0   \n",
       "3                         4.0                   10.0   \n",
       "4                         6.0                   12.0   \n",
       "\n",
       "   SDQ_SDQ_Generating_Impact  SDQ_SDQ_Hyperactivity  SDQ_SDQ_Internalizing  \\\n",
       "0                        2.0                    7.0                    3.0   \n",
       "1                        7.0                    3.0                   11.0   \n",
       "2                        1.0                    5.0                    1.0   \n",
       "3                        8.0                    6.0                    5.0   \n",
       "4                        5.0                   10.0                    6.0   \n",
       "\n",
       "   SDQ_SDQ_Peer_Problems  SDQ_SDQ_Prosocial  MRI_Track_Age_at_Scan  \n",
       "0                    0.0                8.0               8.992813  \n",
       "1                    3.0                9.0              12.324093  \n",
       "2                    0.0                9.0               7.770933  \n",
       "3                    1.0                6.0               9.304814  \n",
       "4                    0.0               10.0               8.261350  \n",
       "\n",
       "[5 rows x 19973 columns]"
      ]
     },
     "execution_count": 34,
     "metadata": {},
     "output_type": "execute_result"
    }
   ],
   "source": [
    "file_path_testFCM = \"/kaggle/input/widsdatathon2025/TEST/TEST_FUNCTIONAL_CONNECTOME_MATRICES.csv\"\n",
    "test_FCM = pd.read_csv(file_path_testFCM)\n",
    "#print(train_FCM.head())\n",
    "\n",
    "file_path_testQ = \"/kaggle/input/widsdatathon2025/TEST/TEST_QUANTITATIVE_METADATA.xlsx\"\n",
    "test_Quant = pd.read_excel(file_path_testQ)\n",
    "#print(train_Quant.head())\n",
    "\n",
    "test_cat_FCM = pd.merge(cat_test_final, test_FCM, on = 'participant_id')\n",
    "\n",
    "test_df = pd.merge(test_cat_FCM, test_Quant, on = 'participant_id')\n",
    "\n",
    "# ensure it looks accurate\n",
    "test_df.head()"
   ]
  },
  {
   "cell_type": "markdown",
   "id": "a08700b1",
   "metadata": {
    "id": "B9lYu5V09bSY",
    "papermill": {
     "duration": 0.033102,
     "end_time": "2025-02-24T03:24:50.483299",
     "exception": false,
     "start_time": "2025-02-24T03:24:50.450197",
     "status": "completed"
    },
    "tags": []
   },
   "source": [
    "Now we have nearly complete train and test dataframes. There is one more step before we can perform machine learning, imputing NA values. Again, you will need to impute NA values the same way for both your training and test dataframes for accurate model performance."
   ]
  },
  {
   "cell_type": "markdown",
   "id": "a868fa29",
   "metadata": {
    "id": "FPh-Mow14yTg",
    "papermill": {
     "duration": 0.031694,
     "end_time": "2025-02-24T03:24:50.547599",
     "exception": false,
     "start_time": "2025-02-24T03:24:50.515905",
     "status": "completed"
    },
    "tags": []
   },
   "source": [
    "## NA values\n",
    "\n",
    "Before performing machine learning we must adress missing values to ensure optimal model performance.\n",
    "\n",
    "We will demonstrate how to fill the missing (`NA`) values using the mean of each column as an example.\n",
    "\n",
    "Note: There are many approaches to handle missing values, and the best method often depends on your dataset and chosen machine learning model. You can explore how your model deals with missing data and try alternative techniques. For example, this [website](https://www.widsworldwide.org/get-inspired/blog/a-data-scientists-deep-dive-into-the-wids-datathon/) has various ways to handle missing data.\n",
    "\n",
    "Filling NA values is a key challenge in this datathon to get accurate model performance. Experiment with different methods and evaluate which approach gives the best results for your model!"
   ]
  },
  {
   "cell_type": "code",
   "execution_count": 35,
   "id": "3fa6e815",
   "metadata": {
    "execution": {
     "iopub.execute_input": "2025-02-24T03:24:50.613276Z",
     "iopub.status.busy": "2025-02-24T03:24:50.612938Z",
     "iopub.status.idle": "2025-02-24T03:24:50.717074Z",
     "shell.execute_reply": "2025-02-24T03:24:50.715701Z"
    },
    "id": "-pTwTsPx4uNk",
    "outputId": "a3310a4e-692f-4d12-b67e-71cc3dfe54e8",
    "papermill": {
     "duration": 0.139753,
     "end_time": "2025-02-24T03:24:50.719370",
     "exception": false,
     "start_time": "2025-02-24T03:24:50.579617",
     "status": "completed"
    },
    "tags": []
   },
   "outputs": [
    {
     "name": "stdout",
     "output_type": "stream",
     "text": [
      "participant_id                        0\n",
      "PreInt_Demos_Fam_Child_Ethnicity     11\n",
      "Basic_Demos_Enroll_Year_2016          0\n",
      "Basic_Demos_Enroll_Year_2017          0\n",
      "Basic_Demos_Enroll_Year_2018          0\n",
      "                                   ... \n",
      "SDQ_SDQ_Hyperactivity                 0\n",
      "SDQ_SDQ_Internalizing                 0\n",
      "SDQ_SDQ_Peer_Problems                 0\n",
      "SDQ_SDQ_Prosocial                     0\n",
      "MRI_Track_Age_at_Scan               360\n",
      "Length: 19973, dtype: int64\n"
     ]
    }
   ],
   "source": [
    "# check how many NA values we have\n",
    "print(train_df.isna().sum())\n",
    "\n",
    "# 371 NANs values\n",
    "# 360 in MRI_Track_age_at_Scan\n",
    "# 11 in PreInt_Demos_Fam_Child_Ethnicity"
   ]
  },
  {
   "cell_type": "markdown",
   "id": "c410d5ba",
   "metadata": {
    "id": "4dKu_e5w5lU4",
    "papermill": {
     "duration": 0.033178,
     "end_time": "2025-02-24T03:24:50.792068",
     "exception": false,
     "start_time": "2025-02-24T03:24:50.758890",
     "status": "completed"
    },
    "tags": []
   },
   "source": [
    "We can fill the missing (`NA`) values in the columns `MRI_Track_Age_at_Scan` and `PreInt_Demos_Fam_Child_Ethnicity` individually by replacing them with the mean of their respective columns."
   ]
  },
  {
   "cell_type": "code",
   "execution_count": 36,
   "id": "c0e626b9",
   "metadata": {
    "execution": {
     "iopub.execute_input": "2025-02-24T03:24:50.859062Z",
     "iopub.status.busy": "2025-02-24T03:24:50.858701Z",
     "iopub.status.idle": "2025-02-24T03:24:50.986741Z",
     "shell.execute_reply": "2025-02-24T03:24:50.985252Z"
    },
    "id": "nF82Zdhs5uE3",
    "outputId": "9017f29f-dcfe-4a90-d81d-ffc9a23ab1f0",
    "papermill": {
     "duration": 0.164461,
     "end_time": "2025-02-24T03:24:50.989096",
     "exception": false,
     "start_time": "2025-02-24T03:24:50.824635",
     "status": "completed"
    },
    "tags": []
   },
   "outputs": [
    {
     "name": "stdout",
     "output_type": "stream",
     "text": [
      "0\n"
     ]
    }
   ],
   "source": [
    "train_df.fillna({'MRI_Track_Age_at_Scan':train_df['MRI_Track_Age_at_Scan'].mean()}, inplace = True)\n",
    "train_df.fillna({'PreInt_Demos_Fam_Child_Ethnicity':train_df['PreInt_Demos_Fam_Child_Ethnicity'].mean()}, inplace = True)\n",
    "\n",
    "print(train_df.isna().sum().sum()) # should now be zero"
   ]
  },
  {
   "cell_type": "markdown",
   "id": "9f08cf1e",
   "metadata": {
    "id": "kbF9iATIWnjH",
    "papermill": {
     "duration": 0.032242,
     "end_time": "2025-02-24T03:24:51.063461",
     "exception": false,
     "start_time": "2025-02-24T03:24:51.031219",
     "status": "completed"
    },
    "tags": []
   },
   "source": [
    "We can also use backward and forward fills. This indicates using previous or the following data row in order to replace the missing values.\n"
   ]
  },
  {
   "cell_type": "code",
   "execution_count": 37,
   "id": "9cfdb7a3",
   "metadata": {
    "execution": {
     "iopub.execute_input": "2025-02-24T03:24:51.131370Z",
     "iopub.status.busy": "2025-02-24T03:24:51.130971Z",
     "iopub.status.idle": "2025-02-24T03:24:51.383206Z",
     "shell.execute_reply": "2025-02-24T03:24:51.381878Z"
    },
    "id": "SBTsNaK4WeiA",
    "outputId": "c999a644-eee2-49d7-e1e5-428f41457918",
    "papermill": {
     "duration": 0.289245,
     "end_time": "2025-02-24T03:24:51.385197",
     "exception": false,
     "start_time": "2025-02-24T03:24:51.095952",
     "status": "completed"
    },
    "tags": []
   },
   "outputs": [
    {
     "name": "stdout",
     "output_type": "stream",
     "text": [
      "0\n"
     ]
    }
   ],
   "source": [
    "train_df.ffill(inplace=True)\n",
    "print(train_df.isna().sum().sum())"
   ]
  },
  {
   "cell_type": "code",
   "execution_count": 38,
   "id": "cd041651",
   "metadata": {
    "execution": {
     "iopub.execute_input": "2025-02-24T03:24:51.453181Z",
     "iopub.status.busy": "2025-02-24T03:24:51.452767Z",
     "iopub.status.idle": "2025-02-24T03:24:53.894883Z",
     "shell.execute_reply": "2025-02-24T03:24:53.893719Z"
    },
    "id": "zBQEd-3c9M78",
    "papermill": {
     "duration": 2.477936,
     "end_time": "2025-02-24T03:24:53.896796",
     "exception": false,
     "start_time": "2025-02-24T03:24:51.418860",
     "status": "completed"
    },
    "tags": []
   },
   "outputs": [],
   "source": [
    "# Fill NAs of test data\n",
    "\n",
    "for col in test_df.columns:\n",
    "    if test_df[col].isna().sum() > 0:  # Check if the column has NaN values\n",
    "        if test_df[col].dtype in ['float64', 'int64']:  # Ensure it's numeric\n",
    "            test_df[col] = test_df[col].fillna(test_df[col].mean())  # Avoid inplace\n",
    "        else:\n",
    "            print(f\"Skipping non-numeric column: {col}\")"
   ]
  },
  {
   "cell_type": "markdown",
   "id": "f6abed3e",
   "metadata": {
    "id": "0keXkdRY50nB",
    "papermill": {
     "duration": 0.033553,
     "end_time": "2025-02-24T03:24:53.964364",
     "exception": false,
     "start_time": "2025-02-24T03:24:53.930811",
     "status": "completed"
    },
    "tags": []
   },
   "source": [
    "Now that we have filled in our NA values our data frame is ready to be trained for machine learning. Tune into our next workshop to understand how to build your mulitoutcome machine learning model!"
   ]
  },
  {
   "cell_type": "markdown",
   "id": "e49d6328",
   "metadata": {
    "id": "Tm3tbWZ6iMFX",
    "papermill": {
     "duration": 0.035867,
     "end_time": "2025-02-24T03:24:54.033798",
     "exception": false,
     "start_time": "2025-02-24T03:24:53.997931",
     "status": "completed"
    },
    "tags": []
   },
   "source": [
    "#Perform Machine Learning"
   ]
  },
  {
   "cell_type": "markdown",
   "id": "be4285e5",
   "metadata": {
    "id": "LmTNdoVekyBf",
    "papermill": {
     "duration": 0.033236,
     "end_time": "2025-02-24T03:24:54.099628",
     "exception": false,
     "start_time": "2025-02-24T03:24:54.066392",
     "status": "completed"
    },
    "tags": []
   },
   "source": [
    "## Multi-Outcome Model\n",
    "\n",
    "A machine learning model is a mathematical model that, after being trained on a dataset, can make predictions or classifications on new data by identifying patterns within the information.\n",
    "\n",
    "Since this challenge is trying to answer the question:\n",
    "\n",
    "What brain activity patterns are associated with ADHD; are they different between males and females, and, if so, how?\n",
    "\n",
    "Our predictions or target variables in this model are gender (1 = female, 0 = male) and ADHD diagnosis (1 = has ADHD, 0 = does not). Both are classification problems, meaning the outputs are binary: each prediction will either be 0 or 1, representing a boolean result.\n",
    "\n",
    "To predict both target variables simultaneously, we will use a multi-outcome machine learning model. This type of model is designed to predict multiple dependent variables (or outcomes) at the same time, rather than one at a time. For this task, our Y_train dataset will include two target columns—gender and ADHD diagnosis. The predictions generated by your model, which you will submit to Kaggle, will also include these two variables. As a requirement for this challenge, you must use a multi-outcome model to produce predictions for both targets simultaneously.\n"
   ]
  },
  {
   "cell_type": "markdown",
   "id": "d7b20610",
   "metadata": {
    "id": "klmtVeGpk6P5",
    "papermill": {
     "duration": 0.03211,
     "end_time": "2025-02-24T03:24:54.164749",
     "exception": false,
     "start_time": "2025-02-24T03:24:54.132639",
     "status": "completed"
    },
    "tags": []
   },
   "source": [
    "## Why use a Multi-Outcome model ?\n",
    "\n",
    "This approach is particularly relevant to our specific challenge of investigating ADHD diagnosis in women. Research suggests that women with ADHD are often underdiagnosed, and by modeling gender and ADHD diagnosis together, we can explore potential relationships between these variables. Using the same feature variables to predict both targets allows us to examine this connection in a systematic way. A multi-outcome model is ideal for this purpose because it efficiently handles the simultaneous prediction of both variables while leveraging any potential interdependencies between them.\n",
    "\n",
    "Additionally, using a multi-outcome model streamlines the workflow. We only need to preprocess the data once, and we can train a single model instead of separate models for each target. This not only saves time and computational resources but also simplifies the overall process, making it easier to maintain consistency across predictions for gender and ADHD diagnosis.\n"
   ]
  },
  {
   "cell_type": "markdown",
   "id": "0036c462",
   "metadata": {
    "id": "5NGLHE1QlHz_",
    "papermill": {
     "duration": 0.032165,
     "end_time": "2025-02-24T03:24:54.229729",
     "exception": false,
     "start_time": "2025-02-24T03:24:54.197564",
     "status": "completed"
    },
    "tags": []
   },
   "source": [
    "## X Train and Y Train\n",
    "\n",
    "For any machine learning model, you need an X_train dataset, which contains the feature variables used to make predictions about the target variables—in this case, ADHD diagnosis and gender. Our feature variables include categorical columns, quantitative variables, and functional connectome matrices. We have prepared our X_train dataframe by encoding categorical variables, merging dataframes, and handling missing values by filling in NAs.\n",
    "\n",
    "In addition to X_train, we also need Y_train, the dataset containing the target variables, to train the model. The target variables allow the model to learn the patterns in the feature variables that lead to specific outcomes for ADHD diagnosis and gender. This relationship is what enables the model to make accurate predictions when applied to new data.\n",
    "\n",
    "So the first step we will take in coding is loading in the training solutions dataframe this will be our Y_train.\n"
   ]
  },
  {
   "cell_type": "code",
   "execution_count": 39,
   "id": "86db9898",
   "metadata": {
    "execution": {
     "iopub.execute_input": "2025-02-24T03:24:54.297592Z",
     "iopub.status.busy": "2025-02-24T03:24:54.297134Z",
     "iopub.status.idle": "2025-02-24T03:24:54.386063Z",
     "shell.execute_reply": "2025-02-24T03:24:54.384799Z"
    },
    "id": "YJrHtK_olOLD",
    "papermill": {
     "duration": 0.124693,
     "end_time": "2025-02-24T03:24:54.388268",
     "exception": false,
     "start_time": "2025-02-24T03:24:54.263575",
     "status": "completed"
    },
    "tags": []
   },
   "outputs": [],
   "source": [
    "file_path_trainS = \"/kaggle/input/widsdatathon2025/TRAIN/TRAINING_SOLUTIONS.xlsx\"\n",
    "train_Solutions = pd.read_excel(file_path_trainS)"
   ]
  },
  {
   "cell_type": "markdown",
   "id": "03a37400",
   "metadata": {
    "id": "xdGtB1R4lOzq",
    "papermill": {
     "duration": 0.033137,
     "end_time": "2025-02-24T03:24:54.454550",
     "exception": false,
     "start_time": "2025-02-24T03:24:54.421413",
     "status": "completed"
    },
    "tags": []
   },
   "source": [
    "Both our X_train and Y_train datasets include the participant_id column, which serves as an identifier for each patient. Since this column is of type category and machine learning models require numerical data (int or float), it cannot be used during training. Additionally, it is not relevant for model learning. Therefore, we will remove the participant_id column from both dataframes before training the machine learning model."
   ]
  },
  {
   "cell_type": "code",
   "execution_count": 40,
   "id": "b5948796",
   "metadata": {
    "execution": {
     "iopub.execute_input": "2025-02-24T03:24:54.521930Z",
     "iopub.status.busy": "2025-02-24T03:24:54.521492Z",
     "iopub.status.idle": "2025-02-24T03:24:54.593674Z",
     "shell.execute_reply": "2025-02-24T03:24:54.592475Z"
    },
    "id": "8Mx5W9snlRuM",
    "papermill": {
     "duration": 0.108199,
     "end_time": "2025-02-24T03:24:54.595856",
     "exception": false,
     "start_time": "2025-02-24T03:24:54.487657",
     "status": "completed"
    },
    "tags": []
   },
   "outputs": [],
   "source": [
    "X_train = train_df.drop(columns = ['participant_id'])\n",
    "Y_train = train_Solutions.drop(columns = ['participant_id'])"
   ]
  },
  {
   "cell_type": "markdown",
   "id": "b121f6c6",
   "metadata": {
    "id": "BY3fDLWZlXUL",
    "papermill": {
     "duration": 0.032012,
     "end_time": "2025-02-24T03:24:54.660725",
     "exception": false,
     "start_time": "2025-02-24T03:24:54.628713",
     "status": "completed"
    },
    "tags": []
   },
   "source": [
    "### XGBoost\n",
    "\n",
    "XGBoost, short for eXtreme Gradient Boosting, is an optimized implementation of gradient boosting, a machine learning technique that builds an ensemble of decision trees to make predictions. It is widely used for structured (tabular) data and is especially popular in competitive data science (e.g., Kaggle competitions) due to its high performance, speed, and flexibility.\n",
    "\n",
    "XGBoost builds an ensemble of decision trees in a sequential manner, where each tree corrects the errors of the previous ones. The final prediction is the weighted sum of the predictions from all trees.\n",
    "\n",
    "Gradient Boosting:\n",
    "\n",
    "Each tree tries to minimize the error (residual) from the previous step by fitting to the gradient of the loss function.\n",
    "This iterative process improves the model's accuracy over time.\n",
    "\n",
    "Ensemble Learning:\n",
    "\n",
    "By combining multiple weak learners (shallow decision trees), XGBoost creates a strong predictive model."
   ]
  },
  {
   "cell_type": "markdown",
   "id": "c53be6ec",
   "metadata": {
    "id": "Or5-NbUhla52",
    "papermill": {
     "duration": 0.03313,
     "end_time": "2025-02-24T03:24:54.727701",
     "exception": false,
     "start_time": "2025-02-24T03:24:54.694571",
     "status": "completed"
    },
    "tags": []
   },
   "source": [
    "First we must create an instance of the XGBClassifier from the xgboost library.\n",
    "\n",
    "Key Parameters Explained:\n",
    "\n",
    "\n",
    "*   objective='binary:logistic': Specifies the task type as binary classification, with logistic regression as the objective function.\n",
    "*   n_estimators=100: Sets the number of boosting rounds (i.e., the number of trees to train in the ensemble).\n",
    "* learning_rate=0.1: Determines the step size shrinkage used to prevent overfitting. Lower values result in slower learning but can improve accuracy.\n",
    "* max_depth=5: Limits the depth of each decision tree to prevent overfitting while ensuring the model captures enough complexity."
   ]
  },
  {
   "cell_type": "code",
   "execution_count": 41,
   "id": "ca36f85e",
   "metadata": {
    "execution": {
     "iopub.execute_input": "2025-02-24T03:24:54.794791Z",
     "iopub.status.busy": "2025-02-24T03:24:54.794216Z",
     "iopub.status.idle": "2025-02-24T03:24:55.278544Z",
     "shell.execute_reply": "2025-02-24T03:24:55.277405Z"
    },
    "id": "IGFYIQSmlUMb",
    "papermill": {
     "duration": 0.520397,
     "end_time": "2025-02-24T03:24:55.280848",
     "exception": false,
     "start_time": "2025-02-24T03:24:54.760451",
     "status": "completed"
    },
    "tags": []
   },
   "outputs": [],
   "source": [
    "from xgboost import XGBClassifier\n",
    "from sklearn.multioutput import MultiOutputClassifier\n",
    "\n",
    "# Initialize the base classifier\n",
    "xgb_classifier = XGBClassifier(objective='binary:logistic', n_estimators=100, learning_rate=0.1, max_depth=5)"
   ]
  },
  {
   "cell_type": "markdown",
   "id": "96a21d1e",
   "metadata": {
    "id": "9o0a0vKWlfEA",
    "papermill": {
     "duration": 0.032103,
     "end_time": "2025-02-24T03:24:55.348194",
     "exception": false,
     "start_time": "2025-02-24T03:24:55.316091",
     "status": "completed"
    },
    "tags": []
   },
   "source": [
    "Next, we will wrap the XGBClassifier with MultiOutputClassifier, a utility from sklearn that enables the model to handle multi-target classification.\n",
    "\n",
    "Why it's needed:\n",
    "XGBClassifier on its own can only handle single-target classification. MultiOutputClassifier manages the training process by creating a separate XGBClassifier for each target variable in y_train."
   ]
  },
  {
   "cell_type": "code",
   "execution_count": 42,
   "id": "699bca2f",
   "metadata": {
    "execution": {
     "iopub.execute_input": "2025-02-24T03:24:55.414465Z",
     "iopub.status.busy": "2025-02-24T03:24:55.414040Z",
     "iopub.status.idle": "2025-02-24T03:24:55.418821Z",
     "shell.execute_reply": "2025-02-24T03:24:55.417374Z"
    },
    "id": "Odsh7nThlh1o",
    "papermill": {
     "duration": 0.039896,
     "end_time": "2025-02-24T03:24:55.420490",
     "exception": false,
     "start_time": "2025-02-24T03:24:55.380594",
     "status": "completed"
    },
    "tags": []
   },
   "outputs": [],
   "source": [
    "# Wrap with MultiOutputClassifier for multi-target classification\n",
    "multioutput_classifier = MultiOutputClassifier(xgb_classifier)"
   ]
  },
  {
   "cell_type": "markdown",
   "id": "5cfd09a1",
   "metadata": {
    "id": "xjjw-1-bllZU",
    "papermill": {
     "duration": 0.035973,
     "end_time": "2025-02-24T03:24:55.490528",
     "exception": false,
     "start_time": "2025-02-24T03:24:55.454555",
     "status": "completed"
    },
    "tags": []
   },
   "source": [
    "Next, we must train the multioutput_classifier on the feature matrix X_train and the multi-target labels y_train.\n",
    "\n",
    "How it works:\n",
    "\n",
    "MultiOutputClassifier internally splits y_train into individual target columns.\n",
    "For each target column, it trains a separate instance of the XGBClassifier using the features from X_train."
   ]
  },
  {
   "cell_type": "code",
   "execution_count": 43,
   "id": "550b43aa",
   "metadata": {
    "execution": {
     "iopub.execute_input": "2025-02-24T03:24:55.575955Z",
     "iopub.status.busy": "2025-02-24T03:24:55.575485Z",
     "iopub.status.idle": "2025-02-24T03:30:29.395602Z",
     "shell.execute_reply": "2025-02-24T03:30:29.394404Z"
    },
    "id": "MZiJZynBloIz",
    "outputId": "f04ef710-9ab7-491b-c11c-5dd9d60333f0",
    "papermill": {
     "duration": 333.894872,
     "end_time": "2025-02-24T03:30:29.431964",
     "exception": false,
     "start_time": "2025-02-24T03:24:55.537092",
     "status": "completed"
    },
    "tags": []
   },
   "outputs": [
    {
     "data": {
      "text/html": [
       "<style>#sk-container-id-1 {color: black;background-color: white;}#sk-container-id-1 pre{padding: 0;}#sk-container-id-1 div.sk-toggleable {background-color: white;}#sk-container-id-1 label.sk-toggleable__label {cursor: pointer;display: block;width: 100%;margin-bottom: 0;padding: 0.3em;box-sizing: border-box;text-align: center;}#sk-container-id-1 label.sk-toggleable__label-arrow:before {content: \"▸\";float: left;margin-right: 0.25em;color: #696969;}#sk-container-id-1 label.sk-toggleable__label-arrow:hover:before {color: black;}#sk-container-id-1 div.sk-estimator:hover label.sk-toggleable__label-arrow:before {color: black;}#sk-container-id-1 div.sk-toggleable__content {max-height: 0;max-width: 0;overflow: hidden;text-align: left;background-color: #f0f8ff;}#sk-container-id-1 div.sk-toggleable__content pre {margin: 0.2em;color: black;border-radius: 0.25em;background-color: #f0f8ff;}#sk-container-id-1 input.sk-toggleable__control:checked~div.sk-toggleable__content {max-height: 200px;max-width: 100%;overflow: auto;}#sk-container-id-1 input.sk-toggleable__control:checked~label.sk-toggleable__label-arrow:before {content: \"▾\";}#sk-container-id-1 div.sk-estimator input.sk-toggleable__control:checked~label.sk-toggleable__label {background-color: #d4ebff;}#sk-container-id-1 div.sk-label input.sk-toggleable__control:checked~label.sk-toggleable__label {background-color: #d4ebff;}#sk-container-id-1 input.sk-hidden--visually {border: 0;clip: rect(1px 1px 1px 1px);clip: rect(1px, 1px, 1px, 1px);height: 1px;margin: -1px;overflow: hidden;padding: 0;position: absolute;width: 1px;}#sk-container-id-1 div.sk-estimator {font-family: monospace;background-color: #f0f8ff;border: 1px dotted black;border-radius: 0.25em;box-sizing: border-box;margin-bottom: 0.5em;}#sk-container-id-1 div.sk-estimator:hover {background-color: #d4ebff;}#sk-container-id-1 div.sk-parallel-item::after {content: \"\";width: 100%;border-bottom: 1px solid gray;flex-grow: 1;}#sk-container-id-1 div.sk-label:hover label.sk-toggleable__label {background-color: #d4ebff;}#sk-container-id-1 div.sk-serial::before {content: \"\";position: absolute;border-left: 1px solid gray;box-sizing: border-box;top: 0;bottom: 0;left: 50%;z-index: 0;}#sk-container-id-1 div.sk-serial {display: flex;flex-direction: column;align-items: center;background-color: white;padding-right: 0.2em;padding-left: 0.2em;position: relative;}#sk-container-id-1 div.sk-item {position: relative;z-index: 1;}#sk-container-id-1 div.sk-parallel {display: flex;align-items: stretch;justify-content: center;background-color: white;position: relative;}#sk-container-id-1 div.sk-item::before, #sk-container-id-1 div.sk-parallel-item::before {content: \"\";position: absolute;border-left: 1px solid gray;box-sizing: border-box;top: 0;bottom: 0;left: 50%;z-index: -1;}#sk-container-id-1 div.sk-parallel-item {display: flex;flex-direction: column;z-index: 1;position: relative;background-color: white;}#sk-container-id-1 div.sk-parallel-item:first-child::after {align-self: flex-end;width: 50%;}#sk-container-id-1 div.sk-parallel-item:last-child::after {align-self: flex-start;width: 50%;}#sk-container-id-1 div.sk-parallel-item:only-child::after {width: 0;}#sk-container-id-1 div.sk-dashed-wrapped {border: 1px dashed gray;margin: 0 0.4em 0.5em 0.4em;box-sizing: border-box;padding-bottom: 0.4em;background-color: white;}#sk-container-id-1 div.sk-label label {font-family: monospace;font-weight: bold;display: inline-block;line-height: 1.2em;}#sk-container-id-1 div.sk-label-container {text-align: center;}#sk-container-id-1 div.sk-container {/* jupyter's `normalize.less` sets `[hidden] { display: none; }` but bootstrap.min.css set `[hidden] { display: none !important; }` so we also need the `!important` here to be able to override the default hidden behavior on the sphinx rendered scikit-learn.org. See: https://github.com/scikit-learn/scikit-learn/issues/21755 */display: inline-block !important;position: relative;}#sk-container-id-1 div.sk-text-repr-fallback {display: none;}</style><div id=\"sk-container-id-1\" class=\"sk-top-container\"><div class=\"sk-text-repr-fallback\"><pre>MultiOutputClassifier(estimator=XGBClassifier(base_score=None, booster=None,\n",
       "                                              callbacks=None,\n",
       "                                              colsample_bylevel=None,\n",
       "                                              colsample_bynode=None,\n",
       "                                              colsample_bytree=None,\n",
       "                                              device=None,\n",
       "                                              early_stopping_rounds=None,\n",
       "                                              enable_categorical=False,\n",
       "                                              eval_metric=None,\n",
       "                                              feature_types=None, gamma=None,\n",
       "                                              grow_policy=None,\n",
       "                                              importance_type=None,\n",
       "                                              interaction_constraints=None,\n",
       "                                              learning_rate=0.1, max_bin=None,\n",
       "                                              max_cat_threshold=None,\n",
       "                                              max_cat_to_onehot=None,\n",
       "                                              max_delta_step=None, max_depth=5,\n",
       "                                              max_leaves=None,\n",
       "                                              min_child_weight=None,\n",
       "                                              missing=nan,\n",
       "                                              monotone_constraints=None,\n",
       "                                              multi_strategy=None,\n",
       "                                              n_estimators=100, n_jobs=None,\n",
       "                                              num_parallel_tree=None,\n",
       "                                              random_state=None, ...))</pre><b>In a Jupyter environment, please rerun this cell to show the HTML representation or trust the notebook. <br />On GitHub, the HTML representation is unable to render, please try loading this page with nbviewer.org.</b></div><div class=\"sk-container\" hidden><div class=\"sk-item sk-dashed-wrapped\"><div class=\"sk-label-container\"><div class=\"sk-label sk-toggleable\"><input class=\"sk-toggleable__control sk-hidden--visually\" id=\"sk-estimator-id-1\" type=\"checkbox\" ><label for=\"sk-estimator-id-1\" class=\"sk-toggleable__label sk-toggleable__label-arrow\">MultiOutputClassifier</label><div class=\"sk-toggleable__content\"><pre>MultiOutputClassifier(estimator=XGBClassifier(base_score=None, booster=None,\n",
       "                                              callbacks=None,\n",
       "                                              colsample_bylevel=None,\n",
       "                                              colsample_bynode=None,\n",
       "                                              colsample_bytree=None,\n",
       "                                              device=None,\n",
       "                                              early_stopping_rounds=None,\n",
       "                                              enable_categorical=False,\n",
       "                                              eval_metric=None,\n",
       "                                              feature_types=None, gamma=None,\n",
       "                                              grow_policy=None,\n",
       "                                              importance_type=None,\n",
       "                                              interaction_constraints=None,\n",
       "                                              learning_rate=0.1, max_bin=None,\n",
       "                                              max_cat_threshold=None,\n",
       "                                              max_cat_to_onehot=None,\n",
       "                                              max_delta_step=None, max_depth=5,\n",
       "                                              max_leaves=None,\n",
       "                                              min_child_weight=None,\n",
       "                                              missing=nan,\n",
       "                                              monotone_constraints=None,\n",
       "                                              multi_strategy=None,\n",
       "                                              n_estimators=100, n_jobs=None,\n",
       "                                              num_parallel_tree=None,\n",
       "                                              random_state=None, ...))</pre></div></div></div><div class=\"sk-parallel\"><div class=\"sk-parallel-item\"><div class=\"sk-item\"><div class=\"sk-label-container\"><div class=\"sk-label sk-toggleable\"><input class=\"sk-toggleable__control sk-hidden--visually\" id=\"sk-estimator-id-2\" type=\"checkbox\" ><label for=\"sk-estimator-id-2\" class=\"sk-toggleable__label sk-toggleable__label-arrow\">estimator: XGBClassifier</label><div class=\"sk-toggleable__content\"><pre>XGBClassifier(base_score=None, booster=None, callbacks=None,\n",
       "              colsample_bylevel=None, colsample_bynode=None,\n",
       "              colsample_bytree=None, device=None, early_stopping_rounds=None,\n",
       "              enable_categorical=False, eval_metric=None, feature_types=None,\n",
       "              gamma=None, grow_policy=None, importance_type=None,\n",
       "              interaction_constraints=None, learning_rate=0.1, max_bin=None,\n",
       "              max_cat_threshold=None, max_cat_to_onehot=None,\n",
       "              max_delta_step=None, max_depth=5, max_leaves=None,\n",
       "              min_child_weight=None, missing=nan, monotone_constraints=None,\n",
       "              multi_strategy=None, n_estimators=100, n_jobs=None,\n",
       "              num_parallel_tree=None, random_state=None, ...)</pre></div></div></div><div class=\"sk-serial\"><div class=\"sk-item\"><div class=\"sk-estimator sk-toggleable\"><input class=\"sk-toggleable__control sk-hidden--visually\" id=\"sk-estimator-id-3\" type=\"checkbox\" ><label for=\"sk-estimator-id-3\" class=\"sk-toggleable__label sk-toggleable__label-arrow\">XGBClassifier</label><div class=\"sk-toggleable__content\"><pre>XGBClassifier(base_score=None, booster=None, callbacks=None,\n",
       "              colsample_bylevel=None, colsample_bynode=None,\n",
       "              colsample_bytree=None, device=None, early_stopping_rounds=None,\n",
       "              enable_categorical=False, eval_metric=None, feature_types=None,\n",
       "              gamma=None, grow_policy=None, importance_type=None,\n",
       "              interaction_constraints=None, learning_rate=0.1, max_bin=None,\n",
       "              max_cat_threshold=None, max_cat_to_onehot=None,\n",
       "              max_delta_step=None, max_depth=5, max_leaves=None,\n",
       "              min_child_weight=None, missing=nan, monotone_constraints=None,\n",
       "              multi_strategy=None, n_estimators=100, n_jobs=None,\n",
       "              num_parallel_tree=None, random_state=None, ...)</pre></div></div></div></div></div></div></div></div></div></div>"
      ],
      "text/plain": [
       "MultiOutputClassifier(estimator=XGBClassifier(base_score=None, booster=None,\n",
       "                                              callbacks=None,\n",
       "                                              colsample_bylevel=None,\n",
       "                                              colsample_bynode=None,\n",
       "                                              colsample_bytree=None,\n",
       "                                              device=None,\n",
       "                                              early_stopping_rounds=None,\n",
       "                                              enable_categorical=False,\n",
       "                                              eval_metric=None,\n",
       "                                              feature_types=None, gamma=None,\n",
       "                                              grow_policy=None,\n",
       "                                              importance_type=None,\n",
       "                                              interaction_constraints=None,\n",
       "                                              learning_rate=0.1, max_bin=None,\n",
       "                                              max_cat_threshold=None,\n",
       "                                              max_cat_to_onehot=None,\n",
       "                                              max_delta_step=None, max_depth=5,\n",
       "                                              max_leaves=None,\n",
       "                                              min_child_weight=None,\n",
       "                                              missing=nan,\n",
       "                                              monotone_constraints=None,\n",
       "                                              multi_strategy=None,\n",
       "                                              n_estimators=100, n_jobs=None,\n",
       "                                              num_parallel_tree=None,\n",
       "                                              random_state=None, ...))"
      ]
     },
     "execution_count": 43,
     "metadata": {},
     "output_type": "execute_result"
    }
   ],
   "source": [
    "# Train the model\n",
    "multioutput_classifier.fit(X_train, Y_train)"
   ]
  },
  {
   "cell_type": "markdown",
   "id": "c93489d9",
   "metadata": {
    "id": "4NvVqJG4ltva",
    "papermill": {
     "duration": 0.033089,
     "end_time": "2025-02-24T03:30:29.499149",
     "exception": false,
     "start_time": "2025-02-24T03:30:29.466060",
     "status": "completed"
    },
    "tags": []
   },
   "source": [
    "## Testing the Model\n",
    "\n",
    "Once we have a trained model we can start testing our model and making our predictions! We also preprocessed our testing data the same way we did our training data so we are all ready to use our test_df as our x_test dataframe in our trained model.\n",
    "\n",
    "Participant_id: we will remove this column because it is type category and not helpful in machine learning but we will store it in a variable to save it to concat back to our dataframe later before submitting your predicitions"
   ]
  },
  {
   "cell_type": "code",
   "execution_count": 44,
   "id": "1356f34c",
   "metadata": {
    "execution": {
     "iopub.execute_input": "2025-02-24T03:30:29.567068Z",
     "iopub.status.busy": "2025-02-24T03:30:29.566688Z",
     "iopub.status.idle": "2025-02-24T03:30:33.120074Z",
     "shell.execute_reply": "2025-02-24T03:30:33.119177Z"
    },
    "id": "t7Xs4_4Tlu-k",
    "papermill": {
     "duration": 3.590013,
     "end_time": "2025-02-24T03:30:33.122331",
     "exception": false,
     "start_time": "2025-02-24T03:30:29.532318",
     "status": "completed"
    },
    "tags": []
   },
   "outputs": [],
   "source": [
    "participant_id = test_df['participant_id']\n",
    "\n",
    "X_test = test_df.drop(columns = 'participant_id')\n",
    "\n",
    "y_pred = multioutput_classifier.predict(X_test)"
   ]
  },
  {
   "cell_type": "markdown",
   "id": "66ae84a3",
   "metadata": {
    "id": "a-rqMdl7lxrr",
    "papermill": {
     "duration": 0.032902,
     "end_time": "2025-02-24T03:30:33.191902",
     "exception": false,
     "start_time": "2025-02-24T03:30:33.159000",
     "status": "completed"
    },
    "tags": []
   },
   "source": [
    "Now we can create a dataframe of the participant ids that we stored and our predicted values"
   ]
  },
  {
   "cell_type": "code",
   "execution_count": 45,
   "id": "52d9fc89",
   "metadata": {
    "execution": {
     "iopub.execute_input": "2025-02-24T03:30:33.262452Z",
     "iopub.status.busy": "2025-02-24T03:30:33.262087Z",
     "iopub.status.idle": "2025-02-24T03:30:33.273392Z",
     "shell.execute_reply": "2025-02-24T03:30:33.271826Z"
    },
    "id": "zEUzR3o8l0ZL",
    "outputId": "ded2dc15-fdc0-46de-8ed1-f1aa3e9f15e0",
    "papermill": {
     "duration": 0.049732,
     "end_time": "2025-02-24T03:30:33.275212",
     "exception": false,
     "start_time": "2025-02-24T03:30:33.225480",
     "status": "completed"
    },
    "tags": []
   },
   "outputs": [
    {
     "name": "stdout",
     "output_type": "stream",
     "text": [
      "    participant_id  Predicted_Gender  Predicted_ADHD\n",
      "0     Cfwaf5FX7jWK                 0               0\n",
      "1     vhGrzmvA3Hjq                 1               0\n",
      "2     ULliyEXjy4OV                 1               0\n",
      "3     LZfeAb1xMtql                 0               0\n",
      "4     EnFOUv0YK1RG                 1               0\n",
      "..             ...               ...             ...\n",
      "299   UadZfjdEg7eG                 0               0\n",
      "300   IUEHiLmQAqCi                 1               1\n",
      "301   cRySmCadYFRO                 0               0\n",
      "302   E3MvDUtJadc5                 0               0\n",
      "303   dQJXfyRazknD                 1               0\n",
      "\n",
      "[304 rows x 3 columns]\n"
     ]
    }
   ],
   "source": [
    "# Convert predictions to a DataFrame\n",
    "predictions_df = pd.DataFrame(\n",
    "    y_pred,\n",
    "    columns=['Predicted_Gender', 'Predicted_ADHD']\n",
    ")\n",
    "\n",
    "# Combine participant IDs with predictions\n",
    "result_df = pd.concat([participant_id.reset_index(drop=True), predictions_df], axis=1)\n",
    "\n",
    "# Print or save the DataFrame\n",
    "print(result_df)"
   ]
  },
  {
   "cell_type": "markdown",
   "id": "a0bd3861",
   "metadata": {
    "id": "Wsf-0dB7l2tn",
    "papermill": {
     "duration": 0.033537,
     "end_time": "2025-02-24T03:30:33.342799",
     "exception": false,
     "start_time": "2025-02-24T03:30:33.309262",
     "status": "completed"
    },
    "tags": []
   },
   "source": [
    "Example of an expected result that you will submit to kaggle:"
   ]
  },
  {
   "cell_type": "code",
   "execution_count": 46,
   "id": "54e87d84",
   "metadata": {
    "execution": {
     "iopub.execute_input": "2025-02-24T03:30:33.412658Z",
     "iopub.status.busy": "2025-02-24T03:30:33.412267Z",
     "iopub.status.idle": "2025-02-24T03:30:33.416257Z",
     "shell.execute_reply": "2025-02-24T03:30:33.415130Z"
    },
    "id": "tuppT34Tl5Gw",
    "papermill": {
     "duration": 0.042047,
     "end_time": "2025-02-24T03:30:33.417986",
     "exception": false,
     "start_time": "2025-02-24T03:30:33.375939",
     "status": "completed"
    },
    "tags": []
   },
   "outputs": [],
   "source": [
    "#participant_id  Predicted_Gender  Predicted_ADHD\n",
    "#0     Cfwaf5FX7jWK                 0               0\n",
    "#1     vhGrzmvA3Hjq                 1               0\n",
    "#2     ULliyEXjy4OV                 1               0\n",
    "#3     LZfeAb1xMtql                 0               0\n",
    "#4     EnFOUv0YK1RG                 1               0\n",
    "#..             ...               ...             ...\n",
    "#299   UadZfjdEg7eG                 0               0\n",
    "#300   IUEHiLmQAqCi                 1               1\n",
    "#301   cRySmCadYFRO                 0               0\n",
    "#302   E3MvDUtJadc5                 0               0\n",
    "#303   dQJXfyRazknD                 1               0"
   ]
  },
  {
   "cell_type": "markdown",
   "id": "1845e724",
   "metadata": {
    "id": "FgOOXIGbjJXM",
    "papermill": {
     "duration": 0.033925,
     "end_time": "2025-02-24T03:30:33.486481",
     "exception": false,
     "start_time": "2025-02-24T03:30:33.452556",
     "status": "completed"
    },
    "tags": []
   },
   "source": [
    "### Evaluating Machine Learning Model - Cross Validation Score\n",
    "\n",
    "The cross-validation score is a metric used to evaluate the performance of a machine learning model by testing it on multiple subsets of the data. It provides an estimate of how well the model is likely to generalize to unseen data.\n",
    "\n",
    "How Cross-Validation Works:\n",
    "\n",
    "\n",
    "*   The dataset is divided into 𝑘 equally-sized subsets or folds.\n",
    "*   The model is trained on k - 1 folds (the training set) and evaluated on the remaining fold (the validation set)\n",
    "* This process is repeated k times, with each fold being used once as the validation set\n",
    "* The evaluation metric, we will use accuracy is computed for each iteration\n",
    "\n",
    "Why are we using cross-validation score:\n",
    "\n",
    "\n",
    "*  Since we don’t have the true labels for the test data, we cannot calculate the actual accuracy score. Cross-validation provides a reliable way to evaluate our model's performance using the training data without needing the test set answers.\n",
    "*  Cross-validation ensures that a model is evaluated on multiple subsets of the data"
   ]
  },
  {
   "cell_type": "markdown",
   "id": "b040f767",
   "metadata": {
    "id": "w3q2hSz_mIyz",
    "papermill": {
     "duration": 0.034192,
     "end_time": "2025-02-24T03:30:33.554969",
     "exception": false,
     "start_time": "2025-02-24T03:30:33.520777",
     "status": "completed"
    },
    "tags": []
   },
   "source": [
    "Import the necessary libraries: We will be using the sklearn library in python to perform cross validation"
   ]
  },
  {
   "cell_type": "code",
   "execution_count": 47,
   "id": "ca0cf172",
   "metadata": {
    "execution": {
     "iopub.execute_input": "2025-02-24T03:30:33.623912Z",
     "iopub.status.busy": "2025-02-24T03:30:33.623563Z",
     "iopub.status.idle": "2025-02-24T03:30:33.627729Z",
     "shell.execute_reply": "2025-02-24T03:30:33.626687Z"
    },
    "id": "pIyfnFvjjSeV",
    "papermill": {
     "duration": 0.041069,
     "end_time": "2025-02-24T03:30:33.629707",
     "exception": false,
     "start_time": "2025-02-24T03:30:33.588638",
     "status": "completed"
    },
    "tags": []
   },
   "outputs": [],
   "source": [
    "from sklearn.model_selection import cross_val_score\n",
    "from sklearn.metrics import make_scorer, accuracy_score"
   ]
  },
  {
   "cell_type": "markdown",
   "id": "d2d8d795",
   "metadata": {
    "id": "BqUCPqLZmL7Y",
    "papermill": {
     "duration": 0.032521,
     "end_time": "2025-02-24T03:30:33.696627",
     "exception": false,
     "start_time": "2025-02-24T03:30:33.664106",
     "status": "completed"
    },
    "tags": []
   },
   "source": [
    "Define a custom accuracy metric for multi-output classification, where each target variable (column) needs a separate accuracy calculation.\n",
    "\n",
    "This function will:\n",
    "\n",
    "\n",
    "*   Converts y_true and y_pred into NumPy arrays to enable indexing like `[:, i].`\n",
    "*   Iterates over each column (i.e., target variable) in y_true and y_pred.\n",
    "* Computes the accuracy score for each target variable using accuracy_score.\n",
    "* Returns the average accuracy across all target variables."
   ]
  },
  {
   "cell_type": "code",
   "execution_count": 48,
   "id": "db909078",
   "metadata": {
    "execution": {
     "iopub.execute_input": "2025-02-24T03:30:33.765334Z",
     "iopub.status.busy": "2025-02-24T03:30:33.764907Z",
     "iopub.status.idle": "2025-02-24T03:30:33.770654Z",
     "shell.execute_reply": "2025-02-24T03:30:33.769468Z"
    },
    "id": "wkdJIWevmOdj",
    "papermill": {
     "duration": 0.042655,
     "end_time": "2025-02-24T03:30:33.772193",
     "exception": false,
     "start_time": "2025-02-24T03:30:33.729538",
     "status": "completed"
    },
    "tags": []
   },
   "outputs": [],
   "source": [
    "def multi_output_accuracy(y_true, y_pred):\n",
    "    # Ensure y_true and y_pred are NumPy arrays\n",
    "    y_true = np.array(y_true)\n",
    "    y_pred = np.array(y_pred)\n",
    "    # Compute accuracy for each target variable and return the mean\n",
    "    return np.mean([accuracy_score(y_true[:, i], y_pred[:, i]) for i in range(y_true.shape[1])])"
   ]
  },
  {
   "cell_type": "markdown",
   "id": "6a2472b0",
   "metadata": {
    "id": "BdopgbCymQ3l",
    "papermill": {
     "duration": 0.032397,
     "end_time": "2025-02-24T03:30:33.837805",
     "exception": false,
     "start_time": "2025-02-24T03:30:33.805408",
     "status": "completed"
    },
    "tags": []
   },
   "source": [
    "Then we will wrap the multi_output_accuracy function into a scorer object that can be used with scikit-learn's evaluation tools (e.g., cross_val_score). This will automatically create the `y_true` and `y_pred` being used in our function above."
   ]
  },
  {
   "cell_type": "code",
   "execution_count": 49,
   "id": "106ac96c",
   "metadata": {
    "execution": {
     "iopub.execute_input": "2025-02-24T03:30:33.905424Z",
     "iopub.status.busy": "2025-02-24T03:30:33.904997Z",
     "iopub.status.idle": "2025-02-24T03:30:33.909506Z",
     "shell.execute_reply": "2025-02-24T03:30:33.908380Z"
    },
    "id": "3RS-h740mTUg",
    "papermill": {
     "duration": 0.040696,
     "end_time": "2025-02-24T03:30:33.911265",
     "exception": false,
     "start_time": "2025-02-24T03:30:33.870569",
     "status": "completed"
    },
    "tags": []
   },
   "outputs": [],
   "source": [
    "# Create a scorer using scikit-learn's make_scorer\n",
    "multi_output_scorer = make_scorer(multi_output_accuracy)"
   ]
  },
  {
   "cell_type": "markdown",
   "id": "48bb9923",
   "metadata": {
    "id": "5rKGRETymViR",
    "papermill": {
     "duration": 0.03331,
     "end_time": "2025-02-24T03:30:33.977490",
     "exception": false,
     "start_time": "2025-02-24T03:30:33.944180",
     "status": "completed"
    },
    "tags": []
   },
   "source": [
    "Now we will actually perform cross validation with our multi-outcome machine learning model while using our X_train and Y_train dataframes.\n",
    "\n",
    "*   `cv=5`: Specifies 5-fold cross-validation so it will split X_train and Y_train into 5 subsets. Train the model on 4 folds and evaluates it on the remaining fold. Then, repeat this process 5 times, with each fold being used as the validation set once.\n",
    "*   `scoring = multi_output_scorer`: Uses the custom scoring function for evaluation."
   ]
  },
  {
   "cell_type": "code",
   "execution_count": 50,
   "id": "fcd3ba75",
   "metadata": {
    "execution": {
     "iopub.execute_input": "2025-02-24T03:30:34.047022Z",
     "iopub.status.busy": "2025-02-24T03:30:34.046622Z",
     "iopub.status.idle": "2025-02-24T03:55:09.504870Z",
     "shell.execute_reply": "2025-02-24T03:55:09.501464Z"
    },
    "id": "-EMhR1GDmX-R",
    "outputId": "494e4c5c-c0d2-46f8-f20f-63824ff5fb2f",
    "papermill": {
     "duration": 1475.599539,
     "end_time": "2025-02-24T03:55:09.611439",
     "exception": false,
     "start_time": "2025-02-24T03:30:34.011900",
     "status": "completed"
    },
    "tags": []
   },
   "outputs": [
    {
     "name": "stdout",
     "output_type": "stream",
     "text": [
      "Cross-validation scores for each fold: [0.82304527 0.78600823 0.69341564 0.64669421 0.33471074]\n",
      "Mean CV score: 0.6567748188960311\n"
     ]
    }
   ],
   "source": [
    "# Perform cross-validation on the training data\n",
    "#CHANGED TO CV=3\n",
    "cv_scores = cross_val_score(multioutput_classifier, X_train, Y_train, cv=5, scoring=multi_output_scorer)\n",
    "\n",
    "# Output the cross-validation results\n",
    "print(\"Cross-validation scores for each fold:\", cv_scores)\n",
    "print(\"Mean CV score:\", np.mean(cv_scores))\n",
    "\n",
    "# Cross-validation scores for each fold: [0.82304527 0.78600823 0.69341564 0.64669421 0.33471074]\n",
    "# Mean CV score: 0.6567748188960311"
   ]
  },
  {
   "cell_type": "markdown",
   "id": "4a88d5e7",
   "metadata": {
    "id": "e2Of5KSemcYL",
    "papermill": {
     "duration": 0.034928,
     "end_time": "2025-02-24T03:55:09.680713",
     "exception": false,
     "start_time": "2025-02-24T03:55:09.645785",
     "status": "completed"
    },
    "tags": []
   },
   "source": [
    "Notably, this CV score is not optimal, our model is not going to be extremely accurate without feature selection and engineering."
   ]
  },
  {
   "cell_type": "markdown",
   "id": "378fb4e6",
   "metadata": {
    "id": "EJFJxUdejIQ8",
    "papermill": {
     "duration": 0.032962,
     "end_time": "2025-02-24T03:55:09.748144",
     "exception": false,
     "start_time": "2025-02-24T03:55:09.715182",
     "status": "completed"
    },
    "tags": []
   },
   "source": [
    "## Logistic Regression for Feature Selection"
   ]
  },
  {
   "cell_type": "markdown",
   "id": "95de014e",
   "metadata": {
    "id": "p2r_u3DOsLM5",
    "papermill": {
     "duration": 0.033026,
     "end_time": "2025-02-24T03:55:09.815730",
     "exception": false,
     "start_time": "2025-02-24T03:55:09.782704",
     "status": "completed"
    },
    "tags": []
   },
   "source": [
    "**Recursive Feature Elimination (RFE)** is a feature selection technique that involves training a model on a subset of the features, and then iteratively removing the least important features one by one until we are left with the desired number of features."
   ]
  },
  {
   "cell_type": "markdown",
   "id": "e46f31c3",
   "metadata": {
    "id": "tu2xof1-sQIO",
    "papermill": {
     "duration": 0.032632,
     "end_time": "2025-02-24T03:55:09.881902",
     "exception": false,
     "start_time": "2025-02-24T03:55:09.849270",
     "status": "completed"
    },
    "tags": []
   },
   "source": [
    "To implement RFE in Python, we can use the RFE class from the `sklearn.feature_selection` module."
   ]
  },
  {
   "cell_type": "markdown",
   "id": "799a636e",
   "metadata": {
    "id": "UgZWUjxNjWan",
    "papermill": {
     "duration": 0.037208,
     "end_time": "2025-02-24T03:55:09.952536",
     "exception": false,
     "start_time": "2025-02-24T03:55:09.915328",
     "status": "completed"
    },
    "tags": []
   },
   "source": [
    "**Using coefficients:**\n",
    "- Fit a logistic regression model: Train a logistic regression model on your dataset.\n",
    "- **Extract coefficients:** Get the coefficients of the model. The absolute values of the coefficients indicate the importance of the corresponding features.\n",
    "- **Select top features:** Choose the features with the highest absolute coefficient values."
   ]
  },
  {
   "cell_type": "code",
   "execution_count": 51,
   "id": "b3de2f1d",
   "metadata": {
    "execution": {
     "iopub.execute_input": "2025-02-24T03:55:10.022536Z",
     "iopub.status.busy": "2025-02-24T03:55:10.022146Z",
     "iopub.status.idle": "2025-02-24T03:55:10.026675Z",
     "shell.execute_reply": "2025-02-24T03:55:10.025535Z"
    },
    "id": "JBXOJLgAjH-Z",
    "papermill": {
     "duration": 0.042587,
     "end_time": "2025-02-24T03:55:10.028769",
     "exception": false,
     "start_time": "2025-02-24T03:55:09.986182",
     "status": "completed"
    },
    "tags": []
   },
   "outputs": [],
   "source": [
    "from sklearn.linear_model import LogisticRegression"
   ]
  },
  {
   "cell_type": "markdown",
   "id": "4fe42ff5",
   "metadata": {
    "id": "lO8yFEnJqhNw",
    "papermill": {
     "duration": 0.032996,
     "end_time": "2025-02-24T03:55:10.097126",
     "exception": false,
     "start_time": "2025-02-24T03:55:10.064130",
     "status": "completed"
    },
    "tags": []
   },
   "source": [
    "**We will first look at Feature Selection with Sex as the target**"
   ]
  },
  {
   "cell_type": "code",
   "execution_count": 52,
   "id": "a57c2733",
   "metadata": {
    "execution": {
     "iopub.execute_input": "2025-02-24T03:55:10.167213Z",
     "iopub.status.busy": "2025-02-24T03:55:10.166845Z",
     "iopub.status.idle": "2025-02-24T03:55:34.638266Z",
     "shell.execute_reply": "2025-02-24T03:55:34.637030Z"
    },
    "id": "D0Ji8-ItiLjN",
    "outputId": "98fc2a83-9b7c-47f8-ffb3-60cb040266a6",
    "papermill": {
     "duration": 24.508283,
     "end_time": "2025-02-24T03:55:34.640237",
     "exception": false,
     "start_time": "2025-02-24T03:55:10.131954",
     "status": "completed"
    },
    "tags": []
   },
   "outputs": [
    {
     "name": "stderr",
     "output_type": "stream",
     "text": [
      "/usr/local/lib/python3.10/dist-packages/sklearn/linear_model/_logistic.py:458: ConvergenceWarning: lbfgs failed to converge (status=1):\n",
      "STOP: TOTAL NO. of ITERATIONS REACHED LIMIT.\n",
      "\n",
      "Increase the number of iterations (max_iter) or scale the data as shown in:\n",
      "    https://scikit-learn.org/stable/modules/preprocessing.html\n",
      "Please also refer to the documentation for alternative solver options:\n",
      "    https://scikit-learn.org/stable/modules/linear_model.html#logistic-regression\n",
      "  n_iter_i = _check_optimize_result(\n"
     ]
    },
    {
     "data": {
      "text/html": [
       "<style>#sk-container-id-2 {color: black;background-color: white;}#sk-container-id-2 pre{padding: 0;}#sk-container-id-2 div.sk-toggleable {background-color: white;}#sk-container-id-2 label.sk-toggleable__label {cursor: pointer;display: block;width: 100%;margin-bottom: 0;padding: 0.3em;box-sizing: border-box;text-align: center;}#sk-container-id-2 label.sk-toggleable__label-arrow:before {content: \"▸\";float: left;margin-right: 0.25em;color: #696969;}#sk-container-id-2 label.sk-toggleable__label-arrow:hover:before {color: black;}#sk-container-id-2 div.sk-estimator:hover label.sk-toggleable__label-arrow:before {color: black;}#sk-container-id-2 div.sk-toggleable__content {max-height: 0;max-width: 0;overflow: hidden;text-align: left;background-color: #f0f8ff;}#sk-container-id-2 div.sk-toggleable__content pre {margin: 0.2em;color: black;border-radius: 0.25em;background-color: #f0f8ff;}#sk-container-id-2 input.sk-toggleable__control:checked~div.sk-toggleable__content {max-height: 200px;max-width: 100%;overflow: auto;}#sk-container-id-2 input.sk-toggleable__control:checked~label.sk-toggleable__label-arrow:before {content: \"▾\";}#sk-container-id-2 div.sk-estimator input.sk-toggleable__control:checked~label.sk-toggleable__label {background-color: #d4ebff;}#sk-container-id-2 div.sk-label input.sk-toggleable__control:checked~label.sk-toggleable__label {background-color: #d4ebff;}#sk-container-id-2 input.sk-hidden--visually {border: 0;clip: rect(1px 1px 1px 1px);clip: rect(1px, 1px, 1px, 1px);height: 1px;margin: -1px;overflow: hidden;padding: 0;position: absolute;width: 1px;}#sk-container-id-2 div.sk-estimator {font-family: monospace;background-color: #f0f8ff;border: 1px dotted black;border-radius: 0.25em;box-sizing: border-box;margin-bottom: 0.5em;}#sk-container-id-2 div.sk-estimator:hover {background-color: #d4ebff;}#sk-container-id-2 div.sk-parallel-item::after {content: \"\";width: 100%;border-bottom: 1px solid gray;flex-grow: 1;}#sk-container-id-2 div.sk-label:hover label.sk-toggleable__label {background-color: #d4ebff;}#sk-container-id-2 div.sk-serial::before {content: \"\";position: absolute;border-left: 1px solid gray;box-sizing: border-box;top: 0;bottom: 0;left: 50%;z-index: 0;}#sk-container-id-2 div.sk-serial {display: flex;flex-direction: column;align-items: center;background-color: white;padding-right: 0.2em;padding-left: 0.2em;position: relative;}#sk-container-id-2 div.sk-item {position: relative;z-index: 1;}#sk-container-id-2 div.sk-parallel {display: flex;align-items: stretch;justify-content: center;background-color: white;position: relative;}#sk-container-id-2 div.sk-item::before, #sk-container-id-2 div.sk-parallel-item::before {content: \"\";position: absolute;border-left: 1px solid gray;box-sizing: border-box;top: 0;bottom: 0;left: 50%;z-index: -1;}#sk-container-id-2 div.sk-parallel-item {display: flex;flex-direction: column;z-index: 1;position: relative;background-color: white;}#sk-container-id-2 div.sk-parallel-item:first-child::after {align-self: flex-end;width: 50%;}#sk-container-id-2 div.sk-parallel-item:last-child::after {align-self: flex-start;width: 50%;}#sk-container-id-2 div.sk-parallel-item:only-child::after {width: 0;}#sk-container-id-2 div.sk-dashed-wrapped {border: 1px dashed gray;margin: 0 0.4em 0.5em 0.4em;box-sizing: border-box;padding-bottom: 0.4em;background-color: white;}#sk-container-id-2 div.sk-label label {font-family: monospace;font-weight: bold;display: inline-block;line-height: 1.2em;}#sk-container-id-2 div.sk-label-container {text-align: center;}#sk-container-id-2 div.sk-container {/* jupyter's `normalize.less` sets `[hidden] { display: none; }` but bootstrap.min.css set `[hidden] { display: none !important; }` so we also need the `!important` here to be able to override the default hidden behavior on the sphinx rendered scikit-learn.org. See: https://github.com/scikit-learn/scikit-learn/issues/21755 */display: inline-block !important;position: relative;}#sk-container-id-2 div.sk-text-repr-fallback {display: none;}</style><div id=\"sk-container-id-2\" class=\"sk-top-container\"><div class=\"sk-text-repr-fallback\"><pre>LogisticRegression(max_iter=1000)</pre><b>In a Jupyter environment, please rerun this cell to show the HTML representation or trust the notebook. <br />On GitHub, the HTML representation is unable to render, please try loading this page with nbviewer.org.</b></div><div class=\"sk-container\" hidden><div class=\"sk-item\"><div class=\"sk-estimator sk-toggleable\"><input class=\"sk-toggleable__control sk-hidden--visually\" id=\"sk-estimator-id-4\" type=\"checkbox\" checked><label for=\"sk-estimator-id-4\" class=\"sk-toggleable__label sk-toggleable__label-arrow\">LogisticRegression</label><div class=\"sk-toggleable__content\"><pre>LogisticRegression(max_iter=1000)</pre></div></div></div></div></div>"
      ],
      "text/plain": [
       "LogisticRegression(max_iter=1000)"
      ]
     },
     "execution_count": 52,
     "metadata": {},
     "output_type": "execute_result"
    }
   ],
   "source": [
    "model = LogisticRegression(max_iter=1000)\n",
    "model.fit(train_df.drop(columns='participant_id'), train_Solutions['Sex_F'])"
   ]
  },
  {
   "cell_type": "code",
   "execution_count": 53,
   "id": "fbeada9c",
   "metadata": {
    "execution": {
     "iopub.execute_input": "2025-02-24T03:55:34.710032Z",
     "iopub.status.busy": "2025-02-24T03:55:34.709621Z",
     "iopub.status.idle": "2025-02-24T03:55:34.781013Z",
     "shell.execute_reply": "2025-02-24T03:55:34.779725Z"
    },
    "id": "3Rgs2CEaqkxm",
    "papermill": {
     "duration": 0.108026,
     "end_time": "2025-02-24T03:55:34.783155",
     "exception": false,
     "start_time": "2025-02-24T03:55:34.675129",
     "status": "completed"
    },
    "tags": []
   },
   "outputs": [],
   "source": [
    "# Get coefficients for Sex prediction\n",
    "coefficients = pd.Series(model.coef_[0], index=train_df.drop(columns='participant_id').columns)"
   ]
  },
  {
   "cell_type": "code",
   "execution_count": 54,
   "id": "9ae49555",
   "metadata": {
    "execution": {
     "iopub.execute_input": "2025-02-24T03:55:34.852238Z",
     "iopub.status.busy": "2025-02-24T03:55:34.851807Z",
     "iopub.status.idle": "2025-02-24T03:55:34.871879Z",
     "shell.execute_reply": "2025-02-24T03:55:34.870435Z"
    },
    "id": "EcF0akPqqmGw",
    "outputId": "4ccec474-1ec5-47c7-c4f5-61ffb4ef1e1b",
    "papermill": {
     "duration": 0.056899,
     "end_time": "2025-02-24T03:55:34.873715",
     "exception": false,
     "start_time": "2025-02-24T03:55:34.816816",
     "status": "completed"
    },
    "tags": []
   },
   "outputs": [
    {
     "name": "stdout",
     "output_type": "stream",
     "text": [
      "52throw_53thcolumn           0.447163\n",
      "50throw_53thcolumn           0.442739\n",
      "121throw_147thcolumn         0.429044\n",
      "101throw_131thcolumn         0.428256\n",
      "164throw_189thcolumn         0.427221\n",
      "114throw_121thcolumn         0.423591\n",
      "53throw_55thcolumn           0.422953\n",
      "Barratt_Barratt_P1_Edu_9     0.408843\n",
      "160throw_190thcolumn         0.404248\n",
      "MRI_Track_Scan_Location_4    0.402186\n",
      "dtype: float64\n"
     ]
    }
   ],
   "source": [
    "# Select top features for Sex prediction\n",
    "top_features = coefficients.abs().nlargest(10)\n",
    "print(top_features)"
   ]
  },
  {
   "cell_type": "code",
   "execution_count": 55,
   "id": "3b92ecdb",
   "metadata": {
    "execution": {
     "iopub.execute_input": "2025-02-24T03:55:34.943242Z",
     "iopub.status.busy": "2025-02-24T03:55:34.942818Z",
     "iopub.status.idle": "2025-02-24T03:55:35.186854Z",
     "shell.execute_reply": "2025-02-24T03:55:35.185594Z"
    },
    "id": "3-ash-bGQS9X",
    "outputId": "2028c3d9-1057-4d14-ea4a-348b07208464",
    "papermill": {
     "duration": 0.280902,
     "end_time": "2025-02-24T03:55:35.188980",
     "exception": false,
     "start_time": "2025-02-24T03:55:34.908078",
     "status": "completed"
    },
    "tags": []
   },
   "outputs": [
    {
     "data": {
      "image/png": "[encoded data removed]",
      "text/plain": [
       "<Figure size 1000x600 with 1 Axes>"
      ]
     },
     "metadata": {},
     "output_type": "display_data"
    }
   ],
   "source": [
    "#Plotting the top 10 coefficents for Sex Outcome\n",
    "plt.figure(figsize=(10,6))\n",
    "top_features.sort_values().plot(kind='barh', color='skyblue')\n",
    "plt.title('Top 10 Features for Sex Outcome')\n",
    "plt.ylabel('Features')\n",
    "plt.xlabel('Absolute Coefficient Value')\n",
    "plt.xticks(rotation=45, ha='right')\n",
    "plt.show()"
   ]
  },
  {
   "cell_type": "markdown",
   "id": "d7f73821",
   "metadata": {
    "id": "Og897fPlqozJ",
    "papermill": {
     "duration": 0.035358,
     "end_time": "2025-02-24T03:55:35.261721",
     "exception": false,
     "start_time": "2025-02-24T03:55:35.226363",
     "status": "completed"
    },
    "tags": []
   },
   "source": [
    "**Now, we will look at Feature Selection with ADHD_Outcome as the target**"
   ]
  },
  {
   "cell_type": "code",
   "execution_count": 56,
   "id": "0e263533",
   "metadata": {
    "execution": {
     "iopub.execute_input": "2025-02-24T03:55:35.336309Z",
     "iopub.status.busy": "2025-02-24T03:55:35.335888Z",
     "iopub.status.idle": "2025-02-24T03:56:00.541729Z",
     "shell.execute_reply": "2025-02-24T03:56:00.540065Z"
    },
    "id": "nSZF3LiFqpN9",
    "outputId": "912a3aad-4f51-42b6-a935-3f970542e09b",
    "papermill": {
     "duration": 25.245606,
     "end_time": "2025-02-24T03:56:00.543736",
     "exception": false,
     "start_time": "2025-02-24T03:55:35.298130",
     "status": "completed"
    },
    "tags": []
   },
   "outputs": [
    {
     "name": "stderr",
     "output_type": "stream",
     "text": [
      "/usr/local/lib/python3.10/dist-packages/sklearn/linear_model/_logistic.py:458: ConvergenceWarning: lbfgs failed to converge (status=1):\n",
      "STOP: TOTAL NO. of ITERATIONS REACHED LIMIT.\n",
      "\n",
      "Increase the number of iterations (max_iter) or scale the data as shown in:\n",
      "    https://scikit-learn.org/stable/modules/preprocessing.html\n",
      "Please also refer to the documentation for alternative solver options:\n",
      "    https://scikit-learn.org/stable/modules/linear_model.html#logistic-regression\n",
      "  n_iter_i = _check_optimize_result(\n"
     ]
    },
    {
     "data": {
      "text/html": [
       "<style>#sk-container-id-3 {color: black;background-color: white;}#sk-container-id-3 pre{padding: 0;}#sk-container-id-3 div.sk-toggleable {background-color: white;}#sk-container-id-3 label.sk-toggleable__label {cursor: pointer;display: block;width: 100%;margin-bottom: 0;padding: 0.3em;box-sizing: border-box;text-align: center;}#sk-container-id-3 label.sk-toggleable__label-arrow:before {content: \"▸\";float: left;margin-right: 0.25em;color: #696969;}#sk-container-id-3 label.sk-toggleable__label-arrow:hover:before {color: black;}#sk-container-id-3 div.sk-estimator:hover label.sk-toggleable__label-arrow:before {color: black;}#sk-container-id-3 div.sk-toggleable__content {max-height: 0;max-width: 0;overflow: hidden;text-align: left;background-color: #f0f8ff;}#sk-container-id-3 div.sk-toggleable__content pre {margin: 0.2em;color: black;border-radius: 0.25em;background-color: #f0f8ff;}#sk-container-id-3 input.sk-toggleable__control:checked~div.sk-toggleable__content {max-height: 200px;max-width: 100%;overflow: auto;}#sk-container-id-3 input.sk-toggleable__control:checked~label.sk-toggleable__label-arrow:before {content: \"▾\";}#sk-container-id-3 div.sk-estimator input.sk-toggleable__control:checked~label.sk-toggleable__label {background-color: #d4ebff;}#sk-container-id-3 div.sk-label input.sk-toggleable__control:checked~label.sk-toggleable__label {background-color: #d4ebff;}#sk-container-id-3 input.sk-hidden--visually {border: 0;clip: rect(1px 1px 1px 1px);clip: rect(1px, 1px, 1px, 1px);height: 1px;margin: -1px;overflow: hidden;padding: 0;position: absolute;width: 1px;}#sk-container-id-3 div.sk-estimator {font-family: monospace;background-color: #f0f8ff;border: 1px dotted black;border-radius: 0.25em;box-sizing: border-box;margin-bottom: 0.5em;}#sk-container-id-3 div.sk-estimator:hover {background-color: #d4ebff;}#sk-container-id-3 div.sk-parallel-item::after {content: \"\";width: 100%;border-bottom: 1px solid gray;flex-grow: 1;}#sk-container-id-3 div.sk-label:hover label.sk-toggleable__label {background-color: #d4ebff;}#sk-container-id-3 div.sk-serial::before {content: \"\";position: absolute;border-left: 1px solid gray;box-sizing: border-box;top: 0;bottom: 0;left: 50%;z-index: 0;}#sk-container-id-3 div.sk-serial {display: flex;flex-direction: column;align-items: center;background-color: white;padding-right: 0.2em;padding-left: 0.2em;position: relative;}#sk-container-id-3 div.sk-item {position: relative;z-index: 1;}#sk-container-id-3 div.sk-parallel {display: flex;align-items: stretch;justify-content: center;background-color: white;position: relative;}#sk-container-id-3 div.sk-item::before, #sk-container-id-3 div.sk-parallel-item::before {content: \"\";position: absolute;border-left: 1px solid gray;box-sizing: border-box;top: 0;bottom: 0;left: 50%;z-index: -1;}#sk-container-id-3 div.sk-parallel-item {display: flex;flex-direction: column;z-index: 1;position: relative;background-color: white;}#sk-container-id-3 div.sk-parallel-item:first-child::after {align-self: flex-end;width: 50%;}#sk-container-id-3 div.sk-parallel-item:last-child::after {align-self: flex-start;width: 50%;}#sk-container-id-3 div.sk-parallel-item:only-child::after {width: 0;}#sk-container-id-3 div.sk-dashed-wrapped {border: 1px dashed gray;margin: 0 0.4em 0.5em 0.4em;box-sizing: border-box;padding-bottom: 0.4em;background-color: white;}#sk-container-id-3 div.sk-label label {font-family: monospace;font-weight: bold;display: inline-block;line-height: 1.2em;}#sk-container-id-3 div.sk-label-container {text-align: center;}#sk-container-id-3 div.sk-container {/* jupyter's `normalize.less` sets `[hidden] { display: none; }` but bootstrap.min.css set `[hidden] { display: none !important; }` so we also need the `!important` here to be able to override the default hidden behavior on the sphinx rendered scikit-learn.org. See: https://github.com/scikit-learn/scikit-learn/issues/21755 */display: inline-block !important;position: relative;}#sk-container-id-3 div.sk-text-repr-fallback {display: none;}</style><div id=\"sk-container-id-3\" class=\"sk-top-container\"><div class=\"sk-text-repr-fallback\"><pre>LogisticRegression(max_iter=1000)</pre><b>In a Jupyter environment, please rerun this cell to show the HTML representation or trust the notebook. <br />On GitHub, the HTML representation is unable to render, please try loading this page with nbviewer.org.</b></div><div class=\"sk-container\" hidden><div class=\"sk-item\"><div class=\"sk-estimator sk-toggleable\"><input class=\"sk-toggleable__control sk-hidden--visually\" id=\"sk-estimator-id-5\" type=\"checkbox\" checked><label for=\"sk-estimator-id-5\" class=\"sk-toggleable__label sk-toggleable__label-arrow\">LogisticRegression</label><div class=\"sk-toggleable__content\"><pre>LogisticRegression(max_iter=1000)</pre></div></div></div></div></div>"
      ],
      "text/plain": [
       "LogisticRegression(max_iter=1000)"
      ]
     },
     "execution_count": 56,
     "metadata": {},
     "output_type": "execute_result"
    }
   ],
   "source": [
    "model = LogisticRegression(max_iter=1000)\n",
    "model.fit(train_df.drop(columns='participant_id'), train_Solutions['ADHD_Outcome'])"
   ]
  },
  {
   "cell_type": "code",
   "execution_count": 57,
   "id": "b19d0958",
   "metadata": {
    "execution": {
     "iopub.execute_input": "2025-02-24T03:56:00.620628Z",
     "iopub.status.busy": "2025-02-24T03:56:00.620228Z",
     "iopub.status.idle": "2025-02-24T03:56:00.694950Z",
     "shell.execute_reply": "2025-02-24T03:56:00.693608Z"
    },
    "id": "lc_x4aikqqWV",
    "papermill": {
     "duration": 0.115135,
     "end_time": "2025-02-24T03:56:00.697230",
     "exception": false,
     "start_time": "2025-02-24T03:56:00.582095",
     "status": "completed"
    },
    "tags": []
   },
   "outputs": [],
   "source": [
    "# Get coefficients for ADHD_Outcome prediction\n",
    "coefficients = pd.Series(model.coef_[0], index=train_df.drop(columns='participant_id').columns)"
   ]
  },
  {
   "cell_type": "code",
   "execution_count": 58,
   "id": "26b4bd14",
   "metadata": {
    "execution": {
     "iopub.execute_input": "2025-02-24T03:56:00.781945Z",
     "iopub.status.busy": "2025-02-24T03:56:00.781544Z",
     "iopub.status.idle": "2025-02-24T03:56:00.793452Z",
     "shell.execute_reply": "2025-02-24T03:56:00.792090Z"
    },
    "id": "ELDgkPC7qrYO",
    "outputId": "82361acb-cb57-4119-c42c-7a4a618948f8",
    "papermill": {
     "duration": 0.059182,
     "end_time": "2025-02-24T03:56:00.795360",
     "exception": false,
     "start_time": "2025-02-24T03:56:00.736178",
     "status": "completed"
    },
    "scrolled": true,
    "tags": []
   },
   "outputs": [
    {
     "name": "stdout",
     "output_type": "stream",
     "text": [
      "Basic_Demos_Enroll_Year_2016     0.812861\n",
      "Barratt_Barratt_P1_Occ_25        0.521969\n",
      "Basic_Demos_Enroll_Year_2018     0.482770\n",
      "SDQ_SDQ_Hyperactivity            0.482708\n",
      "Basic_Demos_Enroll_Year_2017     0.443655\n",
      "MRI_Track_Scan_Location_3        0.436278\n",
      "Barratt_Barratt_P1_Occ_35        0.426499\n",
      "8throw_96thcolumn                0.415064\n",
      "PreInt_Demos_Fam_Child_Race_8    0.408388\n",
      "MRI_Track_Scan_Location_1        0.394675\n",
      "dtype: float64\n"
     ]
    }
   ],
   "source": [
    "# Select top features for ADHD_Outcome prediction\n",
    "top_features = coefficients.abs().nlargest(10)\n",
    "print(top_features)"
   ]
  },
  {
   "cell_type": "code",
   "execution_count": 59,
   "id": "5dfe6310",
   "metadata": {
    "execution": {
     "iopub.execute_input": "2025-02-24T03:56:00.875462Z",
     "iopub.status.busy": "2025-02-24T03:56:00.875059Z",
     "iopub.status.idle": "2025-02-24T03:56:01.184126Z",
     "shell.execute_reply": "2025-02-24T03:56:01.182815Z"
    },
    "id": "t2SY2XZkQRJg",
    "outputId": "45358a8c-505a-4f2e-8ba6-36f5cb1e5cfe",
    "papermill": {
     "duration": 0.350634,
     "end_time": "2025-02-24T03:56:01.186100",
     "exception": false,
     "start_time": "2025-02-24T03:56:00.835466",
     "status": "completed"
    },
    "tags": []
   },
   "outputs": [
    {
     "data": {
      "image/png": "[encoded data removed]",
      "text/plain": [
       "<Figure size 1000x600 with 1 Axes>"
      ]
     },
     "metadata": {},
     "output_type": "display_data"
    }
   ],
   "source": [
    "#Plotting the top 10 coefficents\n",
    "plt.figure(figsize=(10,6))\n",
    "top_features.sort_values().plot(kind='barh', color='skyblue')\n",
    "plt.title('Top 10 Features for ADHD Outcome')\n",
    "plt.ylabel('Features')\n",
    "plt.xlabel('Absolute Coefficient Value')\n",
    "plt.xticks(rotation=45, ha='right')\n",
    "plt.show()"
   ]
  },
  {
   "cell_type": "markdown",
   "id": "b996464c",
   "metadata": {
    "id": "ULBOlcy0qtdz",
    "papermill": {
     "duration": 0.041066,
     "end_time": "2025-02-24T03:56:01.267174",
     "exception": false,
     "start_time": "2025-02-24T03:56:01.226108",
     "status": "completed"
    },
    "tags": []
   },
   "source": [
    "**Using L1 regularization:**\n",
    "- **Use L1 penalty**: Train a logistic regression model with L1 regularization. L1 regularization tends to shrink the coefficients of less important features to zero.\n",
    "- **Select non-zero features:** Choose the features with non-zero coefficients."
   ]
  },
  {
   "cell_type": "markdown",
   "id": "6b44c150",
   "metadata": {
    "id": "Bh1zed8xqv60",
    "papermill": {
     "duration": 0.040095,
     "end_time": "2025-02-24T03:56:01.346696",
     "exception": false,
     "start_time": "2025-02-24T03:56:01.306601",
     "status": "completed"
    },
    "tags": []
   },
   "source": [
    "**We will first use L1 regualarization with Sex as the target.**"
   ]
  },
  {
   "cell_type": "code",
   "execution_count": 60,
   "id": "99869a26",
   "metadata": {
    "execution": {
     "iopub.execute_input": "2025-02-24T03:56:01.426338Z",
     "iopub.status.busy": "2025-02-24T03:56:01.425929Z",
     "iopub.status.idle": "2025-02-24T03:56:06.349185Z",
     "shell.execute_reply": "2025-02-24T03:56:06.347884Z"
    },
    "id": "j7P7IbLHquOx",
    "outputId": "355a8b3c-bf5b-40af-ac4f-2c09403e5a23",
    "papermill": {
     "duration": 4.965417,
     "end_time": "2025-02-24T03:56:06.351220",
     "exception": false,
     "start_time": "2025-02-24T03:56:01.385803",
     "status": "completed"
    },
    "tags": []
   },
   "outputs": [
    {
     "data": {
      "text/html": [
       "<style>#sk-container-id-4 {color: black;background-color: white;}#sk-container-id-4 pre{padding: 0;}#sk-container-id-4 div.sk-toggleable {background-color: white;}#sk-container-id-4 label.sk-toggleable__label {cursor: pointer;display: block;width: 100%;margin-bottom: 0;padding: 0.3em;box-sizing: border-box;text-align: center;}#sk-container-id-4 label.sk-toggleable__label-arrow:before {content: \"▸\";float: left;margin-right: 0.25em;color: #696969;}#sk-container-id-4 label.sk-toggleable__label-arrow:hover:before {color: black;}#sk-container-id-4 div.sk-estimator:hover label.sk-toggleable__label-arrow:before {color: black;}#sk-container-id-4 div.sk-toggleable__content {max-height: 0;max-width: 0;overflow: hidden;text-align: left;background-color: #f0f8ff;}#sk-container-id-4 div.sk-toggleable__content pre {margin: 0.2em;color: black;border-radius: 0.25em;background-color: #f0f8ff;}#sk-container-id-4 input.sk-toggleable__control:checked~div.sk-toggleable__content {max-height: 200px;max-width: 100%;overflow: auto;}#sk-container-id-4 input.sk-toggleable__control:checked~label.sk-toggleable__label-arrow:before {content: \"▾\";}#sk-container-id-4 div.sk-estimator input.sk-toggleable__control:checked~label.sk-toggleable__label {background-color: #d4ebff;}#sk-container-id-4 div.sk-label input.sk-toggleable__control:checked~label.sk-toggleable__label {background-color: #d4ebff;}#sk-container-id-4 input.sk-hidden--visually {border: 0;clip: rect(1px 1px 1px 1px);clip: rect(1px, 1px, 1px, 1px);height: 1px;margin: -1px;overflow: hidden;padding: 0;position: absolute;width: 1px;}#sk-container-id-4 div.sk-estimator {font-family: monospace;background-color: #f0f8ff;border: 1px dotted black;border-radius: 0.25em;box-sizing: border-box;margin-bottom: 0.5em;}#sk-container-id-4 div.sk-estimator:hover {background-color: #d4ebff;}#sk-container-id-4 div.sk-parallel-item::after {content: \"\";width: 100%;border-bottom: 1px solid gray;flex-grow: 1;}#sk-container-id-4 div.sk-label:hover label.sk-toggleable__label {background-color: #d4ebff;}#sk-container-id-4 div.sk-serial::before {content: \"\";position: absolute;border-left: 1px solid gray;box-sizing: border-box;top: 0;bottom: 0;left: 50%;z-index: 0;}#sk-container-id-4 div.sk-serial {display: flex;flex-direction: column;align-items: center;background-color: white;padding-right: 0.2em;padding-left: 0.2em;position: relative;}#sk-container-id-4 div.sk-item {position: relative;z-index: 1;}#sk-container-id-4 div.sk-parallel {display: flex;align-items: stretch;justify-content: center;background-color: white;position: relative;}#sk-container-id-4 div.sk-item::before, #sk-container-id-4 div.sk-parallel-item::before {content: \"\";position: absolute;border-left: 1px solid gray;box-sizing: border-box;top: 0;bottom: 0;left: 50%;z-index: -1;}#sk-container-id-4 div.sk-parallel-item {display: flex;flex-direction: column;z-index: 1;position: relative;background-color: white;}#sk-container-id-4 div.sk-parallel-item:first-child::after {align-self: flex-end;width: 50%;}#sk-container-id-4 div.sk-parallel-item:last-child::after {align-self: flex-start;width: 50%;}#sk-container-id-4 div.sk-parallel-item:only-child::after {width: 0;}#sk-container-id-4 div.sk-dashed-wrapped {border: 1px dashed gray;margin: 0 0.4em 0.5em 0.4em;box-sizing: border-box;padding-bottom: 0.4em;background-color: white;}#sk-container-id-4 div.sk-label label {font-family: monospace;font-weight: bold;display: inline-block;line-height: 1.2em;}#sk-container-id-4 div.sk-label-container {text-align: center;}#sk-container-id-4 div.sk-container {/* jupyter's `normalize.less` sets `[hidden] { display: none; }` but bootstrap.min.css set `[hidden] { display: none !important; }` so we also need the `!important` here to be able to override the default hidden behavior on the sphinx rendered scikit-learn.org. See: https://github.com/scikit-learn/scikit-learn/issues/21755 */display: inline-block !important;position: relative;}#sk-container-id-4 div.sk-text-repr-fallback {display: none;}</style><div id=\"sk-container-id-4\" class=\"sk-top-container\"><div class=\"sk-text-repr-fallback\"><pre>LogisticRegression(penalty=&#x27;l1&#x27;, solver=&#x27;liblinear&#x27;)</pre><b>In a Jupyter environment, please rerun this cell to show the HTML representation or trust the notebook. <br />On GitHub, the HTML representation is unable to render, please try loading this page with nbviewer.org.</b></div><div class=\"sk-container\" hidden><div class=\"sk-item\"><div class=\"sk-estimator sk-toggleable\"><input class=\"sk-toggleable__control sk-hidden--visually\" id=\"sk-estimator-id-6\" type=\"checkbox\" checked><label for=\"sk-estimator-id-6\" class=\"sk-toggleable__label sk-toggleable__label-arrow\">LogisticRegression</label><div class=\"sk-toggleable__content\"><pre>LogisticRegression(penalty=&#x27;l1&#x27;, solver=&#x27;liblinear&#x27;)</pre></div></div></div></div></div>"
      ],
      "text/plain": [
       "LogisticRegression(penalty='l1', solver='liblinear')"
      ]
     },
     "execution_count": 60,
     "metadata": {},
     "output_type": "execute_result"
    }
   ],
   "source": [
    "model = LogisticRegression(penalty='l1', solver='liblinear')\n",
    "model.fit(train_df.drop(columns='participant_id'), train_Solutions['Sex_F'])"
   ]
  },
  {
   "cell_type": "code",
   "execution_count": 61,
   "id": "de0c66a4",
   "metadata": {
    "execution": {
     "iopub.execute_input": "2025-02-24T03:56:06.431511Z",
     "iopub.status.busy": "2025-02-24T03:56:06.431126Z",
     "iopub.status.idle": "2025-02-24T03:56:06.504186Z",
     "shell.execute_reply": "2025-02-24T03:56:06.502836Z"
    },
    "id": "_XCIvVufqyhe",
    "outputId": "2a08f17c-1e51-4fa3-aca4-2d97395dd769",
    "papermill": {
     "duration": 0.115474,
     "end_time": "2025-02-24T03:56:06.506388",
     "exception": false,
     "start_time": "2025-02-24T03:56:06.390914",
     "status": "completed"
    },
    "tags": []
   },
   "outputs": [
    {
     "name": "stdout",
     "output_type": "stream",
     "text": [
      "Index(['PreInt_Demos_Fam_Child_Ethnicity', 'Basic_Demos_Enroll_Year_2017',\n",
      "       'Basic_Demos_Enroll_Year_2019', 'Basic_Demos_Study_Site_3',\n",
      "       'Basic_Demos_Study_Site_4', 'PreInt_Demos_Fam_Child_Race_1',\n",
      "       'PreInt_Demos_Fam_Child_Race_2', 'PreInt_Demos_Fam_Child_Race_9',\n",
      "       'MRI_Track_Scan_Location_1', 'MRI_Track_Scan_Location_3',\n",
      "       ...\n",
      "       'APQ_P_APQ_P_OPD', 'APQ_P_APQ_P_PM', 'APQ_P_APQ_P_PP',\n",
      "       'SDQ_SDQ_Emotional_Problems', 'SDQ_SDQ_Externalizing',\n",
      "       'SDQ_SDQ_Generating_Impact', 'SDQ_SDQ_Hyperactivity',\n",
      "       'SDQ_SDQ_Internalizing', 'SDQ_SDQ_Prosocial', 'MRI_Track_Age_at_Scan'],\n",
      "      dtype='object', length=413)\n"
     ]
    }
   ],
   "source": [
    "selected_features = train_df.drop(columns='participant_id').columns[model.coef_[0] != 0]\n",
    "print(selected_features)"
   ]
  },
  {
   "cell_type": "markdown",
   "id": "b6205e33",
   "metadata": {
    "id": "kB6tCkgqq03_",
    "papermill": {
     "duration": 0.038591,
     "end_time": "2025-02-24T03:56:06.584542",
     "exception": false,
     "start_time": "2025-02-24T03:56:06.545951",
     "status": "completed"
    },
    "tags": []
   },
   "source": [
    "**We will now use L1 regualarization with ADHD_Outcome as the target**"
   ]
  },
  {
   "cell_type": "code",
   "execution_count": 62,
   "id": "cd9e42a4",
   "metadata": {
    "execution": {
     "iopub.execute_input": "2025-02-24T03:56:06.665198Z",
     "iopub.status.busy": "2025-02-24T03:56:06.664848Z",
     "iopub.status.idle": "2025-02-24T03:56:12.240258Z",
     "shell.execute_reply": "2025-02-24T03:56:12.239037Z"
    },
    "id": "OepmrmRqq1c_",
    "outputId": "fdcb0991-1c2d-4065-e088-d7976bad616f",
    "papermill": {
     "duration": 5.618705,
     "end_time": "2025-02-24T03:56:12.242823",
     "exception": false,
     "start_time": "2025-02-24T03:56:06.624118",
     "status": "completed"
    },
    "tags": []
   },
   "outputs": [
    {
     "data": {
      "text/html": [
       "<style>#sk-container-id-5 {color: black;background-color: white;}#sk-container-id-5 pre{padding: 0;}#sk-container-id-5 div.sk-toggleable {background-color: white;}#sk-container-id-5 label.sk-toggleable__label {cursor: pointer;display: block;width: 100%;margin-bottom: 0;padding: 0.3em;box-sizing: border-box;text-align: center;}#sk-container-id-5 label.sk-toggleable__label-arrow:before {content: \"▸\";float: left;margin-right: 0.25em;color: #696969;}#sk-container-id-5 label.sk-toggleable__label-arrow:hover:before {color: black;}#sk-container-id-5 div.sk-estimator:hover label.sk-toggleable__label-arrow:before {color: black;}#sk-container-id-5 div.sk-toggleable__content {max-height: 0;max-width: 0;overflow: hidden;text-align: left;background-color: #f0f8ff;}#sk-container-id-5 div.sk-toggleable__content pre {margin: 0.2em;color: black;border-radius: 0.25em;background-color: #f0f8ff;}#sk-container-id-5 input.sk-toggleable__control:checked~div.sk-toggleable__content {max-height: 200px;max-width: 100%;overflow: auto;}#sk-container-id-5 input.sk-toggleable__control:checked~label.sk-toggleable__label-arrow:before {content: \"▾\";}#sk-container-id-5 div.sk-estimator input.sk-toggleable__control:checked~label.sk-toggleable__label {background-color: #d4ebff;}#sk-container-id-5 div.sk-label input.sk-toggleable__control:checked~label.sk-toggleable__label {background-color: #d4ebff;}#sk-container-id-5 input.sk-hidden--visually {border: 0;clip: rect(1px 1px 1px 1px);clip: rect(1px, 1px, 1px, 1px);height: 1px;margin: -1px;overflow: hidden;padding: 0;position: absolute;width: 1px;}#sk-container-id-5 div.sk-estimator {font-family: monospace;background-color: #f0f8ff;border: 1px dotted black;border-radius: 0.25em;box-sizing: border-box;margin-bottom: 0.5em;}#sk-container-id-5 div.sk-estimator:hover {background-color: #d4ebff;}#sk-container-id-5 div.sk-parallel-item::after {content: \"\";width: 100%;border-bottom: 1px solid gray;flex-grow: 1;}#sk-container-id-5 div.sk-label:hover label.sk-toggleable__label {background-color: #d4ebff;}#sk-container-id-5 div.sk-serial::before {content: \"\";position: absolute;border-left: 1px solid gray;box-sizing: border-box;top: 0;bottom: 0;left: 50%;z-index: 0;}#sk-container-id-5 div.sk-serial {display: flex;flex-direction: column;align-items: center;background-color: white;padding-right: 0.2em;padding-left: 0.2em;position: relative;}#sk-container-id-5 div.sk-item {position: relative;z-index: 1;}#sk-container-id-5 div.sk-parallel {display: flex;align-items: stretch;justify-content: center;background-color: white;position: relative;}#sk-container-id-5 div.sk-item::before, #sk-container-id-5 div.sk-parallel-item::before {content: \"\";position: absolute;border-left: 1px solid gray;box-sizing: border-box;top: 0;bottom: 0;left: 50%;z-index: -1;}#sk-container-id-5 div.sk-parallel-item {display: flex;flex-direction: column;z-index: 1;position: relative;background-color: white;}#sk-container-id-5 div.sk-parallel-item:first-child::after {align-self: flex-end;width: 50%;}#sk-container-id-5 div.sk-parallel-item:last-child::after {align-self: flex-start;width: 50%;}#sk-container-id-5 div.sk-parallel-item:only-child::after {width: 0;}#sk-container-id-5 div.sk-dashed-wrapped {border: 1px dashed gray;margin: 0 0.4em 0.5em 0.4em;box-sizing: border-box;padding-bottom: 0.4em;background-color: white;}#sk-container-id-5 div.sk-label label {font-family: monospace;font-weight: bold;display: inline-block;line-height: 1.2em;}#sk-container-id-5 div.sk-label-container {text-align: center;}#sk-container-id-5 div.sk-container {/* jupyter's `normalize.less` sets `[hidden] { display: none; }` but bootstrap.min.css set `[hidden] { display: none !important; }` so we also need the `!important` here to be able to override the default hidden behavior on the sphinx rendered scikit-learn.org. See: https://github.com/scikit-learn/scikit-learn/issues/21755 */display: inline-block !important;position: relative;}#sk-container-id-5 div.sk-text-repr-fallback {display: none;}</style><div id=\"sk-container-id-5\" class=\"sk-top-container\"><div class=\"sk-text-repr-fallback\"><pre>LogisticRegression(penalty=&#x27;l1&#x27;, solver=&#x27;liblinear&#x27;)</pre><b>In a Jupyter environment, please rerun this cell to show the HTML representation or trust the notebook. <br />On GitHub, the HTML representation is unable to render, please try loading this page with nbviewer.org.</b></div><div class=\"sk-container\" hidden><div class=\"sk-item\"><div class=\"sk-estimator sk-toggleable\"><input class=\"sk-toggleable__control sk-hidden--visually\" id=\"sk-estimator-id-7\" type=\"checkbox\" checked><label for=\"sk-estimator-id-7\" class=\"sk-toggleable__label sk-toggleable__label-arrow\">LogisticRegression</label><div class=\"sk-toggleable__content\"><pre>LogisticRegression(penalty=&#x27;l1&#x27;, solver=&#x27;liblinear&#x27;)</pre></div></div></div></div></div>"
      ],
      "text/plain": [
       "LogisticRegression(penalty='l1', solver='liblinear')"
      ]
     },
     "execution_count": 62,
     "metadata": {},
     "output_type": "execute_result"
    }
   ],
   "source": [
    "model = LogisticRegression(penalty='l1', solver='liblinear')\n",
    "model.fit(train_df.drop(columns='participant_id'), train_Solutions['ADHD_Outcome'])"
   ]
  },
  {
   "cell_type": "code",
   "execution_count": 63,
   "id": "5273dbdf",
   "metadata": {
    "execution": {
     "iopub.execute_input": "2025-02-24T03:56:12.328377Z",
     "iopub.status.busy": "2025-02-24T03:56:12.327972Z",
     "iopub.status.idle": "2025-02-24T03:56:12.400431Z",
     "shell.execute_reply": "2025-02-24T03:56:12.398800Z"
    },
    "id": "oZGDu47Sq2fZ",
    "outputId": "7aeb108d-bfba-4c47-8d99-290ce9dd68be",
    "papermill": {
     "duration": 0.116342,
     "end_time": "2025-02-24T03:56:12.402453",
     "exception": false,
     "start_time": "2025-02-24T03:56:12.286111",
     "status": "completed"
    },
    "tags": []
   },
   "outputs": [
    {
     "name": "stdout",
     "output_type": "stream",
     "text": [
      "Index(['PreInt_Demos_Fam_Child_Ethnicity', 'Basic_Demos_Enroll_Year_2016',\n",
      "       'Basic_Demos_Enroll_Year_2017', 'Basic_Demos_Study_Site_3',\n",
      "       'Basic_Demos_Study_Site_4', 'PreInt_Demos_Fam_Child_Race_1',\n",
      "       'PreInt_Demos_Fam_Child_Race_2', 'PreInt_Demos_Fam_Child_Race_8',\n",
      "       'MRI_Track_Scan_Location_1', 'MRI_Track_Scan_Location_3',\n",
      "       ...\n",
      "       'APQ_P_APQ_P_PM', 'APQ_P_APQ_P_PP', 'SDQ_SDQ_Difficulties_Total',\n",
      "       'SDQ_SDQ_Emotional_Problems', 'SDQ_SDQ_Externalizing',\n",
      "       'SDQ_SDQ_Generating_Impact', 'SDQ_SDQ_Hyperactivity',\n",
      "       'SDQ_SDQ_Peer_Problems', 'SDQ_SDQ_Prosocial', 'MRI_Track_Age_at_Scan'],\n",
      "      dtype='object', length=265)\n"
     ]
    }
   ],
   "source": [
    "selected_features = train_df.drop(columns='participant_id').columns[model.coef_[0] != 0]\n",
    "print(selected_features)"
   ]
  },
  {
   "cell_type": "markdown",
   "id": "0fa188ec",
   "metadata": {
    "id": "dSzKzEMW_8X5",
    "papermill": {
     "duration": 0.03969,
     "end_time": "2025-02-24T03:56:12.482805",
     "exception": false,
     "start_time": "2025-02-24T03:56:12.443115",
     "status": "completed"
    },
    "tags": []
   },
   "source": [
    "## Row Selection and Reduction to Improve the Model"
   ]
  },
  {
   "cell_type": "markdown",
   "id": "0a095098",
   "metadata": {
    "id": "TUZeB_Z3gSKd",
    "papermill": {
     "duration": 0.043347,
     "end_time": "2025-02-24T03:56:12.566425",
     "exception": false,
     "start_time": "2025-02-24T03:56:12.523078",
     "status": "completed"
    },
    "tags": []
   },
   "source": [
    "#### Define Train and Test"
   ]
  },
  {
   "cell_type": "code",
   "execution_count": 64,
   "id": "e58934b5",
   "metadata": {
    "execution": {
     "iopub.execute_input": "2025-02-24T03:56:12.650246Z",
     "iopub.status.busy": "2025-02-24T03:56:12.649793Z",
     "iopub.status.idle": "2025-02-24T03:56:12.655697Z",
     "shell.execute_reply": "2025-02-24T03:56:12.654221Z"
    },
    "id": "a6VP7qdhsmUM",
    "outputId": "c5934573-f8fe-443a-d973-dfcb0a13a5ef",
    "papermill": {
     "duration": 0.050657,
     "end_time": "2025-02-24T03:56:12.658067",
     "exception": false,
     "start_time": "2025-02-24T03:56:12.607410",
     "status": "completed"
    },
    "tags": []
   },
   "outputs": [
    {
     "name": "stdout",
     "output_type": "stream",
     "text": [
      "Index(['participant_id', 'Basic_Demos_Enroll_Year', 'Basic_Demos_Study_Site',\n",
      "       'PreInt_Demos_Fam_Child_Ethnicity', 'PreInt_Demos_Fam_Child_Race',\n",
      "       'MRI_Track_Scan_Location', 'Barratt_Barratt_P1_Edu',\n",
      "       'Barratt_Barratt_P1_Occ', 'Barratt_Barratt_P2_Edu',\n",
      "       'Barratt_Barratt_P2_Occ'],\n",
      "      dtype='object')\n"
     ]
    }
   ],
   "source": [
    "print(train_cat.columns)\n"
   ]
  },
  {
   "cell_type": "code",
   "execution_count": 65,
   "id": "3fa4c728",
   "metadata": {
    "execution": {
     "iopub.execute_input": "2025-02-24T03:56:12.744801Z",
     "iopub.status.busy": "2025-02-24T03:56:12.744443Z",
     "iopub.status.idle": "2025-02-24T03:56:12.754900Z",
     "shell.execute_reply": "2025-02-24T03:56:12.753570Z"
    },
    "id": "S3ruAmJbsmUN",
    "outputId": "c3a43442-d15b-4986-9f4f-097a3fce998a",
    "papermill": {
     "duration": 0.054819,
     "end_time": "2025-02-24T03:56:12.756758",
     "exception": false,
     "start_time": "2025-02-24T03:56:12.701939",
     "status": "completed"
    },
    "tags": []
   },
   "outputs": [
    {
     "name": "stdout",
     "output_type": "stream",
     "text": [
      "Basic_Demos_Enroll_Year    category\n",
      "Basic_Demos_Study_Site     category\n",
      "Barratt_Barratt_P1_Edu     category\n",
      "Barratt_Barratt_P1_Occ     category\n",
      "Barratt_Barratt_P2_Edu     category\n",
      "Barratt_Barratt_P2_Occ     category\n",
      "MRI_Track_Scan_Location    category\n",
      "dtype: object\n",
      "PreInt_Demos_Fam_Child_Ethnicity     float64\n",
      "PreInt_Demos_Fam_Child_Race         category\n",
      "Barratt_Barratt_P1_Edu              category\n",
      "Barratt_Barratt_P1_Occ              category\n",
      "Barratt_Barratt_P2_Edu              category\n",
      "Barratt_Barratt_P2_Occ              category\n",
      "dtype: object\n"
     ]
    }
   ],
   "source": [
    "# Define the feature lists first\n",
    "selected_features_ADHD = [\n",
    "    'Basic_Demos_Enroll_Year',\n",
    "    'Basic_Demos_Study_Site',\n",
    "    'Barratt_Barratt_P1_Edu',\n",
    "    'Barratt_Barratt_P1_Occ',\n",
    "    'Barratt_Barratt_P2_Edu',\n",
    "    'Barratt_Barratt_P2_Occ',\n",
    "    'MRI_Track_Scan_Location'\n",
    "]\n",
    "\n",
    "selected_features_Sex = [\n",
    "    'PreInt_Demos_Fam_Child_Ethnicity',\n",
    "    'PreInt_Demos_Fam_Child_Race',\n",
    "    'Barratt_Barratt_P1_Edu',\n",
    "    'Barratt_Barratt_P1_Occ',\n",
    "    'Barratt_Barratt_P2_Edu',\n",
    "    'Barratt_Barratt_P2_Occ'\n",
    "]\n",
    "\n",
    "\n",
    "print(train_cat[selected_features_ADHD].dtypes)\n",
    "print(train_cat[selected_features_Sex].dtypes)\n"
   ]
  },
  {
   "cell_type": "code",
   "execution_count": 66,
   "id": "0c18551e",
   "metadata": {
    "execution": {
     "iopub.execute_input": "2025-02-24T03:56:12.838082Z",
     "iopub.status.busy": "2025-02-24T03:56:12.837692Z",
     "iopub.status.idle": "2025-02-24T03:56:12.845964Z",
     "shell.execute_reply": "2025-02-24T03:56:12.844620Z"
    },
    "id": "s1Iev2r1smUN",
    "outputId": "9393e1e9-524d-49e7-ea5a-e2b21742eef4",
    "papermill": {
     "duration": 0.050663,
     "end_time": "2025-02-24T03:56:12.847723",
     "exception": false,
     "start_time": "2025-02-24T03:56:12.797060",
     "status": "completed"
    },
    "tags": []
   },
   "outputs": [
    {
     "name": "stdout",
     "output_type": "stream",
     "text": [
      "PreInt_Demos_Fam_Child_Ethnicity    11\n",
      "PreInt_Demos_Fam_Child_Race          0\n",
      "Barratt_Barratt_P1_Edu               0\n",
      "Barratt_Barratt_P1_Occ               0\n",
      "Barratt_Barratt_P2_Edu               0\n",
      "Barratt_Barratt_P2_Occ               0\n",
      "dtype: int64\n"
     ]
    }
   ],
   "source": [
    "print(train_cat[selected_features_Sex].isnull().sum())\n"
   ]
  },
  {
   "cell_type": "code",
   "execution_count": 67,
   "id": "8acd90fa",
   "metadata": {
    "execution": {
     "iopub.execute_input": "2025-02-24T03:56:12.930113Z",
     "iopub.status.busy": "2025-02-24T03:56:12.929744Z",
     "iopub.status.idle": "2025-02-24T03:56:12.937836Z",
     "shell.execute_reply": "2025-02-24T03:56:12.936752Z"
    },
    "id": "K54oAGrWsmUN",
    "papermill": {
     "duration": 0.05069,
     "end_time": "2025-02-24T03:56:12.939793",
     "exception": false,
     "start_time": "2025-02-24T03:56:12.889103",
     "status": "completed"
    },
    "tags": []
   },
   "outputs": [],
   "source": [
    "#drop rows with missing values\n",
    "train_cat = train_cat.dropna(subset=selected_features_Sex)\n",
    "train_Solutions = train_Solutions.loc[train_cat.index]  # Ensure labels align\n"
   ]
  },
  {
   "cell_type": "code",
   "execution_count": 68,
   "id": "e760ac01",
   "metadata": {
    "execution": {
     "iopub.execute_input": "2025-02-24T03:56:13.022567Z",
     "iopub.status.busy": "2025-02-24T03:56:13.022157Z",
     "iopub.status.idle": "2025-02-24T03:56:13.040345Z",
     "shell.execute_reply": "2025-02-24T03:56:13.038630Z"
    },
    "id": "_CihgzgYsmUN",
    "papermill": {
     "duration": 0.062582,
     "end_time": "2025-02-24T03:56:13.042680",
     "exception": false,
     "start_time": "2025-02-24T03:56:12.980098",
     "status": "completed"
    },
    "tags": []
   },
   "outputs": [],
   "source": [
    "from sklearn.preprocessing import OneHotEncoder\n",
    "\n",
    "encoder = OneHotEncoder(handle_unknown=\"ignore\", sparse_output=False)\n",
    "train_encoded = encoder.fit_transform(train_cat[selected_features_Sex])\n"
   ]
  },
  {
   "cell_type": "code",
   "execution_count": 69,
   "id": "49ed6f74",
   "metadata": {
    "execution": {
     "iopub.execute_input": "2025-02-24T03:56:13.126339Z",
     "iopub.status.busy": "2025-02-24T03:56:13.125940Z",
     "iopub.status.idle": "2025-02-24T03:56:13.156459Z",
     "shell.execute_reply": "2025-02-24T03:56:13.155413Z"
    },
    "id": "179p1WdrsmUN",
    "outputId": "69d92314-926b-451d-97e3-27ced84df833",
    "papermill": {
     "duration": 0.074706,
     "end_time": "2025-02-24T03:56:13.158396",
     "exception": false,
     "start_time": "2025-02-24T03:56:13.083690",
     "status": "completed"
    },
    "tags": []
   },
   "outputs": [
    {
     "name": "stdout",
     "output_type": "stream",
     "text": [
      "Barratt_Barratt_P1_Edu              0.023988\n",
      "Barratt_Barratt_P2_Edu              0.016793\n",
      "Barratt_Barratt_P1_Occ              0.005258\n",
      "PreInt_Demos_Fam_Child_Race        -0.003377\n",
      "Barratt_Barratt_P2_Occ             -0.015257\n",
      "PreInt_Demos_Fam_Child_Ethnicity   -0.034933\n",
      "dtype: float64\n"
     ]
    }
   ],
   "source": [
    "model = LogisticRegression(max_iter=1000)\n",
    "model.fit(train_cat[selected_features_Sex], train_Solutions['Sex_F'])\n",
    "\n",
    "print(pd.Series(model.coef_[0], index=selected_features_Sex).sort_values(ascending=False))\n"
   ]
  },
  {
   "cell_type": "code",
   "execution_count": 70,
   "id": "c5c08635",
   "metadata": {
    "execution": {
     "iopub.execute_input": "2025-02-24T03:56:13.241742Z",
     "iopub.status.busy": "2025-02-24T03:56:13.241366Z",
     "iopub.status.idle": "2025-02-24T03:56:13.246054Z",
     "shell.execute_reply": "2025-02-24T03:56:13.244800Z"
    },
    "id": "UCv7_S4rjvBb",
    "papermill": {
     "duration": 0.048264,
     "end_time": "2025-02-24T03:56:13.248005",
     "exception": false,
     "start_time": "2025-02-24T03:56:13.199741",
     "status": "completed"
    },
    "tags": []
   },
   "outputs": [],
   "source": [
    "# Step 1: Find common features between ADHD and Sex selected features\n",
    "common_features = list(set(selected_features_ADHD) & set(selected_features_Sex))\n"
   ]
  },
  {
   "cell_type": "code",
   "execution_count": 71,
   "id": "e9c09248",
   "metadata": {
    "execution": {
     "iopub.execute_input": "2025-02-24T03:56:13.332326Z",
     "iopub.status.busy": "2025-02-24T03:56:13.331946Z",
     "iopub.status.idle": "2025-02-24T03:56:13.338964Z",
     "shell.execute_reply": "2025-02-24T03:56:13.337605Z"
    },
    "id": "q4MKwoB1smUN",
    "outputId": "ea026cc8-6e74-49b6-8f4c-714ba3c23b22",
    "papermill": {
     "duration": 0.051599,
     "end_time": "2025-02-24T03:56:13.340968",
     "exception": false,
     "start_time": "2025-02-24T03:56:13.289369",
     "status": "completed"
    },
    "tags": []
   },
   "outputs": [
    {
     "name": "stdout",
     "output_type": "stream",
     "text": [
      "Columns in X_train: Index(['PreInt_Demos_Fam_Child_Ethnicity', 'Basic_Demos_Enroll_Year_2016',\n",
      "       'Basic_Demos_Enroll_Year_2017', 'Basic_Demos_Enroll_Year_2018',\n",
      "       'Basic_Demos_Enroll_Year_2019', 'Basic_Demos_Enroll_Year_2020',\n",
      "       'Basic_Demos_Study_Site_2', 'Basic_Demos_Study_Site_3',\n",
      "       'Basic_Demos_Study_Site_4', 'PreInt_Demos_Fam_Child_Race_1',\n",
      "       ...\n",
      "       'SDQ_SDQ_Conduct_Problems', 'SDQ_SDQ_Difficulties_Total',\n",
      "       'SDQ_SDQ_Emotional_Problems', 'SDQ_SDQ_Externalizing',\n",
      "       'SDQ_SDQ_Generating_Impact', 'SDQ_SDQ_Hyperactivity',\n",
      "       'SDQ_SDQ_Internalizing', 'SDQ_SDQ_Peer_Problems', 'SDQ_SDQ_Prosocial',\n",
      "       'MRI_Track_Age_at_Scan'],\n",
      "      dtype='object', length=19972)\n",
      "Common Features: ['Barratt_Barratt_P1_Edu', 'Barratt_Barratt_P2_Edu', 'Barratt_Barratt_P2_Occ', 'Barratt_Barratt_P1_Occ']\n"
     ]
    }
   ],
   "source": [
    "#TESTING\n",
    "print(\"Columns in X_train:\", X_train.columns)\n",
    "print(\"Common Features:\", common_features)\n"
   ]
  },
  {
   "cell_type": "code",
   "execution_count": 72,
   "id": "d8f94eec",
   "metadata": {
    "execution": {
     "iopub.execute_input": "2025-02-24T03:56:13.427193Z",
     "iopub.status.busy": "2025-02-24T03:56:13.426792Z",
     "iopub.status.idle": "2025-02-24T03:56:13.433094Z",
     "shell.execute_reply": "2025-02-24T03:56:13.431535Z"
    },
    "id": "DjkKBjmvsmUN",
    "outputId": "ef22ffa8-dc5e-4e94-cd36-f99cd7fa0769",
    "papermill": {
     "duration": 0.051583,
     "end_time": "2025-02-24T03:56:13.435118",
     "exception": false,
     "start_time": "2025-02-24T03:56:13.383535",
     "status": "completed"
    },
    "tags": []
   },
   "outputs": [
    {
     "name": "stdout",
     "output_type": "stream",
     "text": [
      "Missing Features: ['Barratt_Barratt_P1_Edu', 'Barratt_Barratt_P2_Edu', 'Barratt_Barratt_P2_Occ', 'Barratt_Barratt_P1_Occ']\n"
     ]
    }
   ],
   "source": [
    "#Trying to fix error\n",
    "missing_features = [feature for feature in common_features if feature not in X_train.columns]\n",
    "print(\"Missing Features:\", missing_features)\n"
   ]
  },
  {
   "cell_type": "code",
   "execution_count": 73,
   "id": "11d4852e",
   "metadata": {
    "execution": {
     "iopub.execute_input": "2025-02-24T03:56:13.516585Z",
     "iopub.status.busy": "2025-02-24T03:56:13.516186Z",
     "iopub.status.idle": "2025-02-24T03:56:13.532071Z",
     "shell.execute_reply": "2025-02-24T03:56:13.530629Z"
    },
    "id": "3h-I98E2smUN",
    "outputId": "d1fc7298-da52-4646-dcba-63b5bfe1416a",
    "papermill": {
     "duration": 0.058805,
     "end_time": "2025-02-24T03:56:13.534235",
     "exception": false,
     "start_time": "2025-02-24T03:56:13.475430",
     "status": "completed"
    },
    "tags": []
   },
   "outputs": [
    {
     "name": "stdout",
     "output_type": "stream",
     "text": [
      "Feature: Barratt_Barratt_P1_Edu - Similar Columns: ['Barratt_Barratt_P1_Edu_3', 'Barratt_Barratt_P1_Edu_6', 'Barratt_Barratt_P1_Edu_9', 'Barratt_Barratt_P1_Edu_12', 'Barratt_Barratt_P1_Edu_15', 'Barratt_Barratt_P1_Edu_18', 'Barratt_Barratt_P1_Edu_21']\n",
      "Feature: Barratt_Barratt_P2_Edu - Similar Columns: ['Barratt_Barratt_P2_Edu_3', 'Barratt_Barratt_P2_Edu_6', 'Barratt_Barratt_P2_Edu_9', 'Barratt_Barratt_P2_Edu_12', 'Barratt_Barratt_P2_Edu_15', 'Barratt_Barratt_P2_Edu_18', 'Barratt_Barratt_P2_Edu_21']\n",
      "Feature: Barratt_Barratt_P2_Occ - Similar Columns: ['Barratt_Barratt_P2_Occ_5', 'Barratt_Barratt_P2_Occ_10', 'Barratt_Barratt_P2_Occ_15', 'Barratt_Barratt_P2_Occ_20', 'Barratt_Barratt_P2_Occ_25', 'Barratt_Barratt_P2_Occ_30', 'Barratt_Barratt_P2_Occ_35', 'Barratt_Barratt_P2_Occ_40', 'Barratt_Barratt_P2_Occ_45']\n",
      "Feature: Barratt_Barratt_P1_Occ - Similar Columns: ['Barratt_Barratt_P1_Occ_5', 'Barratt_Barratt_P1_Occ_10', 'Barratt_Barratt_P1_Occ_15', 'Barratt_Barratt_P1_Occ_20', 'Barratt_Barratt_P1_Occ_25', 'Barratt_Barratt_P1_Occ_30', 'Barratt_Barratt_P1_Occ_35', 'Barratt_Barratt_P1_Occ_40', 'Barratt_Barratt_P1_Occ_45']\n"
     ]
    }
   ],
   "source": [
    "for feature in common_features:\n",
    "    similar_cols = [col for col in X_train.columns if feature in col]\n",
    "    print(f\"Feature: {feature} - Similar Columns: {similar_cols}\")\n"
   ]
  },
  {
   "cell_type": "code",
   "execution_count": 74,
   "id": "01c23157",
   "metadata": {
    "execution": {
     "iopub.execute_input": "2025-02-24T03:56:13.616726Z",
     "iopub.status.busy": "2025-02-24T03:56:13.616212Z",
     "iopub.status.idle": "2025-02-24T03:56:13.624587Z",
     "shell.execute_reply": "2025-02-24T03:56:13.623128Z"
    },
    "id": "KwOCjEhtsmUN",
    "papermill": {
     "duration": 0.051814,
     "end_time": "2025-02-24T03:56:13.626617",
     "exception": false,
     "start_time": "2025-02-24T03:56:13.574803",
     "status": "completed"
    },
    "tags": []
   },
   "outputs": [],
   "source": [
    "valid_common_features = [feature for feature in common_features if feature in X_train.columns]\n",
    "X_train_2 = X_train[valid_common_features]\n",
    "X_test_2 = X_test[valid_common_features]\n"
   ]
  },
  {
   "cell_type": "code",
   "execution_count": 75,
   "id": "f5155130",
   "metadata": {
    "execution": {
     "iopub.execute_input": "2025-02-24T03:56:13.709564Z",
     "iopub.status.busy": "2025-02-24T03:56:13.709143Z",
     "iopub.status.idle": "2025-02-24T03:56:13.737622Z",
     "shell.execute_reply": "2025-02-24T03:56:13.735912Z"
    },
    "id": "OkR4qm1NsmUN",
    "outputId": "4a3bb447-221b-4f1a-80d1-e0db8a98d573",
    "papermill": {
     "duration": 0.073059,
     "end_time": "2025-02-24T03:56:13.739978",
     "exception": false,
     "start_time": "2025-02-24T03:56:13.666919",
     "status": "completed"
    },
    "tags": []
   },
   "outputs": [
    {
     "name": "stdout",
     "output_type": "stream",
     "text": [
      "Final Selected Features: ['Barratt_Barratt_P1_Edu_3', 'Barratt_Barratt_P1_Edu_6', 'Barratt_Barratt_P1_Edu_9', 'Barratt_Barratt_P1_Edu_12', 'Barratt_Barratt_P1_Edu_15', 'Barratt_Barratt_P1_Edu_18', 'Barratt_Barratt_P1_Edu_21', 'Barratt_Barratt_P2_Edu_3', 'Barratt_Barratt_P2_Edu_6', 'Barratt_Barratt_P2_Edu_9', 'Barratt_Barratt_P2_Edu_12', 'Barratt_Barratt_P2_Edu_15', 'Barratt_Barratt_P2_Edu_18', 'Barratt_Barratt_P2_Edu_21', 'Barratt_Barratt_P2_Occ_5', 'Barratt_Barratt_P2_Occ_10', 'Barratt_Barratt_P2_Occ_15', 'Barratt_Barratt_P2_Occ_20', 'Barratt_Barratt_P2_Occ_25', 'Barratt_Barratt_P2_Occ_30', 'Barratt_Barratt_P2_Occ_35', 'Barratt_Barratt_P2_Occ_40', 'Barratt_Barratt_P2_Occ_45', 'Barratt_Barratt_P1_Occ_5', 'Barratt_Barratt_P1_Occ_10', 'Barratt_Barratt_P1_Occ_15', 'Barratt_Barratt_P1_Occ_20', 'Barratt_Barratt_P1_Occ_25', 'Barratt_Barratt_P1_Occ_30', 'Barratt_Barratt_P1_Occ_35', 'Barratt_Barratt_P1_Occ_40', 'Barratt_Barratt_P1_Occ_45']\n"
     ]
    }
   ],
   "source": [
    "# Find all matching encoded columns\n",
    "expanded_common_features = []\n",
    "for feature in common_features:\n",
    "    matching_cols = [col for col in X_train.columns if col.startswith(feature)]\n",
    "    expanded_common_features.extend(matching_cols)\n",
    "\n",
    "# Use these columns instead\n",
    "X_train_2 = X_train[expanded_common_features]\n",
    "X_test_2 = X_test[expanded_common_features]\n",
    "\n",
    "print(\"Final Selected Features:\", expanded_common_features)\n"
   ]
  },
  {
   "cell_type": "code",
   "execution_count": 76,
   "id": "b5f3adbc",
   "metadata": {
    "execution": {
     "iopub.execute_input": "2025-02-24T03:56:13.826051Z",
     "iopub.status.busy": "2025-02-24T03:56:13.825618Z",
     "iopub.status.idle": "2025-02-24T03:56:13.847486Z",
     "shell.execute_reply": "2025-02-24T03:56:13.846383Z"
    },
    "id": "jzLmrBWwsmUN",
    "papermill": {
     "duration": 0.065331,
     "end_time": "2025-02-24T03:56:13.849587",
     "exception": false,
     "start_time": "2025-02-24T03:56:13.784256",
     "status": "completed"
    },
    "tags": []
   },
   "outputs": [],
   "source": [
    "expanded_common_features = []\n",
    "for feature in common_features:\n",
    "    matching_cols = [col for col in X_train.columns if col.startswith(feature)]\n",
    "    expanded_common_features.extend(matching_cols)\n"
   ]
  },
  {
   "cell_type": "code",
   "execution_count": 77,
   "id": "c6abd449",
   "metadata": {
    "execution": {
     "iopub.execute_input": "2025-02-24T03:56:13.931585Z",
     "iopub.status.busy": "2025-02-24T03:56:13.931169Z",
     "iopub.status.idle": "2025-02-24T03:56:13.937596Z",
     "shell.execute_reply": "2025-02-24T03:56:13.936505Z"
    },
    "id": "8O-Oqxj1gXIM",
    "papermill": {
     "duration": 0.049785,
     "end_time": "2025-02-24T03:56:13.939493",
     "exception": false,
     "start_time": "2025-02-24T03:56:13.889708",
     "status": "completed"
    },
    "tags": []
   },
   "outputs": [],
   "source": [
    "#X_train_2 = X_train[common_features]\n",
    "#X_test_2 = X_test[common_features]\n",
    "\n",
    "X_train_2 = X_train[expanded_common_features]\n",
    "X_test_2 = X_test[expanded_common_features]\n"
   ]
  },
  {
   "cell_type": "markdown",
   "id": "2f4aaa91",
   "metadata": {
    "id": "FYCUr3O_gSqd",
    "papermill": {
     "duration": 0.042571,
     "end_time": "2025-02-24T03:56:14.022369",
     "exception": false,
     "start_time": "2025-02-24T03:56:13.979798",
     "status": "completed"
    },
    "tags": []
   },
   "source": [
    "#### Fit and Test the Model"
   ]
  },
  {
   "cell_type": "code",
   "execution_count": 78,
   "id": "a2a19bb9",
   "metadata": {
    "execution": {
     "iopub.execute_input": "2025-02-24T03:56:14.107123Z",
     "iopub.status.busy": "2025-02-24T03:56:14.106683Z",
     "iopub.status.idle": "2025-02-24T03:56:14.111231Z",
     "shell.execute_reply": "2025-02-24T03:56:14.110257Z"
    },
    "id": "E7bKC8XegaQK",
    "papermill": {
     "duration": 0.048118,
     "end_time": "2025-02-24T03:56:14.113107",
     "exception": false,
     "start_time": "2025-02-24T03:56:14.064989",
     "status": "completed"
    },
    "tags": []
   },
   "outputs": [],
   "source": [
    "# Initialize the base classifier\n",
    "xgb_classifier = XGBClassifier(objective='binary:logistic', n_estimators=100, learning_rate=0.1, max_depth=5)"
   ]
  },
  {
   "cell_type": "code",
   "execution_count": 79,
   "id": "7bde3b81",
   "metadata": {
    "execution": {
     "iopub.execute_input": "2025-02-24T03:56:14.195334Z",
     "iopub.status.busy": "2025-02-24T03:56:14.194888Z",
     "iopub.status.idle": "2025-02-24T03:56:14.199572Z",
     "shell.execute_reply": "2025-02-24T03:56:14.198256Z"
    },
    "id": "LVwTT-X-gcq1",
    "papermill": {
     "duration": 0.048311,
     "end_time": "2025-02-24T03:56:14.201433",
     "exception": false,
     "start_time": "2025-02-24T03:56:14.153122",
     "status": "completed"
    },
    "tags": []
   },
   "outputs": [],
   "source": [
    "# Wrap with MultiOutputClassifier for multi-target classification\n",
    "multioutput_classifier = MultiOutputClassifier(xgb_classifier)"
   ]
  },
  {
   "cell_type": "code",
   "execution_count": 80,
   "id": "a04122ca",
   "metadata": {
    "execution": {
     "iopub.execute_input": "2025-02-24T03:56:14.284186Z",
     "iopub.status.busy": "2025-02-24T03:56:14.283782Z",
     "iopub.status.idle": "2025-02-24T03:56:14.436783Z",
     "shell.execute_reply": "2025-02-24T03:56:14.434147Z"
    },
    "id": "72_AW7bOgd3-",
    "outputId": "9d815318-90ff-432f-d9db-fa2f365d5942",
    "papermill": {
     "duration": 0.197318,
     "end_time": "2025-02-24T03:56:14.438923",
     "exception": false,
     "start_time": "2025-02-24T03:56:14.241605",
     "status": "completed"
    },
    "tags": []
   },
   "outputs": [
    {
     "data": {
      "text/html": [
       "<style>#sk-container-id-6 {color: black;background-color: white;}#sk-container-id-6 pre{padding: 0;}#sk-container-id-6 div.sk-toggleable {background-color: white;}#sk-container-id-6 label.sk-toggleable__label {cursor: pointer;display: block;width: 100%;margin-bottom: 0;padding: 0.3em;box-sizing: border-box;text-align: center;}#sk-container-id-6 label.sk-toggleable__label-arrow:before {content: \"▸\";float: left;margin-right: 0.25em;color: #696969;}#sk-container-id-6 label.sk-toggleable__label-arrow:hover:before {color: black;}#sk-container-id-6 div.sk-estimator:hover label.sk-toggleable__label-arrow:before {color: black;}#sk-container-id-6 div.sk-toggleable__content {max-height: 0;max-width: 0;overflow: hidden;text-align: left;background-color: #f0f8ff;}#sk-container-id-6 div.sk-toggleable__content pre {margin: 0.2em;color: black;border-radius: 0.25em;background-color: #f0f8ff;}#sk-container-id-6 input.sk-toggleable__control:checked~div.sk-toggleable__content {max-height: 200px;max-width: 100%;overflow: auto;}#sk-container-id-6 input.sk-toggleable__control:checked~label.sk-toggleable__label-arrow:before {content: \"▾\";}#sk-container-id-6 div.sk-estimator input.sk-toggleable__control:checked~label.sk-toggleable__label {background-color: #d4ebff;}#sk-container-id-6 div.sk-label input.sk-toggleable__control:checked~label.sk-toggleable__label {background-color: #d4ebff;}#sk-container-id-6 input.sk-hidden--visually {border: 0;clip: rect(1px 1px 1px 1px);clip: rect(1px, 1px, 1px, 1px);height: 1px;margin: -1px;overflow: hidden;padding: 0;position: absolute;width: 1px;}#sk-container-id-6 div.sk-estimator {font-family: monospace;background-color: #f0f8ff;border: 1px dotted black;border-radius: 0.25em;box-sizing: border-box;margin-bottom: 0.5em;}#sk-container-id-6 div.sk-estimator:hover {background-color: #d4ebff;}#sk-container-id-6 div.sk-parallel-item::after {content: \"\";width: 100%;border-bottom: 1px solid gray;flex-grow: 1;}#sk-container-id-6 div.sk-label:hover label.sk-toggleable__label {background-color: #d4ebff;}#sk-container-id-6 div.sk-serial::before {content: \"\";position: absolute;border-left: 1px solid gray;box-sizing: border-box;top: 0;bottom: 0;left: 50%;z-index: 0;}#sk-container-id-6 div.sk-serial {display: flex;flex-direction: column;align-items: center;background-color: white;padding-right: 0.2em;padding-left: 0.2em;position: relative;}#sk-container-id-6 div.sk-item {position: relative;z-index: 1;}#sk-container-id-6 div.sk-parallel {display: flex;align-items: stretch;justify-content: center;background-color: white;position: relative;}#sk-container-id-6 div.sk-item::before, #sk-container-id-6 div.sk-parallel-item::before {content: \"\";position: absolute;border-left: 1px solid gray;box-sizing: border-box;top: 0;bottom: 0;left: 50%;z-index: -1;}#sk-container-id-6 div.sk-parallel-item {display: flex;flex-direction: column;z-index: 1;position: relative;background-color: white;}#sk-container-id-6 div.sk-parallel-item:first-child::after {align-self: flex-end;width: 50%;}#sk-container-id-6 div.sk-parallel-item:last-child::after {align-self: flex-start;width: 50%;}#sk-container-id-6 div.sk-parallel-item:only-child::after {width: 0;}#sk-container-id-6 div.sk-dashed-wrapped {border: 1px dashed gray;margin: 0 0.4em 0.5em 0.4em;box-sizing: border-box;padding-bottom: 0.4em;background-color: white;}#sk-container-id-6 div.sk-label label {font-family: monospace;font-weight: bold;display: inline-block;line-height: 1.2em;}#sk-container-id-6 div.sk-label-container {text-align: center;}#sk-container-id-6 div.sk-container {/* jupyter's `normalize.less` sets `[hidden] { display: none; }` but bootstrap.min.css set `[hidden] { display: none !important; }` so we also need the `!important` here to be able to override the default hidden behavior on the sphinx rendered scikit-learn.org. See: https://github.com/scikit-learn/scikit-learn/issues/21755 */display: inline-block !important;position: relative;}#sk-container-id-6 div.sk-text-repr-fallback {display: none;}</style><div id=\"sk-container-id-6\" class=\"sk-top-container\"><div class=\"sk-text-repr-fallback\"><pre>MultiOutputClassifier(estimator=XGBClassifier(base_score=None, booster=None,\n",
       "                                              callbacks=None,\n",
       "                                              colsample_bylevel=None,\n",
       "                                              colsample_bynode=None,\n",
       "                                              colsample_bytree=None,\n",
       "                                              device=None,\n",
       "                                              early_stopping_rounds=None,\n",
       "                                              enable_categorical=False,\n",
       "                                              eval_metric=None,\n",
       "                                              feature_types=None, gamma=None,\n",
       "                                              grow_policy=None,\n",
       "                                              importance_type=None,\n",
       "                                              interaction_constraints=None,\n",
       "                                              learning_rate=0.1, max_bin=None,\n",
       "                                              max_cat_threshold=None,\n",
       "                                              max_cat_to_onehot=None,\n",
       "                                              max_delta_step=None, max_depth=5,\n",
       "                                              max_leaves=None,\n",
       "                                              min_child_weight=None,\n",
       "                                              missing=nan,\n",
       "                                              monotone_constraints=None,\n",
       "                                              multi_strategy=None,\n",
       "                                              n_estimators=100, n_jobs=None,\n",
       "                                              num_parallel_tree=None,\n",
       "                                              random_state=None, ...))</pre><b>In a Jupyter environment, please rerun this cell to show the HTML representation or trust the notebook. <br />On GitHub, the HTML representation is unable to render, please try loading this page with nbviewer.org.</b></div><div class=\"sk-container\" hidden><div class=\"sk-item sk-dashed-wrapped\"><div class=\"sk-label-container\"><div class=\"sk-label sk-toggleable\"><input class=\"sk-toggleable__control sk-hidden--visually\" id=\"sk-estimator-id-8\" type=\"checkbox\" ><label for=\"sk-estimator-id-8\" class=\"sk-toggleable__label sk-toggleable__label-arrow\">MultiOutputClassifier</label><div class=\"sk-toggleable__content\"><pre>MultiOutputClassifier(estimator=XGBClassifier(base_score=None, booster=None,\n",
       "                                              callbacks=None,\n",
       "                                              colsample_bylevel=None,\n",
       "                                              colsample_bynode=None,\n",
       "                                              colsample_bytree=None,\n",
       "                                              device=None,\n",
       "                                              early_stopping_rounds=None,\n",
       "                                              enable_categorical=False,\n",
       "                                              eval_metric=None,\n",
       "                                              feature_types=None, gamma=None,\n",
       "                                              grow_policy=None,\n",
       "                                              importance_type=None,\n",
       "                                              interaction_constraints=None,\n",
       "                                              learning_rate=0.1, max_bin=None,\n",
       "                                              max_cat_threshold=None,\n",
       "                                              max_cat_to_onehot=None,\n",
       "                                              max_delta_step=None, max_depth=5,\n",
       "                                              max_leaves=None,\n",
       "                                              min_child_weight=None,\n",
       "                                              missing=nan,\n",
       "                                              monotone_constraints=None,\n",
       "                                              multi_strategy=None,\n",
       "                                              n_estimators=100, n_jobs=None,\n",
       "                                              num_parallel_tree=None,\n",
       "                                              random_state=None, ...))</pre></div></div></div><div class=\"sk-parallel\"><div class=\"sk-parallel-item\"><div class=\"sk-item\"><div class=\"sk-label-container\"><div class=\"sk-label sk-toggleable\"><input class=\"sk-toggleable__control sk-hidden--visually\" id=\"sk-estimator-id-9\" type=\"checkbox\" ><label for=\"sk-estimator-id-9\" class=\"sk-toggleable__label sk-toggleable__label-arrow\">estimator: XGBClassifier</label><div class=\"sk-toggleable__content\"><pre>XGBClassifier(base_score=None, booster=None, callbacks=None,\n",
       "              colsample_bylevel=None, colsample_bynode=None,\n",
       "              colsample_bytree=None, device=None, early_stopping_rounds=None,\n",
       "              enable_categorical=False, eval_metric=None, feature_types=None,\n",
       "              gamma=None, grow_policy=None, importance_type=None,\n",
       "              interaction_constraints=None, learning_rate=0.1, max_bin=None,\n",
       "              max_cat_threshold=None, max_cat_to_onehot=None,\n",
       "              max_delta_step=None, max_depth=5, max_leaves=None,\n",
       "              min_child_weight=None, missing=nan, monotone_constraints=None,\n",
       "              multi_strategy=None, n_estimators=100, n_jobs=None,\n",
       "              num_parallel_tree=None, random_state=None, ...)</pre></div></div></div><div class=\"sk-serial\"><div class=\"sk-item\"><div class=\"sk-estimator sk-toggleable\"><input class=\"sk-toggleable__control sk-hidden--visually\" id=\"sk-estimator-id-10\" type=\"checkbox\" ><label for=\"sk-estimator-id-10\" class=\"sk-toggleable__label sk-toggleable__label-arrow\">XGBClassifier</label><div class=\"sk-toggleable__content\"><pre>XGBClassifier(base_score=None, booster=None, callbacks=None,\n",
       "              colsample_bylevel=None, colsample_bynode=None,\n",
       "              colsample_bytree=None, device=None, early_stopping_rounds=None,\n",
       "              enable_categorical=False, eval_metric=None, feature_types=None,\n",
       "              gamma=None, grow_policy=None, importance_type=None,\n",
       "              interaction_constraints=None, learning_rate=0.1, max_bin=None,\n",
       "              max_cat_threshold=None, max_cat_to_onehot=None,\n",
       "              max_delta_step=None, max_depth=5, max_leaves=None,\n",
       "              min_child_weight=None, missing=nan, monotone_constraints=None,\n",
       "              multi_strategy=None, n_estimators=100, n_jobs=None,\n",
       "              num_parallel_tree=None, random_state=None, ...)</pre></div></div></div></div></div></div></div></div></div></div>"
      ],
      "text/plain": [
       "MultiOutputClassifier(estimator=XGBClassifier(base_score=None, booster=None,\n",
       "                                              callbacks=None,\n",
       "                                              colsample_bylevel=None,\n",
       "                                              colsample_bynode=None,\n",
       "                                              colsample_bytree=None,\n",
       "                                              device=None,\n",
       "                                              early_stopping_rounds=None,\n",
       "                                              enable_categorical=False,\n",
       "                                              eval_metric=None,\n",
       "                                              feature_types=None, gamma=None,\n",
       "                                              grow_policy=None,\n",
       "                                              importance_type=None,\n",
       "                                              interaction_constraints=None,\n",
       "                                              learning_rate=0.1, max_bin=None,\n",
       "                                              max_cat_threshold=None,\n",
       "                                              max_cat_to_onehot=None,\n",
       "                                              max_delta_step=None, max_depth=5,\n",
       "                                              max_leaves=None,\n",
       "                                              min_child_weight=None,\n",
       "                                              missing=nan,\n",
       "                                              monotone_constraints=None,\n",
       "                                              multi_strategy=None,\n",
       "                                              n_estimators=100, n_jobs=None,\n",
       "                                              num_parallel_tree=None,\n",
       "                                              random_state=None, ...))"
      ]
     },
     "execution_count": 80,
     "metadata": {},
     "output_type": "execute_result"
    }
   ],
   "source": [
    "# Train the model\n",
    "multioutput_classifier.fit(X_train_2, Y_train)"
   ]
  },
  {
   "cell_type": "code",
   "execution_count": 81,
   "id": "cdc241bb",
   "metadata": {
    "execution": {
     "iopub.execute_input": "2025-02-24T03:56:14.522712Z",
     "iopub.status.busy": "2025-02-24T03:56:14.522266Z",
     "iopub.status.idle": "2025-02-24T03:56:14.540159Z",
     "shell.execute_reply": "2025-02-24T03:56:14.539202Z"
    },
    "id": "9BFqedqdggSF",
    "papermill": {
     "duration": 0.061747,
     "end_time": "2025-02-24T03:56:14.542263",
     "exception": false,
     "start_time": "2025-02-24T03:56:14.480516",
     "status": "completed"
    },
    "tags": []
   },
   "outputs": [],
   "source": [
    "y_pred_2 = multioutput_classifier.predict(X_test_2)"
   ]
  },
  {
   "cell_type": "code",
   "execution_count": 82,
   "id": "7e834226",
   "metadata": {
    "execution": {
     "iopub.execute_input": "2025-02-24T03:56:14.630404Z",
     "iopub.status.busy": "2025-02-24T03:56:14.629985Z",
     "iopub.status.idle": "2025-02-24T03:56:14.641568Z",
     "shell.execute_reply": "2025-02-24T03:56:14.640397Z"
    },
    "id": "0pkkO-VMghfd",
    "outputId": "cbb39215-e696-41f0-c1c2-19021edac8a3",
    "papermill": {
     "duration": 0.055334,
     "end_time": "2025-02-24T03:56:14.643419",
     "exception": false,
     "start_time": "2025-02-24T03:56:14.588085",
     "status": "completed"
    },
    "tags": []
   },
   "outputs": [
    {
     "data": {
      "text/html": [
       "<div>\n",
       "<style scoped>\n",
       "    .dataframe tbody tr th:only-of-type {\n",
       "        vertical-align: middle;\n",
       "    }\n",
       "\n",
       "    .dataframe tbody tr th {\n",
       "        vertical-align: top;\n",
       "    }\n",
       "\n",
       "    .dataframe thead th {\n",
       "        text-align: right;\n",
       "    }\n",
       "</style>\n",
       "<table border=\"1\" class=\"dataframe\">\n",
       "  <thead>\n",
       "    <tr style=\"text-align: right;\">\n",
       "      <th></th>\n",
       "      <th>participant_id</th>\n",
       "      <th>Predicted_Gender</th>\n",
       "      <th>Predicted_ADHD</th>\n",
       "    </tr>\n",
       "  </thead>\n",
       "  <tbody>\n",
       "    <tr>\n",
       "      <th>0</th>\n",
       "      <td>Cfwaf5FX7jWK</td>\n",
       "      <td>1</td>\n",
       "      <td>0</td>\n",
       "    </tr>\n",
       "    <tr>\n",
       "      <th>1</th>\n",
       "      <td>vhGrzmvA3Hjq</td>\n",
       "      <td>1</td>\n",
       "      <td>0</td>\n",
       "    </tr>\n",
       "    <tr>\n",
       "      <th>2</th>\n",
       "      <td>ULliyEXjy4OV</td>\n",
       "      <td>1</td>\n",
       "      <td>0</td>\n",
       "    </tr>\n",
       "    <tr>\n",
       "      <th>3</th>\n",
       "      <td>LZfeAb1xMtql</td>\n",
       "      <td>1</td>\n",
       "      <td>0</td>\n",
       "    </tr>\n",
       "    <tr>\n",
       "      <th>4</th>\n",
       "      <td>EnFOUv0YK1RG</td>\n",
       "      <td>1</td>\n",
       "      <td>0</td>\n",
       "    </tr>\n",
       "  </tbody>\n",
       "</table>\n",
       "</div>"
      ],
      "text/plain": [
       "  participant_id  Predicted_Gender  Predicted_ADHD\n",
       "0   Cfwaf5FX7jWK                 1               0\n",
       "1   vhGrzmvA3Hjq                 1               0\n",
       "2   ULliyEXjy4OV                 1               0\n",
       "3   LZfeAb1xMtql                 1               0\n",
       "4   EnFOUv0YK1RG                 1               0"
      ]
     },
     "execution_count": 82,
     "metadata": {},
     "output_type": "execute_result"
    }
   ],
   "source": [
    "# Convert predictions to a DataFrame\n",
    "predictions_df_2 = pd.DataFrame(\n",
    "    y_pred_2,\n",
    "    columns=['Predicted_Gender', 'Predicted_ADHD']\n",
    ")\n",
    "\n",
    "# Combine participant IDs with predictions\n",
    "result_df_2 = pd.concat([participant_id.reset_index(drop=True), predictions_df_2], axis=1)\n",
    "\n",
    "result_df_2.head()"
   ]
  },
  {
   "cell_type": "markdown",
   "id": "a64171a6",
   "metadata": {
    "id": "nzB0zCO_gT9B",
    "papermill": {
     "duration": 0.040683,
     "end_time": "2025-02-24T03:56:14.725062",
     "exception": false,
     "start_time": "2025-02-24T03:56:14.684379",
     "status": "completed"
    },
    "tags": []
   },
   "source": [
    "#### Evaluate the Model: Cross Validation"
   ]
  },
  {
   "cell_type": "code",
   "execution_count": 83,
   "id": "ec6796de",
   "metadata": {
    "execution": {
     "iopub.execute_input": "2025-02-24T03:56:14.812106Z",
     "iopub.status.busy": "2025-02-24T03:56:14.811719Z",
     "iopub.status.idle": "2025-02-24T03:56:14.816420Z",
     "shell.execute_reply": "2025-02-24T03:56:14.815114Z"
    },
    "id": "JGxsTdTCgPI7",
    "papermill": {
     "duration": 0.051037,
     "end_time": "2025-02-24T03:56:14.818429",
     "exception": false,
     "start_time": "2025-02-24T03:56:14.767392",
     "status": "completed"
    },
    "tags": []
   },
   "outputs": [],
   "source": [
    "from sklearn.model_selection import cross_val_score\n",
    "from sklearn.metrics import make_scorer, accuracy_score"
   ]
  },
  {
   "cell_type": "code",
   "execution_count": 84,
   "id": "701aef67",
   "metadata": {
    "execution": {
     "iopub.execute_input": "2025-02-24T03:56:14.901860Z",
     "iopub.status.busy": "2025-02-24T03:56:14.901457Z",
     "iopub.status.idle": "2025-02-24T03:56:14.905921Z",
     "shell.execute_reply": "2025-02-24T03:56:14.904712Z"
    },
    "id": "lJZ2_c87ABLI",
    "papermill": {
     "duration": 0.048287,
     "end_time": "2025-02-24T03:56:14.907997",
     "exception": false,
     "start_time": "2025-02-24T03:56:14.859710",
     "status": "completed"
    },
    "tags": []
   },
   "outputs": [],
   "source": [
    "# Create a scorer using scikit-learn's make_scorer\n",
    "multi_output_scorer = make_scorer(multi_output_accuracy)"
   ]
  },
  {
   "cell_type": "code",
   "execution_count": 85,
   "id": "e9b44bc6",
   "metadata": {
    "execution": {
     "iopub.execute_input": "2025-02-24T03:56:14.991890Z",
     "iopub.status.busy": "2025-02-24T03:56:14.991515Z",
     "iopub.status.idle": "2025-02-24T03:56:15.741215Z",
     "shell.execute_reply": "2025-02-24T03:56:15.740116Z"
    },
    "id": "54L8y5uqgmlu",
    "outputId": "c12bdcc8-f0f3-4e92-c7c8-38a2c92ee26e",
    "papermill": {
     "duration": 0.794824,
     "end_time": "2025-02-24T03:56:15.743419",
     "exception": false,
     "start_time": "2025-02-24T03:56:14.948595",
     "status": "completed"
    },
    "tags": []
   },
   "outputs": [
    {
     "name": "stdout",
     "output_type": "stream",
     "text": [
      "Cross-validation scores for each fold: [0.72839506 0.76954733 0.70576132 0.54338843 0.25206612]\n",
      "Mean CV score: 0.5998316498316497\n"
     ]
    }
   ],
   "source": [
    "# Perform cross-validation on the training data\n",
    "cv_scores_2 = cross_val_score(multioutput_classifier, X_train_2, Y_train, cv=5, scoring=multi_output_scorer)\n",
    "\n",
    "# Output the cross-validation results\n",
    "print(\"Cross-validation scores for each fold:\", cv_scores_2)\n",
    "print(\"Mean CV score:\", np.mean(cv_scores_2))\n",
    "\n",
    "#Cross-validation scores for each fold: [0.79423868 0.79218107 0.71193416 0.69834711 0.39669421]\n",
    "#Mean CV score: 0.678679046355814"
   ]
  },
  {
   "cell_type": "code",
   "execution_count": 86,
   "id": "ed2d18e4",
   "metadata": {
    "execution": {
     "iopub.execute_input": "2025-02-24T03:56:15.831091Z",
     "iopub.status.busy": "2025-02-24T03:56:15.830738Z",
     "iopub.status.idle": "2025-02-24T03:56:15.843008Z",
     "shell.execute_reply": "2025-02-24T03:56:15.841642Z"
    },
    "papermill": {
     "duration": 0.057391,
     "end_time": "2025-02-24T03:56:15.844969",
     "exception": false,
     "start_time": "2025-02-24T03:56:15.787578",
     "status": "completed"
    },
    "tags": []
   },
   "outputs": [
    {
     "name": "stdout",
     "output_type": "stream",
     "text": [
      "Predictions saved to submission.csv\n"
     ]
    }
   ],
   "source": [
    "result_df_2.to_csv(\"submission.csv\", index=False)\n",
    "print(\"Predictions saved to submission.csv\")"
   ]
  }
 ],
 "metadata": {
  "colab": {
   "collapsed_sections": [
    "fjPj9W2f3ygn",
    "wZAznwsu2RSe",
    "oRDNsCGc3uM8",
    "nKVPDyZMxPdk"
   ],
   "provenance": []
  },
  "kaggle": {
   "accelerator": "none",
   "dataSources": [
    {
     "databundleVersionId": 10712530,
     "sourceId": 90566,
     "sourceType": "competition"
    },
    {
     "datasetId": 6728703,
     "sourceId": 10835349,
     "sourceType": "datasetVersion"
    }
   ],
   "dockerImageVersionId": 30918,
   "isGpuEnabled": false,
   "isInternetEnabled": true,
   "language": "python",
   "sourceType": "notebook"
  },
  "kernelspec": {
   "display_name": "Python 3",
   "language": "python",
   "name": "python3"
  },
  "language_info": {
   "codemirror_mode": {
    "name": "ipython",
    "version": 3
   },
   "file_extension": ".py",
   "mimetype": "text/x-python",
   "name": "python",
   "nbconvert_exporter": "python",
   "pygments_lexer": "ipython3",
   "version": "3.10.12"
  },
  "papermill": {
   "default_parameters": {},
   "duration": 1923.400204,
   "end_time": "2025-02-24T03:56:16.811466",
   "environment_variables": {},
   "exception": null,
   "input_path": "__notebook__.ipynb",
   "output_path": "__notebook__.ipynb",
   "parameters": {},
   "start_time": "2025-02-24T03:24:13.411262",
   "version": "2.6.0"
  }
 },
 "nbformat": 4,
 "nbformat_minor": 5
}
